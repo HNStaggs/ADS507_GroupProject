{
 "cells": [
  {
   "cell_type": "markdown",
   "id": "efd8a16e",
   "metadata": {},
   "source": [
    "## Covid Impact Assessment\n",
    "\n",
    "### ADS 507 Team 3 - Final Team Project\n",
    "\n",
    "Halee Stags, Nishok Narayanan, Vicky van der Wagt\n"
   ]
  },
  {
   "cell_type": "markdown",
   "id": "541646c1",
   "metadata": {},
   "source": [
    "Github repository link: https://github.com/HNStaggs/ADS507_GroupProject.git"
   ]
  },
  {
   "cell_type": "markdown",
   "id": "c40f9934",
   "metadata": {},
   "source": [
    "---------------"
   ]
  },
  {
   "cell_type": "markdown",
   "id": "b176fa8d",
   "metadata": {},
   "source": [
    "Load Libraries and Functions"
   ]
  },
  {
   "cell_type": "code",
   "execution_count": 83,
   "id": "6f038c51",
   "metadata": {},
   "outputs": [],
   "source": [
    "import pandas as pd\n",
    "import numpy as np \n",
    "import pymysql as mysql \n",
    "import mysql.connector\n",
    "import warnings\n",
    "import matplotlib.pyplot as plt \n",
    "import csv\n",
    "import pyodbc\n",
    "import sqlite3\n",
    "import sqlalchemy \n",
    "from sqlalchemy import create_engine\n",
    "from sqlalchemy import event \n",
    "from tabulate import tabulate\n",
    "import plotly.express as px\n",
    "import seaborn as sns\n",
    "\n",
    "#mysql password\n",
    "PASSWORD = 'password'"
   ]
  },
  {
   "cell_type": "markdown",
   "id": "d476964b",
   "metadata": {},
   "source": [
    "## Preprocessing\n",
    "1. Import/connect to dataframes\n",
    "2. Explore/examine dataframes\n",
    "3. Clean/pre-process for upload to covid_db"
   ]
  },
  {
   "cell_type": "markdown",
   "id": "757d0ea6",
   "metadata": {},
   "source": [
    "### 1. Import/connect to dataframes"
   ]
  },
  {
   "cell_type": "code",
   "execution_count": null,
   "id": "1a874f15",
   "metadata": {},
   "outputs": [],
   "source": [
    "learn = pd.read_csv(\"learning_loss_covid_database.csv\")\n",
    "demos = pd.read_csv(\"https://storage.googleapis.com/covid19-open-data/v3/demographics.csv\")\n",
    "epi = pd.read_csv(\"https://storage.googleapis.com/covid19-open-data/v3/epidemiology.csv\")\n",
    "health = pd.read_csv(\"https://storage.googleapis.com/covid19-open-data/v3/health.csv\")\n",
    "vacc = pd.read_csv(\"https://storage.googleapis.com/covid19-open-data/v3/vaccinations.csv\")\n",
    "gdp = pd.read_csv(\"GDPForecast.csv\")\n",
    "regions = pd.read_csv(\"regions.csv\")"
   ]
  },
  {
   "cell_type": "markdown",
   "id": "eb97b03e",
   "metadata": {},
   "source": [
    "### 2. Explore/examine dataframes"
   ]
  },
  {
   "cell_type": "markdown",
   "id": "714cc4ad",
   "metadata": {},
   "source": [
    "Examine DataFrames Info: Shape, Datatypes, and Missing Values"
   ]
  },
  {
   "cell_type": "code",
   "execution_count": 12,
   "id": "1bb3591c",
   "metadata": {},
   "outputs": [
    {
     "name": "stdout",
     "output_type": "stream",
     "text": [
      "<class 'pandas.core.frame.DataFrame'>\n",
      "RangeIndex: 41 entries, 0 to 40\n",
      "Data columns (total 24 columns):\n",
      " #   Column       Non-Null Count  Dtype  \n",
      "---  ------       --------------  -----  \n",
      " 0   country      41 non-null     object \n",
      " 1   loss         41 non-null     float64\n",
      " 2   weeks        41 non-null     int64  \n",
      " 3   deaths       41 non-null     float64\n",
      " 4   gdp          41 non-null     float64\n",
      " 5   private      41 non-null     float64\n",
      " 6   internet     41 non-null     int64  \n",
      " 7   hlo          41 non-null     float64\n",
      " 8   vac          41 non-null     float64\n",
      " 9   stringency   41 non-null     float64\n",
      " 10  union        41 non-null     float64\n",
      " 11  polity       41 non-null     int64  \n",
      " 12  loggdp       41 non-null     float64\n",
      " 13  logweeks     39 non-null     float64\n",
      " 14  weeks2       41 non-null     int64  \n",
      " 15  pop          41 non-null     int64  \n",
      " 16  schooling    41 non-null     float64\n",
      " 17  wbcode       41 non-null     object \n",
      " 18  region_code  41 non-null     object \n",
      " 19  hlo25        41 non-null     float64\n",
      " 20  oecd         41 non-null     int64  \n",
      " 21  covid        41 non-null     float64\n",
      " 22  high         41 non-null     int64  \n",
      " 23  covid25      41 non-null     float64\n",
      "dtypes: float64(14), int64(7), object(3)\n",
      "memory usage: 7.8+ KB\n",
      "<class 'pandas.core.frame.DataFrame'>\n",
      "RangeIndex: 21689 entries, 0 to 21688\n",
      "Data columns (total 19 columns):\n",
      " #   Column                       Non-Null Count  Dtype  \n",
      "---  ------                       --------------  -----  \n",
      " 0   location_key                 21688 non-null  object \n",
      " 1   population                   21659 non-null  float64\n",
      " 2   population_male              17607 non-null  float64\n",
      " 3   population_female            17607 non-null  float64\n",
      " 4   population_rural             213 non-null    float64\n",
      " 5   population_urban             213 non-null    float64\n",
      " 6   population_largest_city      152 non-null    float64\n",
      " 7   population_clustered         121 non-null    float64\n",
      " 8   population_density           1192 non-null   float64\n",
      " 9   human_development_index      5738 non-null   float64\n",
      " 10  population_age_00_09         17249 non-null  float64\n",
      " 11  population_age_10_19         17248 non-null  float64\n",
      " 12  population_age_20_29         17248 non-null  float64\n",
      " 13  population_age_30_39         17256 non-null  float64\n",
      " 14  population_age_40_49         17250 non-null  float64\n",
      " 15  population_age_50_59         17232 non-null  float64\n",
      " 16  population_age_60_69         17214 non-null  float64\n",
      " 17  population_age_70_79         17127 non-null  float64\n",
      " 18  population_age_80_and_older  16960 non-null  float64\n",
      "dtypes: float64(18), object(1)\n",
      "memory usage: 3.1+ MB\n",
      "<class 'pandas.core.frame.DataFrame'>\n",
      "RangeIndex: 12525825 entries, 0 to 12525824\n",
      "Data columns (total 10 columns):\n",
      " #   Column                Dtype  \n",
      "---  ------                -----  \n",
      " 0   date                  object \n",
      " 1   location_key          object \n",
      " 2   new_confirmed         float64\n",
      " 3   new_deceased          float64\n",
      " 4   new_recovered         float64\n",
      " 5   new_tested            float64\n",
      " 6   cumulative_confirmed  float64\n",
      " 7   cumulative_deceased   float64\n",
      " 8   cumulative_recovered  float64\n",
      " 9   cumulative_tested     float64\n",
      "dtypes: float64(8), object(2)\n",
      "memory usage: 955.6+ MB\n",
      "<class 'pandas.core.frame.DataFrame'>\n",
      "RangeIndex: 3504 entries, 0 to 3503\n",
      "Data columns (total 14 columns):\n",
      " #   Column                                Non-Null Count  Dtype  \n",
      "---  ------                                --------------  -----  \n",
      " 0   location_key                          3503 non-null   object \n",
      " 1   life_expectancy                       3499 non-null   float64\n",
      " 2   smoking_prevalence                    146 non-null    float64\n",
      " 3   diabetes_prevalence                   209 non-null    float64\n",
      " 4   infant_mortality_rate                 193 non-null    float64\n",
      " 5   adult_male_mortality_rate             189 non-null    float64\n",
      " 6   adult_female_mortality_rate           189 non-null    float64\n",
      " 7   pollution_mortality_rate              183 non-null    float64\n",
      " 8   comorbidity_mortality_rate            183 non-null    float64\n",
      " 9   hospital_beds_per_1000                25 non-null     float64\n",
      " 10  nurses_per_1000                       180 non-null    float64\n",
      " 11  physicians_per_1000                   164 non-null    float64\n",
      " 12  health_expenditure_usd                186 non-null    float64\n",
      " 13  out_of_pocket_health_expenditure_usd  186 non-null    float64\n",
      "dtypes: float64(13), object(1)\n",
      "memory usage: 383.4+ KB\n",
      "<class 'pandas.core.frame.DataFrame'>\n",
      "RangeIndex: 2545118 entries, 0 to 2545117\n",
      "Data columns (total 32 columns):\n",
      " #   Column                                         Dtype  \n",
      "---  ------                                         -----  \n",
      " 0   date                                           object \n",
      " 1   location_key                                   object \n",
      " 2   new_persons_vaccinated                         float64\n",
      " 3   cumulative_persons_vaccinated                  float64\n",
      " 4   new_persons_fully_vaccinated                   float64\n",
      " 5   cumulative_persons_fully_vaccinated            float64\n",
      " 6   new_vaccine_doses_administered                 float64\n",
      " 7   cumulative_vaccine_doses_administered          float64\n",
      " 8   new_persons_vaccinated_pfizer                  float64\n",
      " 9   cumulative_persons_vaccinated_pfizer           float64\n",
      " 10  new_persons_fully_vaccinated_pfizer            float64\n",
      " 11  cumulative_persons_fully_vaccinated_pfizer     float64\n",
      " 12  new_vaccine_doses_administered_pfizer          float64\n",
      " 13  cumulative_vaccine_doses_administered_pfizer   float64\n",
      " 14  new_persons_vaccinated_moderna                 float64\n",
      " 15  cumulative_persons_vaccinated_moderna          float64\n",
      " 16  new_persons_fully_vaccinated_moderna           float64\n",
      " 17  cumulative_persons_fully_vaccinated_moderna    float64\n",
      " 18  new_vaccine_doses_administered_moderna         float64\n",
      " 19  cumulative_vaccine_doses_administered_moderna  float64\n",
      " 20  new_persons_vaccinated_janssen                 float64\n",
      " 21  cumulative_persons_vaccinated_janssen          float64\n",
      " 22  new_persons_fully_vaccinated_janssen           float64\n",
      " 23  cumulative_persons_fully_vaccinated_janssen    float64\n",
      " 24  new_vaccine_doses_administered_janssen         float64\n",
      " 25  cumulative_vaccine_doses_administered_janssen  float64\n",
      " 26  new_persons_vaccinated_sinovac                 float64\n",
      " 27  total_persons_vaccinated_sinovac               float64\n",
      " 28  new_persons_fully_vaccinated_sinovac           float64\n",
      " 29  total_persons_fully_vaccinated_sinovac         float64\n",
      " 30  new_vaccine_doses_administered_sinovac         float64\n",
      " 31  total_vaccine_doses_administered_sinovac       float64\n",
      "dtypes: float64(30), object(2)\n",
      "memory usage: 621.4+ MB\n",
      "<class 'pandas.core.frame.DataFrame'>\n",
      "RangeIndex: 228 entries, 0 to 227\n",
      "Data columns (total 50 columns):\n",
      " #   Column                                   Non-Null Count  Dtype \n",
      "---  ------                                   --------------  ----- \n",
      " 0   Real GDP growth (Annual percent change)  228 non-null    object\n",
      " 1   1980                                     228 non-null    object\n",
      " 2   1981                                     228 non-null    object\n",
      " 3   1982                                     228 non-null    object\n",
      " 4   1983                                     228 non-null    object\n",
      " 5   1984                                     228 non-null    object\n",
      " 6   1985                                     228 non-null    object\n",
      " 7   1986                                     228 non-null    object\n",
      " 8   1987                                     228 non-null    object\n",
      " 9   1988                                     228 non-null    object\n",
      " 10  1989                                     228 non-null    object\n",
      " 11  1990                                     228 non-null    object\n",
      " 12  1991                                     228 non-null    object\n",
      " 13  1992                                     228 non-null    object\n",
      " 14  1993                                     228 non-null    object\n",
      " 15  1994                                     228 non-null    object\n",
      " 16  1995                                     228 non-null    object\n",
      " 17  1996                                     228 non-null    object\n",
      " 18  1997                                     228 non-null    object\n",
      " 19  1998                                     228 non-null    object\n",
      " 20  1999                                     228 non-null    object\n",
      " 21  2000                                     228 non-null    object\n",
      " 22  2001                                     228 non-null    object\n",
      " 23  2002                                     228 non-null    object\n",
      " 24  2003                                     228 non-null    object\n",
      " 25  2004                                     228 non-null    object\n",
      " 26  2005                                     228 non-null    object\n",
      " 27  2006                                     228 non-null    object\n",
      " 28  2007                                     228 non-null    object\n",
      " 29  2008                                     228 non-null    object\n",
      " 30  2009                                     228 non-null    object\n",
      " 31  2010                                     228 non-null    object\n",
      " 32  2011                                     228 non-null    object\n",
      " 33  2012                                     228 non-null    object\n",
      " 34  2013                                     228 non-null    object\n",
      " 35  2014                                     228 non-null    object\n",
      " 36  2015                                     228 non-null    object\n",
      " 37  2016                                     228 non-null    object\n",
      " 38  2017                                     228 non-null    object\n",
      " 39  2018                                     228 non-null    object\n",
      " 40  2019                                     228 non-null    object\n",
      " 41  2020                                     228 non-null    object\n",
      " 42  2021                                     228 non-null    object\n",
      " 43  2022                                     228 non-null    object\n",
      " 44  2023                                     228 non-null    object\n",
      " 45  2024                                     228 non-null    object\n",
      " 46  2025                                     228 non-null    object\n",
      " 47  2026                                     228 non-null    object\n",
      " 48  2027                                     228 non-null    object\n",
      " 49  2028                                     228 non-null    object\n",
      "dtypes: object(50)\n",
      "memory usage: 89.2+ KB\n"
     ]
    }
   ],
   "source": [
    "learn.info()\n",
    "demos.info() \n",
    "epi.info()\n",
    "health.info() \n",
    "vacc.info()\n",
    "gdp.info()"
   ]
  },
  {
   "cell_type": "markdown",
   "id": "87cca1d0",
   "metadata": {},
   "source": [
    "**View Dataframes and Make Note of Redundant Variables within Datasets and Between Datasets**"
   ]
  },
  {
   "cell_type": "code",
   "execution_count": 13,
   "id": "05878f87",
   "metadata": {},
   "outputs": [
    {
     "data": {
      "text/html": [
       "<div>\n",
       "<style scoped>\n",
       "    .dataframe tbody tr th:only-of-type {\n",
       "        vertical-align: middle;\n",
       "    }\n",
       "\n",
       "    .dataframe tbody tr th {\n",
       "        vertical-align: top;\n",
       "    }\n",
       "\n",
       "    .dataframe thead th {\n",
       "        text-align: right;\n",
       "    }\n",
       "</style>\n",
       "<table border=\"1\" class=\"dataframe\">\n",
       "  <thead>\n",
       "    <tr style=\"text-align: right;\">\n",
       "      <th></th>\n",
       "      <th>country</th>\n",
       "      <th>loss</th>\n",
       "      <th>weeks</th>\n",
       "      <th>deaths</th>\n",
       "      <th>gdp</th>\n",
       "      <th>private</th>\n",
       "      <th>internet</th>\n",
       "      <th>hlo</th>\n",
       "      <th>vac</th>\n",
       "      <th>stringency</th>\n",
       "      <th>...</th>\n",
       "      <th>weeks2</th>\n",
       "      <th>pop</th>\n",
       "      <th>schooling</th>\n",
       "      <th>wbcode</th>\n",
       "      <th>region_code</th>\n",
       "      <th>hlo25</th>\n",
       "      <th>oecd</th>\n",
       "      <th>covid</th>\n",
       "      <th>high</th>\n",
       "      <th>covid25</th>\n",
       "    </tr>\n",
       "  </thead>\n",
       "  <tbody>\n",
       "    <tr>\n",
       "      <th>0</th>\n",
       "      <td>Argentina</td>\n",
       "      <td>0.44</td>\n",
       "      <td>39</td>\n",
       "      <td>288.00</td>\n",
       "      <td>8585.69</td>\n",
       "      <td>26.08010</td>\n",
       "      <td>86</td>\n",
       "      <td>457.418</td>\n",
       "      <td>65.0681</td>\n",
       "      <td>67.0396</td>\n",
       "      <td>...</td>\n",
       "      <td>1521</td>\n",
       "      <td>45000000</td>\n",
       "      <td>9.51</td>\n",
       "      <td>ARG</td>\n",
       "      <td>Latin America and the Caribbean</td>\n",
       "      <td>18.2967</td>\n",
       "      <td>0</td>\n",
       "      <td>413.418</td>\n",
       "      <td>0</td>\n",
       "      <td>16.5367</td>\n",
       "    </tr>\n",
       "    <tr>\n",
       "      <th>1</th>\n",
       "      <td>Australia</td>\n",
       "      <td>0.01</td>\n",
       "      <td>8</td>\n",
       "      <td>60.37</td>\n",
       "      <td>51680.30</td>\n",
       "      <td>29.53870</td>\n",
       "      <td>90</td>\n",
       "      <td>544.360</td>\n",
       "      <td>64.0000</td>\n",
       "      <td>61.0000</td>\n",
       "      <td>...</td>\n",
       "      <td>64</td>\n",
       "      <td>26000000</td>\n",
       "      <td>11.54</td>\n",
       "      <td>AUS</td>\n",
       "      <td>Advanced Economies</td>\n",
       "      <td>21.7744</td>\n",
       "      <td>1</td>\n",
       "      <td>543.360</td>\n",
       "      <td>1</td>\n",
       "      <td>21.7344</td>\n",
       "    </tr>\n",
       "    <tr>\n",
       "      <th>2</th>\n",
       "      <td>Bangladesh</td>\n",
       "      <td>0.28</td>\n",
       "      <td>63</td>\n",
       "      <td>17.84</td>\n",
       "      <td>2270.35</td>\n",
       "      <td>23.90350</td>\n",
       "      <td>25</td>\n",
       "      <td>340.088</td>\n",
       "      <td>17.0000</td>\n",
       "      <td>70.0000</td>\n",
       "      <td>...</td>\n",
       "      <td>3969</td>\n",
       "      <td>170000000</td>\n",
       "      <td>5.91</td>\n",
       "      <td>BGD</td>\n",
       "      <td>South Asia</td>\n",
       "      <td>13.6035</td>\n",
       "      <td>0</td>\n",
       "      <td>312.088</td>\n",
       "      <td>0</td>\n",
       "      <td>12.4835</td>\n",
       "    </tr>\n",
       "    <tr>\n",
       "      <th>3</th>\n",
       "      <td>Belgium</td>\n",
       "      <td>0.23</td>\n",
       "      <td>9</td>\n",
       "      <td>284.67</td>\n",
       "      <td>45189.40</td>\n",
       "      <td>54.17840</td>\n",
       "      <td>92</td>\n",
       "      <td>340.088</td>\n",
       "      <td>87.0000</td>\n",
       "      <td>50.0000</td>\n",
       "      <td>...</td>\n",
       "      <td>81</td>\n",
       "      <td>11000000</td>\n",
       "      <td>10.69</td>\n",
       "      <td>BEL</td>\n",
       "      <td>Advanced Economies</td>\n",
       "      <td>13.6035</td>\n",
       "      <td>1</td>\n",
       "      <td>317.088</td>\n",
       "      <td>1</td>\n",
       "      <td>12.6835</td>\n",
       "    </tr>\n",
       "    <tr>\n",
       "      <th>4</th>\n",
       "      <td>Botswana</td>\n",
       "      <td>0.29</td>\n",
       "      <td>11</td>\n",
       "      <td>118.60</td>\n",
       "      <td>6348.83</td>\n",
       "      <td>6.93809</td>\n",
       "      <td>64</td>\n",
       "      <td>417.656</td>\n",
       "      <td>12.0000</td>\n",
       "      <td>50.0000</td>\n",
       "      <td>...</td>\n",
       "      <td>121</td>\n",
       "      <td>2300000</td>\n",
       "      <td>9.55</td>\n",
       "      <td>BWA</td>\n",
       "      <td>Sub-Saharan Africa</td>\n",
       "      <td>16.7062</td>\n",
       "      <td>0</td>\n",
       "      <td>388.656</td>\n",
       "      <td>0</td>\n",
       "      <td>15.5462</td>\n",
       "    </tr>\n",
       "  </tbody>\n",
       "</table>\n",
       "<p>5 rows × 24 columns</p>\n",
       "</div>"
      ],
      "text/plain": [
       "      country  loss  weeks  deaths       gdp   private  internet      hlo  \\\n",
       "0   Argentina  0.44     39  288.00   8585.69  26.08010        86  457.418   \n",
       "1   Australia  0.01      8   60.37  51680.30  29.53870        90  544.360   \n",
       "2  Bangladesh  0.28     63   17.84   2270.35  23.90350        25  340.088   \n",
       "3     Belgium  0.23      9  284.67  45189.40  54.17840        92  340.088   \n",
       "4    Botswana  0.29     11  118.60   6348.83   6.93809        64  417.656   \n",
       "\n",
       "       vac  stringency  ...  weeks2        pop  schooling  wbcode  \\\n",
       "0  65.0681     67.0396  ...    1521   45000000       9.51     ARG   \n",
       "1  64.0000     61.0000  ...      64   26000000      11.54     AUS   \n",
       "2  17.0000     70.0000  ...    3969  170000000       5.91     BGD   \n",
       "3  87.0000     50.0000  ...      81   11000000      10.69     BEL   \n",
       "4  12.0000     50.0000  ...     121    2300000       9.55     BWA   \n",
       "\n",
       "                       region_code    hlo25  oecd    covid high  covid25  \n",
       "0  Latin America and the Caribbean  18.2967     0  413.418    0  16.5367  \n",
       "1               Advanced Economies  21.7744     1  543.360    1  21.7344  \n",
       "2                       South Asia  13.6035     0  312.088    0  12.4835  \n",
       "3               Advanced Economies  13.6035     1  317.088    1  12.6835  \n",
       "4               Sub-Saharan Africa  16.7062     0  388.656    0  15.5462  \n",
       "\n",
       "[5 rows x 24 columns]"
      ]
     },
     "execution_count": 13,
     "metadata": {},
     "output_type": "execute_result"
    }
   ],
   "source": [
    "# Redundant information: deaths, gdp, vac, loggdp, logweeks, weeks2, pop, hlo25, covid25\n",
    "# Update column 1 name to \"country_name\"\n",
    "learn.head()"
   ]
  },
  {
   "cell_type": "code",
   "execution_count": 14,
   "id": "3383d6d7",
   "metadata": {},
   "outputs": [
    {
     "data": {
      "text/html": [
       "<div>\n",
       "<style scoped>\n",
       "    .dataframe tbody tr th:only-of-type {\n",
       "        vertical-align: middle;\n",
       "    }\n",
       "\n",
       "    .dataframe tbody tr th {\n",
       "        vertical-align: top;\n",
       "    }\n",
       "\n",
       "    .dataframe thead th {\n",
       "        text-align: right;\n",
       "    }\n",
       "</style>\n",
       "<table border=\"1\" class=\"dataframe\">\n",
       "  <thead>\n",
       "    <tr style=\"text-align: right;\">\n",
       "      <th></th>\n",
       "      <th>location_key</th>\n",
       "      <th>population</th>\n",
       "      <th>population_male</th>\n",
       "      <th>population_female</th>\n",
       "      <th>population_rural</th>\n",
       "      <th>population_urban</th>\n",
       "      <th>population_largest_city</th>\n",
       "      <th>population_clustered</th>\n",
       "      <th>population_density</th>\n",
       "      <th>human_development_index</th>\n",
       "      <th>population_age_00_09</th>\n",
       "      <th>population_age_10_19</th>\n",
       "      <th>population_age_20_29</th>\n",
       "      <th>population_age_30_39</th>\n",
       "      <th>population_age_40_49</th>\n",
       "      <th>population_age_50_59</th>\n",
       "      <th>population_age_60_69</th>\n",
       "      <th>population_age_70_79</th>\n",
       "      <th>population_age_80_and_older</th>\n",
       "    </tr>\n",
       "  </thead>\n",
       "  <tbody>\n",
       "    <tr>\n",
       "      <th>0</th>\n",
       "      <td>AD</td>\n",
       "      <td>77265.0</td>\n",
       "      <td>58625.0</td>\n",
       "      <td>55581.0</td>\n",
       "      <td>9269.0</td>\n",
       "      <td>67873.0</td>\n",
       "      <td>NaN</td>\n",
       "      <td>NaN</td>\n",
       "      <td>164.394</td>\n",
       "      <td>0.858</td>\n",
       "      <td>9370.0</td>\n",
       "      <td>12022.0</td>\n",
       "      <td>10727.0</td>\n",
       "      <td>12394.0</td>\n",
       "      <td>21001.0</td>\n",
       "      <td>20720.0</td>\n",
       "      <td>14433.0</td>\n",
       "      <td>8657.0</td>\n",
       "      <td>4881.0</td>\n",
       "    </tr>\n",
       "    <tr>\n",
       "      <th>1</th>\n",
       "      <td>AE</td>\n",
       "      <td>9890400.0</td>\n",
       "      <td>6836349.0</td>\n",
       "      <td>3054051.0</td>\n",
       "      <td>1290785.0</td>\n",
       "      <td>8479744.0</td>\n",
       "      <td>2833079.0</td>\n",
       "      <td>5914068.0</td>\n",
       "      <td>118.306</td>\n",
       "      <td>0.863</td>\n",
       "      <td>1011713.0</td>\n",
       "      <td>842991.0</td>\n",
       "      <td>2149343.0</td>\n",
       "      <td>3169314.0</td>\n",
       "      <td>1608109.0</td>\n",
       "      <td>797913.0</td>\n",
       "      <td>242707.0</td>\n",
       "      <td>55884.0</td>\n",
       "      <td>12426.0</td>\n",
       "    </tr>\n",
       "    <tr>\n",
       "      <th>2</th>\n",
       "      <td>AF</td>\n",
       "      <td>38928341.0</td>\n",
       "      <td>19976265.0</td>\n",
       "      <td>18952076.0</td>\n",
       "      <td>28244481.0</td>\n",
       "      <td>9797273.0</td>\n",
       "      <td>4114030.0</td>\n",
       "      <td>4114030.0</td>\n",
       "      <td>59.627</td>\n",
       "      <td>0.498</td>\n",
       "      <td>11088732.0</td>\n",
       "      <td>9821559.0</td>\n",
       "      <td>7035871.0</td>\n",
       "      <td>4534646.0</td>\n",
       "      <td>2963459.0</td>\n",
       "      <td>1840198.0</td>\n",
       "      <td>1057496.0</td>\n",
       "      <td>480455.0</td>\n",
       "      <td>105925.0</td>\n",
       "    </tr>\n",
       "    <tr>\n",
       "      <th>3</th>\n",
       "      <td>AF_BAL</td>\n",
       "      <td>1509183.0</td>\n",
       "      <td>NaN</td>\n",
       "      <td>NaN</td>\n",
       "      <td>NaN</td>\n",
       "      <td>NaN</td>\n",
       "      <td>NaN</td>\n",
       "      <td>NaN</td>\n",
       "      <td>NaN</td>\n",
       "      <td>NaN</td>\n",
       "      <td>NaN</td>\n",
       "      <td>NaN</td>\n",
       "      <td>NaN</td>\n",
       "      <td>NaN</td>\n",
       "      <td>NaN</td>\n",
       "      <td>NaN</td>\n",
       "      <td>NaN</td>\n",
       "      <td>NaN</td>\n",
       "      <td>NaN</td>\n",
       "    </tr>\n",
       "    <tr>\n",
       "      <th>4</th>\n",
       "      <td>AF_BAM</td>\n",
       "      <td>495557.0</td>\n",
       "      <td>NaN</td>\n",
       "      <td>NaN</td>\n",
       "      <td>NaN</td>\n",
       "      <td>NaN</td>\n",
       "      <td>NaN</td>\n",
       "      <td>NaN</td>\n",
       "      <td>NaN</td>\n",
       "      <td>NaN</td>\n",
       "      <td>NaN</td>\n",
       "      <td>NaN</td>\n",
       "      <td>NaN</td>\n",
       "      <td>NaN</td>\n",
       "      <td>NaN</td>\n",
       "      <td>NaN</td>\n",
       "      <td>NaN</td>\n",
       "      <td>NaN</td>\n",
       "      <td>NaN</td>\n",
       "    </tr>\n",
       "  </tbody>\n",
       "</table>\n",
       "</div>"
      ],
      "text/plain": [
       "  location_key  population  population_male  population_female  \\\n",
       "0           AD     77265.0          58625.0            55581.0   \n",
       "1           AE   9890400.0        6836349.0          3054051.0   \n",
       "2           AF  38928341.0       19976265.0         18952076.0   \n",
       "3       AF_BAL   1509183.0              NaN                NaN   \n",
       "4       AF_BAM    495557.0              NaN                NaN   \n",
       "\n",
       "   population_rural  population_urban  population_largest_city  \\\n",
       "0            9269.0           67873.0                      NaN   \n",
       "1         1290785.0         8479744.0                2833079.0   \n",
       "2        28244481.0         9797273.0                4114030.0   \n",
       "3               NaN               NaN                      NaN   \n",
       "4               NaN               NaN                      NaN   \n",
       "\n",
       "   population_clustered  population_density  human_development_index  \\\n",
       "0                   NaN             164.394                    0.858   \n",
       "1             5914068.0             118.306                    0.863   \n",
       "2             4114030.0              59.627                    0.498   \n",
       "3                   NaN                 NaN                      NaN   \n",
       "4                   NaN                 NaN                      NaN   \n",
       "\n",
       "   population_age_00_09  population_age_10_19  population_age_20_29  \\\n",
       "0                9370.0               12022.0               10727.0   \n",
       "1             1011713.0              842991.0             2149343.0   \n",
       "2            11088732.0             9821559.0             7035871.0   \n",
       "3                   NaN                   NaN                   NaN   \n",
       "4                   NaN                   NaN                   NaN   \n",
       "\n",
       "   population_age_30_39  population_age_40_49  population_age_50_59  \\\n",
       "0               12394.0               21001.0               20720.0   \n",
       "1             3169314.0             1608109.0              797913.0   \n",
       "2             4534646.0             2963459.0             1840198.0   \n",
       "3                   NaN                   NaN                   NaN   \n",
       "4                   NaN                   NaN                   NaN   \n",
       "\n",
       "   population_age_60_69  population_age_70_79  population_age_80_and_older  \n",
       "0               14433.0                8657.0                       4881.0  \n",
       "1              242707.0               55884.0                      12426.0  \n",
       "2             1057496.0              480455.0                     105925.0  \n",
       "3                   NaN                   NaN                          NaN  \n",
       "4                   NaN                   NaN                          NaN  "
      ]
     },
     "execution_count": 14,
     "metadata": {},
     "output_type": "execute_result"
    }
   ],
   "source": [
    "# Redundant information: Shows total country data, and then breaks down some countries by region or province. Need to reduce to whole country data only.\n",
    "demos.head()"
   ]
  },
  {
   "cell_type": "code",
   "execution_count": 15,
   "id": "365a3064",
   "metadata": {},
   "outputs": [
    {
     "data": {
      "text/html": [
       "<div>\n",
       "<style scoped>\n",
       "    .dataframe tbody tr th:only-of-type {\n",
       "        vertical-align: middle;\n",
       "    }\n",
       "\n",
       "    .dataframe tbody tr th {\n",
       "        vertical-align: top;\n",
       "    }\n",
       "\n",
       "    .dataframe thead th {\n",
       "        text-align: right;\n",
       "    }\n",
       "</style>\n",
       "<table border=\"1\" class=\"dataframe\">\n",
       "  <thead>\n",
       "    <tr style=\"text-align: right;\">\n",
       "      <th></th>\n",
       "      <th>date</th>\n",
       "      <th>location_key</th>\n",
       "      <th>new_confirmed</th>\n",
       "      <th>new_deceased</th>\n",
       "      <th>new_recovered</th>\n",
       "      <th>new_tested</th>\n",
       "      <th>cumulative_confirmed</th>\n",
       "      <th>cumulative_deceased</th>\n",
       "      <th>cumulative_recovered</th>\n",
       "      <th>cumulative_tested</th>\n",
       "    </tr>\n",
       "  </thead>\n",
       "  <tbody>\n",
       "    <tr>\n",
       "      <th>0</th>\n",
       "      <td>2020-01-01</td>\n",
       "      <td>AD</td>\n",
       "      <td>0.0</td>\n",
       "      <td>0.0</td>\n",
       "      <td>NaN</td>\n",
       "      <td>NaN</td>\n",
       "      <td>0.0</td>\n",
       "      <td>0.0</td>\n",
       "      <td>NaN</td>\n",
       "      <td>NaN</td>\n",
       "    </tr>\n",
       "    <tr>\n",
       "      <th>1</th>\n",
       "      <td>2020-01-02</td>\n",
       "      <td>AD</td>\n",
       "      <td>0.0</td>\n",
       "      <td>0.0</td>\n",
       "      <td>NaN</td>\n",
       "      <td>NaN</td>\n",
       "      <td>0.0</td>\n",
       "      <td>0.0</td>\n",
       "      <td>NaN</td>\n",
       "      <td>NaN</td>\n",
       "    </tr>\n",
       "    <tr>\n",
       "      <th>2</th>\n",
       "      <td>2020-01-03</td>\n",
       "      <td>AD</td>\n",
       "      <td>0.0</td>\n",
       "      <td>0.0</td>\n",
       "      <td>NaN</td>\n",
       "      <td>NaN</td>\n",
       "      <td>0.0</td>\n",
       "      <td>0.0</td>\n",
       "      <td>NaN</td>\n",
       "      <td>NaN</td>\n",
       "    </tr>\n",
       "    <tr>\n",
       "      <th>3</th>\n",
       "      <td>2020-01-04</td>\n",
       "      <td>AD</td>\n",
       "      <td>0.0</td>\n",
       "      <td>0.0</td>\n",
       "      <td>NaN</td>\n",
       "      <td>NaN</td>\n",
       "      <td>0.0</td>\n",
       "      <td>0.0</td>\n",
       "      <td>NaN</td>\n",
       "      <td>NaN</td>\n",
       "    </tr>\n",
       "    <tr>\n",
       "      <th>4</th>\n",
       "      <td>2020-01-05</td>\n",
       "      <td>AD</td>\n",
       "      <td>0.0</td>\n",
       "      <td>0.0</td>\n",
       "      <td>NaN</td>\n",
       "      <td>NaN</td>\n",
       "      <td>0.0</td>\n",
       "      <td>0.0</td>\n",
       "      <td>NaN</td>\n",
       "      <td>NaN</td>\n",
       "    </tr>\n",
       "  </tbody>\n",
       "</table>\n",
       "</div>"
      ],
      "text/plain": [
       "         date location_key  new_confirmed  new_deceased  new_recovered  \\\n",
       "0  2020-01-01           AD            0.0           0.0            NaN   \n",
       "1  2020-01-02           AD            0.0           0.0            NaN   \n",
       "2  2020-01-03           AD            0.0           0.0            NaN   \n",
       "3  2020-01-04           AD            0.0           0.0            NaN   \n",
       "4  2020-01-05           AD            0.0           0.0            NaN   \n",
       "\n",
       "   new_tested  cumulative_confirmed  cumulative_deceased  \\\n",
       "0         NaN                   0.0                  0.0   \n",
       "1         NaN                   0.0                  0.0   \n",
       "2         NaN                   0.0                  0.0   \n",
       "3         NaN                   0.0                  0.0   \n",
       "4         NaN                   0.0                  0.0   \n",
       "\n",
       "   cumulative_recovered  cumulative_tested  \n",
       "0                   NaN                NaN  \n",
       "1                   NaN                NaN  \n",
       "2                   NaN                NaN  \n",
       "3                   NaN                NaN  \n",
       "4                   NaN                NaN  "
      ]
     },
     "execution_count": 15,
     "metadata": {},
     "output_type": "execute_result"
    }
   ],
   "source": [
    "# Needs to be reduced down to largest cummulative total for each country\n",
    "epi.head()"
   ]
  },
  {
   "cell_type": "code",
   "execution_count": 16,
   "id": "200fefeb",
   "metadata": {},
   "outputs": [
    {
     "data": {
      "text/html": [
       "<div>\n",
       "<style scoped>\n",
       "    .dataframe tbody tr th:only-of-type {\n",
       "        vertical-align: middle;\n",
       "    }\n",
       "\n",
       "    .dataframe tbody tr th {\n",
       "        vertical-align: top;\n",
       "    }\n",
       "\n",
       "    .dataframe thead th {\n",
       "        text-align: right;\n",
       "    }\n",
       "</style>\n",
       "<table border=\"1\" class=\"dataframe\">\n",
       "  <thead>\n",
       "    <tr style=\"text-align: right;\">\n",
       "      <th></th>\n",
       "      <th>location_key</th>\n",
       "      <th>life_expectancy</th>\n",
       "      <th>smoking_prevalence</th>\n",
       "      <th>diabetes_prevalence</th>\n",
       "      <th>infant_mortality_rate</th>\n",
       "      <th>adult_male_mortality_rate</th>\n",
       "      <th>adult_female_mortality_rate</th>\n",
       "      <th>pollution_mortality_rate</th>\n",
       "      <th>comorbidity_mortality_rate</th>\n",
       "      <th>hospital_beds_per_1000</th>\n",
       "      <th>nurses_per_1000</th>\n",
       "      <th>physicians_per_1000</th>\n",
       "      <th>health_expenditure_usd</th>\n",
       "      <th>out_of_pocket_health_expenditure_usd</th>\n",
       "    </tr>\n",
       "  </thead>\n",
       "  <tbody>\n",
       "    <tr>\n",
       "      <th>0</th>\n",
       "      <td>AD</td>\n",
       "      <td>NaN</td>\n",
       "      <td>33.5</td>\n",
       "      <td>7.7</td>\n",
       "      <td>2.7</td>\n",
       "      <td>NaN</td>\n",
       "      <td>NaN</td>\n",
       "      <td>NaN</td>\n",
       "      <td>NaN</td>\n",
       "      <td>NaN</td>\n",
       "      <td>4.0128</td>\n",
       "      <td>3.3333</td>\n",
       "      <td>4040.786621</td>\n",
       "      <td>1688.121460</td>\n",
       "    </tr>\n",
       "    <tr>\n",
       "      <th>1</th>\n",
       "      <td>AE</td>\n",
       "      <td>77.814</td>\n",
       "      <td>28.9</td>\n",
       "      <td>16.3</td>\n",
       "      <td>6.5</td>\n",
       "      <td>69.555</td>\n",
       "      <td>44.863</td>\n",
       "      <td>54.7</td>\n",
       "      <td>16.8</td>\n",
       "      <td>NaN</td>\n",
       "      <td>5.7271</td>\n",
       "      <td>2.5278</td>\n",
       "      <td>1357.017456</td>\n",
       "      <td>256.034485</td>\n",
       "    </tr>\n",
       "    <tr>\n",
       "      <th>2</th>\n",
       "      <td>AF</td>\n",
       "      <td>64.486</td>\n",
       "      <td>NaN</td>\n",
       "      <td>9.2</td>\n",
       "      <td>47.9</td>\n",
       "      <td>237.554</td>\n",
       "      <td>192.532</td>\n",
       "      <td>211.1</td>\n",
       "      <td>29.8</td>\n",
       "      <td>0.5</td>\n",
       "      <td>0.1755</td>\n",
       "      <td>0.2782</td>\n",
       "      <td>67.122650</td>\n",
       "      <td>50.665913</td>\n",
       "    </tr>\n",
       "    <tr>\n",
       "      <th>3</th>\n",
       "      <td>AG</td>\n",
       "      <td>76.885</td>\n",
       "      <td>NaN</td>\n",
       "      <td>13.1</td>\n",
       "      <td>5.0</td>\n",
       "      <td>126.917</td>\n",
       "      <td>83.136</td>\n",
       "      <td>29.9</td>\n",
       "      <td>22.6</td>\n",
       "      <td>NaN</td>\n",
       "      <td>4.5171</td>\n",
       "      <td>2.9560</td>\n",
       "      <td>673.859680</td>\n",
       "      <td>235.749039</td>\n",
       "    </tr>\n",
       "    <tr>\n",
       "      <th>4</th>\n",
       "      <td>AL</td>\n",
       "      <td>78.900</td>\n",
       "      <td>28.7</td>\n",
       "      <td>9.0</td>\n",
       "      <td>7.8</td>\n",
       "      <td>93.315</td>\n",
       "      <td>49.486</td>\n",
       "      <td>68.0</td>\n",
       "      <td>17.0</td>\n",
       "      <td>NaN</td>\n",
       "      <td>3.6495</td>\n",
       "      <td>1.2164</td>\n",
       "      <td>NaN</td>\n",
       "      <td>NaN</td>\n",
       "    </tr>\n",
       "  </tbody>\n",
       "</table>\n",
       "</div>"
      ],
      "text/plain": [
       "  location_key  life_expectancy  smoking_prevalence  diabetes_prevalence  \\\n",
       "0           AD              NaN                33.5                  7.7   \n",
       "1           AE           77.814                28.9                 16.3   \n",
       "2           AF           64.486                 NaN                  9.2   \n",
       "3           AG           76.885                 NaN                 13.1   \n",
       "4           AL           78.900                28.7                  9.0   \n",
       "\n",
       "   infant_mortality_rate  adult_male_mortality_rate  \\\n",
       "0                    2.7                        NaN   \n",
       "1                    6.5                     69.555   \n",
       "2                   47.9                    237.554   \n",
       "3                    5.0                    126.917   \n",
       "4                    7.8                     93.315   \n",
       "\n",
       "   adult_female_mortality_rate  pollution_mortality_rate  \\\n",
       "0                          NaN                       NaN   \n",
       "1                       44.863                      54.7   \n",
       "2                      192.532                     211.1   \n",
       "3                       83.136                      29.9   \n",
       "4                       49.486                      68.0   \n",
       "\n",
       "   comorbidity_mortality_rate  hospital_beds_per_1000  nurses_per_1000  \\\n",
       "0                         NaN                     NaN           4.0128   \n",
       "1                        16.8                     NaN           5.7271   \n",
       "2                        29.8                     0.5           0.1755   \n",
       "3                        22.6                     NaN           4.5171   \n",
       "4                        17.0                     NaN           3.6495   \n",
       "\n",
       "   physicians_per_1000  health_expenditure_usd  \\\n",
       "0               3.3333             4040.786621   \n",
       "1               2.5278             1357.017456   \n",
       "2               0.2782               67.122650   \n",
       "3               2.9560              673.859680   \n",
       "4               1.2164                     NaN   \n",
       "\n",
       "   out_of_pocket_health_expenditure_usd  \n",
       "0                           1688.121460  \n",
       "1                            256.034485  \n",
       "2                             50.665913  \n",
       "3                            235.749039  \n",
       "4                                   NaN  "
      ]
     },
     "execution_count": 16,
     "metadata": {},
     "output_type": "execute_result"
    }
   ],
   "source": [
    "# Need to reduce down to cummulative country totals only. Some have additional region information.\n",
    "health.head()"
   ]
  },
  {
   "cell_type": "code",
   "execution_count": 17,
   "id": "cbd281bb",
   "metadata": {},
   "outputs": [
    {
     "data": {
      "text/html": [
       "<div>\n",
       "<style scoped>\n",
       "    .dataframe tbody tr th:only-of-type {\n",
       "        vertical-align: middle;\n",
       "    }\n",
       "\n",
       "    .dataframe tbody tr th {\n",
       "        vertical-align: top;\n",
       "    }\n",
       "\n",
       "    .dataframe thead th {\n",
       "        text-align: right;\n",
       "    }\n",
       "</style>\n",
       "<table border=\"1\" class=\"dataframe\">\n",
       "  <thead>\n",
       "    <tr style=\"text-align: right;\">\n",
       "      <th></th>\n",
       "      <th>date</th>\n",
       "      <th>location_key</th>\n",
       "      <th>new_persons_vaccinated</th>\n",
       "      <th>cumulative_persons_vaccinated</th>\n",
       "      <th>new_persons_fully_vaccinated</th>\n",
       "      <th>cumulative_persons_fully_vaccinated</th>\n",
       "      <th>new_vaccine_doses_administered</th>\n",
       "      <th>cumulative_vaccine_doses_administered</th>\n",
       "      <th>new_persons_vaccinated_pfizer</th>\n",
       "      <th>cumulative_persons_vaccinated_pfizer</th>\n",
       "      <th>...</th>\n",
       "      <th>new_persons_fully_vaccinated_janssen</th>\n",
       "      <th>cumulative_persons_fully_vaccinated_janssen</th>\n",
       "      <th>new_vaccine_doses_administered_janssen</th>\n",
       "      <th>cumulative_vaccine_doses_administered_janssen</th>\n",
       "      <th>new_persons_vaccinated_sinovac</th>\n",
       "      <th>total_persons_vaccinated_sinovac</th>\n",
       "      <th>new_persons_fully_vaccinated_sinovac</th>\n",
       "      <th>total_persons_fully_vaccinated_sinovac</th>\n",
       "      <th>new_vaccine_doses_administered_sinovac</th>\n",
       "      <th>total_vaccine_doses_administered_sinovac</th>\n",
       "    </tr>\n",
       "  </thead>\n",
       "  <tbody>\n",
       "    <tr>\n",
       "      <th>0</th>\n",
       "      <td>2021-01-25</td>\n",
       "      <td>AD</td>\n",
       "      <td>NaN</td>\n",
       "      <td>576.0</td>\n",
       "      <td>NaN</td>\n",
       "      <td>NaN</td>\n",
       "      <td>NaN</td>\n",
       "      <td>576.0</td>\n",
       "      <td>NaN</td>\n",
       "      <td>NaN</td>\n",
       "      <td>...</td>\n",
       "      <td>NaN</td>\n",
       "      <td>NaN</td>\n",
       "      <td>NaN</td>\n",
       "      <td>NaN</td>\n",
       "      <td>NaN</td>\n",
       "      <td>NaN</td>\n",
       "      <td>NaN</td>\n",
       "      <td>NaN</td>\n",
       "      <td>NaN</td>\n",
       "      <td>NaN</td>\n",
       "    </tr>\n",
       "    <tr>\n",
       "      <th>1</th>\n",
       "      <td>2021-02-01</td>\n",
       "      <td>AD</td>\n",
       "      <td>460.0</td>\n",
       "      <td>1036.0</td>\n",
       "      <td>NaN</td>\n",
       "      <td>NaN</td>\n",
       "      <td>460.0</td>\n",
       "      <td>1036.0</td>\n",
       "      <td>NaN</td>\n",
       "      <td>NaN</td>\n",
       "      <td>...</td>\n",
       "      <td>NaN</td>\n",
       "      <td>NaN</td>\n",
       "      <td>NaN</td>\n",
       "      <td>NaN</td>\n",
       "      <td>NaN</td>\n",
       "      <td>NaN</td>\n",
       "      <td>NaN</td>\n",
       "      <td>NaN</td>\n",
       "      <td>NaN</td>\n",
       "      <td>NaN</td>\n",
       "    </tr>\n",
       "    <tr>\n",
       "      <th>2</th>\n",
       "      <td>2021-02-10</td>\n",
       "      <td>AD</td>\n",
       "      <td>255.0</td>\n",
       "      <td>1291.0</td>\n",
       "      <td>NaN</td>\n",
       "      <td>NaN</td>\n",
       "      <td>255.0</td>\n",
       "      <td>1291.0</td>\n",
       "      <td>NaN</td>\n",
       "      <td>NaN</td>\n",
       "      <td>...</td>\n",
       "      <td>NaN</td>\n",
       "      <td>NaN</td>\n",
       "      <td>NaN</td>\n",
       "      <td>NaN</td>\n",
       "      <td>NaN</td>\n",
       "      <td>NaN</td>\n",
       "      <td>NaN</td>\n",
       "      <td>NaN</td>\n",
       "      <td>NaN</td>\n",
       "      <td>NaN</td>\n",
       "    </tr>\n",
       "    <tr>\n",
       "      <th>3</th>\n",
       "      <td>2021-02-12</td>\n",
       "      <td>AD</td>\n",
       "      <td>331.0</td>\n",
       "      <td>1622.0</td>\n",
       "      <td>NaN</td>\n",
       "      <td>NaN</td>\n",
       "      <td>331.0</td>\n",
       "      <td>1622.0</td>\n",
       "      <td>NaN</td>\n",
       "      <td>NaN</td>\n",
       "      <td>...</td>\n",
       "      <td>NaN</td>\n",
       "      <td>NaN</td>\n",
       "      <td>NaN</td>\n",
       "      <td>NaN</td>\n",
       "      <td>NaN</td>\n",
       "      <td>NaN</td>\n",
       "      <td>NaN</td>\n",
       "      <td>NaN</td>\n",
       "      <td>NaN</td>\n",
       "      <td>NaN</td>\n",
       "    </tr>\n",
       "    <tr>\n",
       "      <th>4</th>\n",
       "      <td>2021-02-19</td>\n",
       "      <td>AD</td>\n",
       "      <td>519.0</td>\n",
       "      <td>2141.0</td>\n",
       "      <td>NaN</td>\n",
       "      <td>NaN</td>\n",
       "      <td>519.0</td>\n",
       "      <td>2141.0</td>\n",
       "      <td>NaN</td>\n",
       "      <td>NaN</td>\n",
       "      <td>...</td>\n",
       "      <td>NaN</td>\n",
       "      <td>NaN</td>\n",
       "      <td>NaN</td>\n",
       "      <td>NaN</td>\n",
       "      <td>NaN</td>\n",
       "      <td>NaN</td>\n",
       "      <td>NaN</td>\n",
       "      <td>NaN</td>\n",
       "      <td>NaN</td>\n",
       "      <td>NaN</td>\n",
       "    </tr>\n",
       "  </tbody>\n",
       "</table>\n",
       "<p>5 rows × 32 columns</p>\n",
       "</div>"
      ],
      "text/plain": [
       "         date location_key  new_persons_vaccinated  \\\n",
       "0  2021-01-25           AD                     NaN   \n",
       "1  2021-02-01           AD                   460.0   \n",
       "2  2021-02-10           AD                   255.0   \n",
       "3  2021-02-12           AD                   331.0   \n",
       "4  2021-02-19           AD                   519.0   \n",
       "\n",
       "   cumulative_persons_vaccinated  new_persons_fully_vaccinated  \\\n",
       "0                          576.0                           NaN   \n",
       "1                         1036.0                           NaN   \n",
       "2                         1291.0                           NaN   \n",
       "3                         1622.0                           NaN   \n",
       "4                         2141.0                           NaN   \n",
       "\n",
       "   cumulative_persons_fully_vaccinated  new_vaccine_doses_administered  \\\n",
       "0                                  NaN                             NaN   \n",
       "1                                  NaN                           460.0   \n",
       "2                                  NaN                           255.0   \n",
       "3                                  NaN                           331.0   \n",
       "4                                  NaN                           519.0   \n",
       "\n",
       "   cumulative_vaccine_doses_administered  new_persons_vaccinated_pfizer  \\\n",
       "0                                  576.0                            NaN   \n",
       "1                                 1036.0                            NaN   \n",
       "2                                 1291.0                            NaN   \n",
       "3                                 1622.0                            NaN   \n",
       "4                                 2141.0                            NaN   \n",
       "\n",
       "   cumulative_persons_vaccinated_pfizer  ...  \\\n",
       "0                                   NaN  ...   \n",
       "1                                   NaN  ...   \n",
       "2                                   NaN  ...   \n",
       "3                                   NaN  ...   \n",
       "4                                   NaN  ...   \n",
       "\n",
       "   new_persons_fully_vaccinated_janssen  \\\n",
       "0                                   NaN   \n",
       "1                                   NaN   \n",
       "2                                   NaN   \n",
       "3                                   NaN   \n",
       "4                                   NaN   \n",
       "\n",
       "   cumulative_persons_fully_vaccinated_janssen  \\\n",
       "0                                          NaN   \n",
       "1                                          NaN   \n",
       "2                                          NaN   \n",
       "3                                          NaN   \n",
       "4                                          NaN   \n",
       "\n",
       "   new_vaccine_doses_administered_janssen  \\\n",
       "0                                     NaN   \n",
       "1                                     NaN   \n",
       "2                                     NaN   \n",
       "3                                     NaN   \n",
       "4                                     NaN   \n",
       "\n",
       "   cumulative_vaccine_doses_administered_janssen  \\\n",
       "0                                            NaN   \n",
       "1                                            NaN   \n",
       "2                                            NaN   \n",
       "3                                            NaN   \n",
       "4                                            NaN   \n",
       "\n",
       "   new_persons_vaccinated_sinovac  total_persons_vaccinated_sinovac  \\\n",
       "0                             NaN                               NaN   \n",
       "1                             NaN                               NaN   \n",
       "2                             NaN                               NaN   \n",
       "3                             NaN                               NaN   \n",
       "4                             NaN                               NaN   \n",
       "\n",
       "   new_persons_fully_vaccinated_sinovac  \\\n",
       "0                                   NaN   \n",
       "1                                   NaN   \n",
       "2                                   NaN   \n",
       "3                                   NaN   \n",
       "4                                   NaN   \n",
       "\n",
       "   total_persons_fully_vaccinated_sinovac  \\\n",
       "0                                     NaN   \n",
       "1                                     NaN   \n",
       "2                                     NaN   \n",
       "3                                     NaN   \n",
       "4                                     NaN   \n",
       "\n",
       "   new_vaccine_doses_administered_sinovac  \\\n",
       "0                                     NaN   \n",
       "1                                     NaN   \n",
       "2                                     NaN   \n",
       "3                                     NaN   \n",
       "4                                     NaN   \n",
       "\n",
       "   total_vaccine_doses_administered_sinovac  \n",
       "0                                       NaN  \n",
       "1                                       NaN  \n",
       "2                                       NaN  \n",
       "3                                       NaN  \n",
       "4                                       NaN  \n",
       "\n",
       "[5 rows x 32 columns]"
      ]
     },
     "execution_count": 17,
     "metadata": {},
     "output_type": "execute_result"
    }
   ],
   "source": [
    "# Times series data needs to be reduced to maximum cummulative numbers.\n",
    "vacc.head()"
   ]
  },
  {
   "cell_type": "code",
   "execution_count": 18,
   "id": "2632e731",
   "metadata": {
    "scrolled": true
   },
   "outputs": [
    {
     "data": {
      "text/html": [
       "<div>\n",
       "<style scoped>\n",
       "    .dataframe tbody tr th:only-of-type {\n",
       "        vertical-align: middle;\n",
       "    }\n",
       "\n",
       "    .dataframe tbody tr th {\n",
       "        vertical-align: top;\n",
       "    }\n",
       "\n",
       "    .dataframe thead th {\n",
       "        text-align: right;\n",
       "    }\n",
       "</style>\n",
       "<table border=\"1\" class=\"dataframe\">\n",
       "  <thead>\n",
       "    <tr style=\"text-align: right;\">\n",
       "      <th></th>\n",
       "      <th>Real GDP growth (Annual percent change)</th>\n",
       "      <th>1980</th>\n",
       "      <th>1981</th>\n",
       "      <th>1982</th>\n",
       "      <th>1983</th>\n",
       "      <th>1984</th>\n",
       "      <th>1985</th>\n",
       "      <th>1986</th>\n",
       "      <th>1987</th>\n",
       "      <th>1988</th>\n",
       "      <th>...</th>\n",
       "      <th>2019</th>\n",
       "      <th>2020</th>\n",
       "      <th>2021</th>\n",
       "      <th>2022</th>\n",
       "      <th>2023</th>\n",
       "      <th>2024</th>\n",
       "      <th>2025</th>\n",
       "      <th>2026</th>\n",
       "      <th>2027</th>\n",
       "      <th>2028</th>\n",
       "    </tr>\n",
       "  </thead>\n",
       "  <tbody>\n",
       "    <tr>\n",
       "      <th>0</th>\n",
       "      <td>Afghanistan</td>\n",
       "      <td>no data</td>\n",
       "      <td>no data</td>\n",
       "      <td>no data</td>\n",
       "      <td>no data</td>\n",
       "      <td>no data</td>\n",
       "      <td>no data</td>\n",
       "      <td>no data</td>\n",
       "      <td>no data</td>\n",
       "      <td>no data</td>\n",
       "      <td>...</td>\n",
       "      <td>3.9</td>\n",
       "      <td>-2.4</td>\n",
       "      <td>-20.7</td>\n",
       "      <td>no data</td>\n",
       "      <td>no data</td>\n",
       "      <td>no data</td>\n",
       "      <td>no data</td>\n",
       "      <td>no data</td>\n",
       "      <td>no data</td>\n",
       "      <td>no data</td>\n",
       "    </tr>\n",
       "    <tr>\n",
       "      <th>1</th>\n",
       "      <td>Albania</td>\n",
       "      <td>2.7</td>\n",
       "      <td>5.7</td>\n",
       "      <td>2.9</td>\n",
       "      <td>1.1</td>\n",
       "      <td>2</td>\n",
       "      <td>-1.5</td>\n",
       "      <td>5.6</td>\n",
       "      <td>-0.8</td>\n",
       "      <td>-1.4</td>\n",
       "      <td>...</td>\n",
       "      <td>2.1</td>\n",
       "      <td>-3.3</td>\n",
       "      <td>8.9</td>\n",
       "      <td>4.8</td>\n",
       "      <td>3.6</td>\n",
       "      <td>3.3</td>\n",
       "      <td>3.4</td>\n",
       "      <td>3.5</td>\n",
       "      <td>3.5</td>\n",
       "      <td>3.5</td>\n",
       "    </tr>\n",
       "    <tr>\n",
       "      <th>2</th>\n",
       "      <td>Algeria</td>\n",
       "      <td>-5.4</td>\n",
       "      <td>3</td>\n",
       "      <td>6.4</td>\n",
       "      <td>5.4</td>\n",
       "      <td>5.6</td>\n",
       "      <td>5.6</td>\n",
       "      <td>-0.2</td>\n",
       "      <td>-0.7</td>\n",
       "      <td>-1.9</td>\n",
       "      <td>...</td>\n",
       "      <td>1</td>\n",
       "      <td>-5.1</td>\n",
       "      <td>3.4</td>\n",
       "      <td>3.2</td>\n",
       "      <td>3.8</td>\n",
       "      <td>3.1</td>\n",
       "      <td>2.5</td>\n",
       "      <td>1.9</td>\n",
       "      <td>1.7</td>\n",
       "      <td>1.7</td>\n",
       "    </tr>\n",
       "    <tr>\n",
       "      <th>3</th>\n",
       "      <td>Andorra</td>\n",
       "      <td>no data</td>\n",
       "      <td>no data</td>\n",
       "      <td>no data</td>\n",
       "      <td>no data</td>\n",
       "      <td>no data</td>\n",
       "      <td>no data</td>\n",
       "      <td>no data</td>\n",
       "      <td>no data</td>\n",
       "      <td>no data</td>\n",
       "      <td>...</td>\n",
       "      <td>2</td>\n",
       "      <td>-11.2</td>\n",
       "      <td>8.3</td>\n",
       "      <td>8.8</td>\n",
       "      <td>2.1</td>\n",
       "      <td>1.5</td>\n",
       "      <td>1.5</td>\n",
       "      <td>1.5</td>\n",
       "      <td>1.5</td>\n",
       "      <td>1.5</td>\n",
       "    </tr>\n",
       "    <tr>\n",
       "      <th>4</th>\n",
       "      <td>Angola</td>\n",
       "      <td>2.4</td>\n",
       "      <td>-4.4</td>\n",
       "      <td>0</td>\n",
       "      <td>4.2</td>\n",
       "      <td>6</td>\n",
       "      <td>3.5</td>\n",
       "      <td>2.9</td>\n",
       "      <td>4.1</td>\n",
       "      <td>6.1</td>\n",
       "      <td>...</td>\n",
       "      <td>-0.7</td>\n",
       "      <td>-5.6</td>\n",
       "      <td>1.2</td>\n",
       "      <td>3</td>\n",
       "      <td>1.3</td>\n",
       "      <td>3.3</td>\n",
       "      <td>3.4</td>\n",
       "      <td>3.5</td>\n",
       "      <td>3.5</td>\n",
       "      <td>3.6</td>\n",
       "    </tr>\n",
       "  </tbody>\n",
       "</table>\n",
       "<p>5 rows × 50 columns</p>\n",
       "</div>"
      ],
      "text/plain": [
       "  Real GDP growth (Annual percent change)     1980     1981     1982     1983  \\\n",
       "0                             Afghanistan  no data  no data  no data  no data   \n",
       "1                                 Albania      2.7      5.7      2.9      1.1   \n",
       "2                                 Algeria     -5.4        3      6.4      5.4   \n",
       "3                                 Andorra  no data  no data  no data  no data   \n",
       "4                                  Angola      2.4     -4.4        0      4.2   \n",
       "\n",
       "      1984     1985     1986     1987     1988  ...  2019   2020   2021  \\\n",
       "0  no data  no data  no data  no data  no data  ...   3.9   -2.4  -20.7   \n",
       "1        2     -1.5      5.6     -0.8     -1.4  ...   2.1   -3.3    8.9   \n",
       "2      5.6      5.6     -0.2     -0.7     -1.9  ...     1   -5.1    3.4   \n",
       "3  no data  no data  no data  no data  no data  ...     2  -11.2    8.3   \n",
       "4        6      3.5      2.9      4.1      6.1  ...  -0.7   -5.6    1.2   \n",
       "\n",
       "      2022     2023     2024     2025     2026     2027     2028  \n",
       "0  no data  no data  no data  no data  no data  no data  no data  \n",
       "1      4.8      3.6      3.3      3.4      3.5      3.5      3.5  \n",
       "2      3.2      3.8      3.1      2.5      1.9      1.7      1.7  \n",
       "3      8.8      2.1      1.5      1.5      1.5      1.5      1.5  \n",
       "4        3      1.3      3.3      3.4      3.5      3.5      3.6  \n",
       "\n",
       "[5 rows x 50 columns]"
      ]
     },
     "execution_count": 18,
     "metadata": {},
     "output_type": "execute_result"
    }
   ],
   "source": [
    "# Needs to be trimmed to years of pandemic and forecast only\n",
    "# Need to update Column 1 name to \"country_name\"\n",
    "gdp.head()"
   ]
  },
  {
   "cell_type": "code",
   "execution_count": 19,
   "id": "7abed4e5",
   "metadata": {},
   "outputs": [
    {
     "data": {
      "text/html": [
       "<div>\n",
       "<style scoped>\n",
       "    .dataframe tbody tr th:only-of-type {\n",
       "        vertical-align: middle;\n",
       "    }\n",
       "\n",
       "    .dataframe tbody tr th {\n",
       "        vertical-align: top;\n",
       "    }\n",
       "\n",
       "    .dataframe thead th {\n",
       "        text-align: right;\n",
       "    }\n",
       "</style>\n",
       "<table border=\"1\" class=\"dataframe\">\n",
       "  <thead>\n",
       "    <tr style=\"text-align: right;\">\n",
       "      <th></th>\n",
       "      <th>country</th>\n",
       "      <th>loss</th>\n",
       "      <th>weeks</th>\n",
       "      <th>deaths</th>\n",
       "      <th>gdp</th>\n",
       "      <th>private</th>\n",
       "      <th>internet</th>\n",
       "      <th>hlo</th>\n",
       "      <th>vac</th>\n",
       "      <th>stringency</th>\n",
       "      <th>...</th>\n",
       "      <th>weeks2</th>\n",
       "      <th>pop</th>\n",
       "      <th>schooling</th>\n",
       "      <th>wbcode</th>\n",
       "      <th>region_code</th>\n",
       "      <th>hlo25</th>\n",
       "      <th>oecd</th>\n",
       "      <th>covid</th>\n",
       "      <th>high</th>\n",
       "      <th>covid25</th>\n",
       "    </tr>\n",
       "  </thead>\n",
       "  <tbody>\n",
       "    <tr>\n",
       "      <th>0</th>\n",
       "      <td>Argentina</td>\n",
       "      <td>0.44</td>\n",
       "      <td>39</td>\n",
       "      <td>288.00</td>\n",
       "      <td>8585.69</td>\n",
       "      <td>26.08010</td>\n",
       "      <td>86</td>\n",
       "      <td>457.418</td>\n",
       "      <td>65.0681</td>\n",
       "      <td>67.0396</td>\n",
       "      <td>...</td>\n",
       "      <td>1521</td>\n",
       "      <td>45000000</td>\n",
       "      <td>9.51</td>\n",
       "      <td>ARG</td>\n",
       "      <td>Latin America and the Caribbean</td>\n",
       "      <td>18.2967</td>\n",
       "      <td>0</td>\n",
       "      <td>413.418</td>\n",
       "      <td>0</td>\n",
       "      <td>16.5367</td>\n",
       "    </tr>\n",
       "    <tr>\n",
       "      <th>1</th>\n",
       "      <td>Australia</td>\n",
       "      <td>0.01</td>\n",
       "      <td>8</td>\n",
       "      <td>60.37</td>\n",
       "      <td>51680.30</td>\n",
       "      <td>29.53870</td>\n",
       "      <td>90</td>\n",
       "      <td>544.360</td>\n",
       "      <td>64.0000</td>\n",
       "      <td>61.0000</td>\n",
       "      <td>...</td>\n",
       "      <td>64</td>\n",
       "      <td>26000000</td>\n",
       "      <td>11.54</td>\n",
       "      <td>AUS</td>\n",
       "      <td>Advanced Economies</td>\n",
       "      <td>21.7744</td>\n",
       "      <td>1</td>\n",
       "      <td>543.360</td>\n",
       "      <td>1</td>\n",
       "      <td>21.7344</td>\n",
       "    </tr>\n",
       "    <tr>\n",
       "      <th>2</th>\n",
       "      <td>Bangladesh</td>\n",
       "      <td>0.28</td>\n",
       "      <td>63</td>\n",
       "      <td>17.84</td>\n",
       "      <td>2270.35</td>\n",
       "      <td>23.90350</td>\n",
       "      <td>25</td>\n",
       "      <td>340.088</td>\n",
       "      <td>17.0000</td>\n",
       "      <td>70.0000</td>\n",
       "      <td>...</td>\n",
       "      <td>3969</td>\n",
       "      <td>170000000</td>\n",
       "      <td>5.91</td>\n",
       "      <td>BGD</td>\n",
       "      <td>South Asia</td>\n",
       "      <td>13.6035</td>\n",
       "      <td>0</td>\n",
       "      <td>312.088</td>\n",
       "      <td>0</td>\n",
       "      <td>12.4835</td>\n",
       "    </tr>\n",
       "    <tr>\n",
       "      <th>3</th>\n",
       "      <td>Belgium</td>\n",
       "      <td>0.23</td>\n",
       "      <td>9</td>\n",
       "      <td>284.67</td>\n",
       "      <td>45189.40</td>\n",
       "      <td>54.17840</td>\n",
       "      <td>92</td>\n",
       "      <td>340.088</td>\n",
       "      <td>87.0000</td>\n",
       "      <td>50.0000</td>\n",
       "      <td>...</td>\n",
       "      <td>81</td>\n",
       "      <td>11000000</td>\n",
       "      <td>10.69</td>\n",
       "      <td>BEL</td>\n",
       "      <td>Advanced Economies</td>\n",
       "      <td>13.6035</td>\n",
       "      <td>1</td>\n",
       "      <td>317.088</td>\n",
       "      <td>1</td>\n",
       "      <td>12.6835</td>\n",
       "    </tr>\n",
       "    <tr>\n",
       "      <th>4</th>\n",
       "      <td>Botswana</td>\n",
       "      <td>0.29</td>\n",
       "      <td>11</td>\n",
       "      <td>118.60</td>\n",
       "      <td>6348.83</td>\n",
       "      <td>6.93809</td>\n",
       "      <td>64</td>\n",
       "      <td>417.656</td>\n",
       "      <td>12.0000</td>\n",
       "      <td>50.0000</td>\n",
       "      <td>...</td>\n",
       "      <td>121</td>\n",
       "      <td>2300000</td>\n",
       "      <td>9.55</td>\n",
       "      <td>BWA</td>\n",
       "      <td>Sub-Saharan Africa</td>\n",
       "      <td>16.7062</td>\n",
       "      <td>0</td>\n",
       "      <td>388.656</td>\n",
       "      <td>0</td>\n",
       "      <td>15.5462</td>\n",
       "    </tr>\n",
       "  </tbody>\n",
       "</table>\n",
       "<p>5 rows × 24 columns</p>\n",
       "</div>"
      ],
      "text/plain": [
       "      country  loss  weeks  deaths       gdp   private  internet      hlo  \\\n",
       "0   Argentina  0.44     39  288.00   8585.69  26.08010        86  457.418   \n",
       "1   Australia  0.01      8   60.37  51680.30  29.53870        90  544.360   \n",
       "2  Bangladesh  0.28     63   17.84   2270.35  23.90350        25  340.088   \n",
       "3     Belgium  0.23      9  284.67  45189.40  54.17840        92  340.088   \n",
       "4    Botswana  0.29     11  118.60   6348.83   6.93809        64  417.656   \n",
       "\n",
       "       vac  stringency  ...  weeks2        pop  schooling  wbcode  \\\n",
       "0  65.0681     67.0396  ...    1521   45000000       9.51     ARG   \n",
       "1  64.0000     61.0000  ...      64   26000000      11.54     AUS   \n",
       "2  17.0000     70.0000  ...    3969  170000000       5.91     BGD   \n",
       "3  87.0000     50.0000  ...      81   11000000      10.69     BEL   \n",
       "4  12.0000     50.0000  ...     121    2300000       9.55     BWA   \n",
       "\n",
       "                       region_code    hlo25  oecd    covid high  covid25  \n",
       "0  Latin America and the Caribbean  18.2967     0  413.418    0  16.5367  \n",
       "1               Advanced Economies  21.7744     1  543.360    1  21.7344  \n",
       "2                       South Asia  13.6035     0  312.088    0  12.4835  \n",
       "3               Advanced Economies  13.6035     1  317.088    1  12.6835  \n",
       "4               Sub-Saharan Africa  16.7062     0  388.656    0  15.5462  \n",
       "\n",
       "[5 rows x 24 columns]"
      ]
     },
     "execution_count": 19,
     "metadata": {},
     "output_type": "execute_result"
    }
   ],
   "source": [
    "learn.head()"
   ]
  },
  {
   "cell_type": "markdown",
   "id": "40c02439",
   "metadata": {},
   "source": [
    "### 3. Clean/Pre-Process Data for upload to covid_db"
   ]
  },
  {
   "cell_type": "markdown",
   "id": "1dc36b94",
   "metadata": {},
   "source": [
    "**Regions Data Preprocessing**\n",
    "\n",
    "* Select necessary columns\n",
    "* Drop duplicate countries\n",
    "* Add an index column called country_id\n",
    "* Replace null fields with \"None\""
   ]
  },
  {
   "cell_type": "code",
   "execution_count": 20,
   "id": "53703113",
   "metadata": {},
   "outputs": [],
   "source": [
    "#choose columns\n",
    "regions_table = pd.DataFrame(regions, columns=['country_code', 'country_name'])\n",
    "\n",
    "#drop duplicates\n",
    "regions_table.drop_duplicates(subset=['country_code'], inplace=True)\n",
    "\n",
    "#add index column\n",
    "regions_table.reset_index(drop=True, inplace=True)\n",
    "regions_table = regions_table.reset_index().rename(columns={'index': 'country_id'}) \n",
    "regions_table['country_id'] = regions_table['country_id']+1\n",
    "\n",
    "regions_table[\"country_code\"].fillna(\"None\", inplace = True)"
   ]
  },
  {
   "cell_type": "markdown",
   "id": "93fe37bd",
   "metadata": {},
   "source": [
    "* Set up for constraint that other tables' country_name must be present in the regions table. Therefore, generating a valid_country_names dataframe to compare against"
   ]
  },
  {
   "cell_type": "code",
   "execution_count": 21,
   "id": "e8b530ec",
   "metadata": {},
   "outputs": [],
   "source": [
    "valid_country_names = regions['country_name'].unique()"
   ]
  },
  {
   "cell_type": "markdown",
   "id": "ce8f6c95",
   "metadata": {},
   "source": [
    "**Learn Data Preprocessing**\n",
    "* Rename country to country_name \n",
    "* Add an index column called learn_id\n",
    "* Filter country_names that are in the country_name field in the regions table (we set a constraint that only rows with country_names that are also present in the regions table are acceptable)\n",
    "* Select necessary columns\n",
    "* Change country names to the convention that they are named in the regions table\n"
   ]
  },
  {
   "cell_type": "code",
   "execution_count": 22,
   "id": "e826acdf",
   "metadata": {},
   "outputs": [],
   "source": [
    "#rename column\n",
    "learn.rename(columns={'country': 'country_name'}, inplace=True)\n",
    "\n",
    "#add index\n",
    "learn_table = learn.reset_index().rename(columns={'index': 'learn_id'}) \n",
    "learn_table['learn_id'] = learn_table['learn_id']+1\n",
    "learn_table.head()\n",
    "\n",
    "learn_table = learn_table[['learn_id', 'country_name', 'loss', 'weeks', 'hlo', 'internet', 'stringency', 'schooling']]\n",
    "\n",
    "#change country name to match how its spelled in the 'regions' table\n",
    "learn_table['country_name'] = learn_table['country_name'].replace('Czech', 'Czech Republic')\n",
    "learn_table['country_name'] = learn_table['country_name'].replace('United States', 'United States of America')\n",
    "\n",
    "# Filter the 'learn' dataframe to keep only rows where 'country_name' is in the list of valid country names\n",
    "learn_table = learn_table[learn_table['country_name'].isin(valid_country_names)]"
   ]
  },
  {
   "cell_type": "code",
   "execution_count": 23,
   "id": "baf6ba53",
   "metadata": {},
   "outputs": [
    {
     "name": "stdout",
     "output_type": "stream",
     "text": [
      "<class 'pandas.core.frame.DataFrame'>\n",
      "Int64Index: 39 entries, 0 to 40\n",
      "Data columns (total 8 columns):\n",
      " #   Column        Non-Null Count  Dtype  \n",
      "---  ------        --------------  -----  \n",
      " 0   learn_id      39 non-null     int64  \n",
      " 1   country_name  39 non-null     object \n",
      " 2   loss          39 non-null     float64\n",
      " 3   weeks         39 non-null     int64  \n",
      " 4   hlo           39 non-null     float64\n",
      " 5   internet      39 non-null     int64  \n",
      " 6   stringency    39 non-null     float64\n",
      " 7   schooling     39 non-null     float64\n",
      "dtypes: float64(4), int64(3), object(1)\n",
      "memory usage: 2.7+ KB\n"
     ]
    }
   ],
   "source": [
    "learn_table.info()"
   ]
  },
  {
   "cell_type": "markdown",
   "id": "b3c6d070",
   "metadata": {},
   "source": [
    "**Demographics Data Preprocessing**\n",
    "* Delete regional data\n",
    "* Add an index column\n",
    "* Select columns"
   ]
  },
  {
   "cell_type": "code",
   "execution_count": 24,
   "id": "4707acd0",
   "metadata": {},
   "outputs": [],
   "source": [
    "#delete regional data, retain only primary country codes\n",
    "demos_table = demos[demos['location_key'].str.len() == 2]\n",
    "\n",
    "#add an index column\n",
    "demos_table = demos_table.reset_index().rename(columns={'index': 'demographic_id'}) \n",
    "demos_table['demographic_id'] = demos_table['demographic_id']+1\n",
    "demos_table.rename(columns={'location_key': 'country_code'}, inplace=True)\n",
    "\n",
    "demos_table = demos_table[['demographic_id', 'country_code', 'population', 'population_female', 'population_age_00_09', 'population_age_10_19', \n",
    "                           'population_density', 'human_development_index']]\n",
    "\n",
    "demos_table = demos_table.dropna(subset=['human_development_index'])"
   ]
  },
  {
   "cell_type": "code",
   "execution_count": 25,
   "id": "dbb7fdf7",
   "metadata": {},
   "outputs": [
    {
     "name": "stdout",
     "output_type": "stream",
     "text": [
      "<class 'pandas.core.frame.DataFrame'>\n",
      "Int64Index: 185 entries, 0 to 244\n",
      "Data columns (total 8 columns):\n",
      " #   Column                   Non-Null Count  Dtype  \n",
      "---  ------                   --------------  -----  \n",
      " 0   demographic_id           185 non-null    int64  \n",
      " 1   country_code             185 non-null    object \n",
      " 2   population               185 non-null    float64\n",
      " 3   population_female        185 non-null    float64\n",
      " 4   population_age_00_09     185 non-null    float64\n",
      " 5   population_age_10_19     185 non-null    float64\n",
      " 6   population_density       185 non-null    float64\n",
      " 7   human_development_index  185 non-null    float64\n",
      "dtypes: float64(6), int64(1), object(1)\n",
      "memory usage: 13.0+ KB\n"
     ]
    }
   ],
   "source": [
    "demos_table.info()"
   ]
  },
  {
   "cell_type": "markdown",
   "id": "32c2cd1c",
   "metadata": {},
   "source": [
    "**Epidemiology Pre-Processing**"
   ]
  },
  {
   "cell_type": "markdown",
   "id": "dd353d35",
   "metadata": {},
   "source": [
    "\n",
    "\n",
    "* Retain most recent entries, the final cumulative pandemic numbers in each column\n",
    "* Delete regional data\n",
    "* Replace fields containing the text 'None' with null \n",
    "    * (necessary because having text in float columns will prevent data import downstream)\n",
    "* Add unique index column\n",
    "* Select columns"
   ]
  },
  {
   "cell_type": "code",
   "execution_count": 26,
   "id": "da1df54b",
   "metadata": {},
   "outputs": [
    {
     "name": "stderr",
     "output_type": "stream",
     "text": [
      "<ipython-input-26-1130b02de88f>:5: SettingWithCopyWarning: \n",
      "A value is trying to be set on a copy of a slice from a DataFrame.\n",
      "Try using .loc[row_indexer,col_indexer] = value instead\n",
      "\n",
      "See the caveats in the documentation: https://pandas.pydata.org/pandas-docs/stable/user_guide/indexing.html#returning-a-view-versus-a-copy\n",
      "  epi_table['date'] = pd.to_datetime(epi_table['date'])\n"
     ]
    },
    {
     "data": {
      "text/plain": [
       "225"
      ]
     },
     "execution_count": 26,
     "metadata": {},
     "output_type": "execute_result"
    }
   ],
   "source": [
    "#drop country id's with region codes\n",
    "epi_table = epi[epi['location_key'].str.len() == 2]\n",
    "\n",
    "# Drop \"old\" columns and retain only most recent, cummulative columns\n",
    "epi_table['date'] = pd.to_datetime(epi_table['date'])\n",
    "epi_table = epi_table.sort_values(by='date', ascending=False)\n",
    "epi_table = epi_table.drop_duplicates(subset='location_key', keep='first')\n",
    "\n",
    "#replace 'None' with null\n",
    "epi_table = epi_table.replace('None', None)\n",
    "\n",
    "#add index\n",
    "epi_table = epi_table.reset_index().rename(columns={'index': 'epi_id'})\n",
    "epi_table.rename(columns={'location_key': 'country_code'}, inplace=True)\n",
    "epi_table['epi_id'] = epi_table['epi_id']+1\n",
    "epi_table.head()\n",
    "\n",
    "#select columns we want to import\n",
    "epi_table = epi_table[['epi_id', 'country_code', 'cumulative_confirmed','cumulative_deceased']]\n",
    "\n",
    "#drop countries with no data\n",
    "epi_table = epi_table.dropna(subset=['cumulative_confirmed', 'cumulative_deceased'])\n",
    "\n",
    "len(epi_table)"
   ]
  },
  {
   "cell_type": "code",
   "execution_count": 27,
   "id": "328962a7",
   "metadata": {},
   "outputs": [
    {
     "data": {
      "text/html": [
       "<div>\n",
       "<style scoped>\n",
       "    .dataframe tbody tr th:only-of-type {\n",
       "        vertical-align: middle;\n",
       "    }\n",
       "\n",
       "    .dataframe tbody tr th {\n",
       "        vertical-align: top;\n",
       "    }\n",
       "\n",
       "    .dataframe thead th {\n",
       "        text-align: right;\n",
       "    }\n",
       "</style>\n",
       "<table border=\"1\" class=\"dataframe\">\n",
       "  <thead>\n",
       "    <tr style=\"text-align: right;\">\n",
       "      <th></th>\n",
       "      <th>epi_id</th>\n",
       "      <th>country_code</th>\n",
       "      <th>cumulative_confirmed</th>\n",
       "      <th>cumulative_deceased</th>\n",
       "    </tr>\n",
       "  </thead>\n",
       "  <tbody>\n",
       "    <tr>\n",
       "      <th>0</th>\n",
       "      <td>486974</td>\n",
       "      <td>AU</td>\n",
       "      <td>10144497.0</td>\n",
       "      <td>14610.0</td>\n",
       "    </tr>\n",
       "    <tr>\n",
       "      <th>1</th>\n",
       "      <td>9784130</td>\n",
       "      <td>TH</td>\n",
       "      <td>4672146.0</td>\n",
       "      <td>32603.0</td>\n",
       "    </tr>\n",
       "    <tr>\n",
       "      <th>2</th>\n",
       "      <td>9869370</td>\n",
       "      <td>TW</td>\n",
       "      <td>5849748.0</td>\n",
       "      <td>10423.0</td>\n",
       "    </tr>\n",
       "    <tr>\n",
       "      <th>3</th>\n",
       "      <td>8460863</td>\n",
       "      <td>JP</td>\n",
       "      <td>19868288.0</td>\n",
       "      <td>43339.0</td>\n",
       "    </tr>\n",
       "    <tr>\n",
       "      <th>4</th>\n",
       "      <td>6253617</td>\n",
       "      <td>CZ</td>\n",
       "      <td>4070913.0</td>\n",
       "      <td>40943.0</td>\n",
       "    </tr>\n",
       "  </tbody>\n",
       "</table>\n",
       "</div>"
      ],
      "text/plain": [
       "    epi_id country_code  cumulative_confirmed  cumulative_deceased\n",
       "0   486974           AU            10144497.0              14610.0\n",
       "1  9784130           TH             4672146.0              32603.0\n",
       "2  9869370           TW             5849748.0              10423.0\n",
       "3  8460863           JP            19868288.0              43339.0\n",
       "4  6253617           CZ             4070913.0              40943.0"
      ]
     },
     "execution_count": 27,
     "metadata": {},
     "output_type": "execute_result"
    }
   ],
   "source": [
    "epi_table.head()"
   ]
  },
  {
   "cell_type": "code",
   "execution_count": 28,
   "id": "7405d84f",
   "metadata": {},
   "outputs": [
    {
     "name": "stdout",
     "output_type": "stream",
     "text": [
      "<class 'pandas.core.frame.DataFrame'>\n",
      "Int64Index: 225 entries, 0 to 229\n",
      "Data columns (total 4 columns):\n",
      " #   Column                Non-Null Count  Dtype  \n",
      "---  ------                --------------  -----  \n",
      " 0   epi_id                225 non-null    int64  \n",
      " 1   country_code          225 non-null    object \n",
      " 2   cumulative_confirmed  225 non-null    float64\n",
      " 3   cumulative_deceased   225 non-null    float64\n",
      "dtypes: float64(2), int64(1), object(1)\n",
      "memory usage: 8.8+ KB\n"
     ]
    }
   ],
   "source": [
    "epi_table.info()"
   ]
  },
  {
   "cell_type": "markdown",
   "id": "3f3b5dd0",
   "metadata": {},
   "source": [
    "**Health Pre-Processing**\n",
    "* Remove regional data, reduce to primary country ID code only \n",
    "* Add index column\n",
    "* Select tables"
   ]
  },
  {
   "cell_type": "code",
   "execution_count": 29,
   "id": "53eb4a30",
   "metadata": {},
   "outputs": [],
   "source": [
    "#remove regional data\n",
    "health_table = health[health['location_key'].str.len() == 2]\n",
    "\n",
    "\n",
    "#add an index column\n",
    "health_table = health_table.reset_index().rename(columns={'index': 'health_id'})\n",
    "health_table['health_id'] = health_table['health_id']+1\n",
    "health_table.rename(columns={'location_key': 'country_code'}, inplace=True)\n",
    "\n",
    "\n",
    "#only select columns we want to import\n",
    "health_table_clean = health_table[['health_id', 'country_code', 'life_expectancy', 'diabetes_prevalence', 'infant_mortality_rate',\n",
    "                          'adult_male_mortality_rate', 'adult_female_mortality_rate', 'nurses_per_1000']]\n",
    "\n",
    "#fill in missing values with median\n",
    "health_table_clean = health_table_clean.dropna(subset=['nurses_per_1000', 'adult_male_mortality_rate'])"
   ]
  },
  {
   "cell_type": "code",
   "execution_count": 30,
   "id": "bf0f5490",
   "metadata": {},
   "outputs": [
    {
     "name": "stdout",
     "output_type": "stream",
     "text": [
      "<class 'pandas.core.frame.DataFrame'>\n",
      "Int64Index: 169 entries, 1 to 208\n",
      "Data columns (total 8 columns):\n",
      " #   Column                       Non-Null Count  Dtype  \n",
      "---  ------                       --------------  -----  \n",
      " 0   health_id                    169 non-null    int64  \n",
      " 1   country_code                 169 non-null    object \n",
      " 2   life_expectancy              169 non-null    float64\n",
      " 3   diabetes_prevalence          169 non-null    float64\n",
      " 4   infant_mortality_rate        169 non-null    float64\n",
      " 5   adult_male_mortality_rate    169 non-null    float64\n",
      " 6   adult_female_mortality_rate  169 non-null    float64\n",
      " 7   nurses_per_1000              169 non-null    float64\n",
      "dtypes: float64(6), int64(1), object(1)\n",
      "memory usage: 11.9+ KB\n"
     ]
    }
   ],
   "source": [
    "health_table_clean.info()"
   ]
  },
  {
   "cell_type": "markdown",
   "id": "42f37a0b",
   "metadata": {},
   "source": [
    "**Vaccine Pre-Processing**\n",
    "\n",
    "* Remove regional data\n",
    "* Keep most recent entires\n",
    "* Remove redundant columns that contain 'new' in the column name\n",
    "* Add index column\n",
    "* Rename location_key to country_code\n",
    "* Select columns"
   ]
  },
  {
   "cell_type": "code",
   "execution_count": 31,
   "id": "d1e25da3",
   "metadata": {},
   "outputs": [],
   "source": [
    "#remove regional data\n",
    "vacc = vacc[vacc['location_key'].str.len() == 2]\n",
    "\n",
    "#keep most recent entries\n",
    "vacc = vacc.groupby(by = 'location_key', as_index = False).max()\n",
    "\n",
    "# Drop redundant columns\n",
    "vacc = vacc.loc[:,~vacc.columns.str.contains('^new', case=False)]\n",
    "\n",
    "#add index column\n",
    "vacc_table = vacc.reset_index().rename(columns={'index': 'vacc_id'})\n",
    "vacc_table['vacc_id'] = vacc_table['vacc_id']+1\n",
    "\n",
    "#rename location_key to country_code\n",
    "vacc_table.rename(columns={'location_key': 'country_code'}, inplace=True)\n",
    "\n",
    "#select columns\n",
    "vacc_table = vacc_table[['vacc_id', 'country_code', 'cumulative_persons_fully_vaccinated']]"
   ]
  },
  {
   "cell_type": "code",
   "execution_count": 32,
   "id": "56485f24",
   "metadata": {},
   "outputs": [
    {
     "name": "stdout",
     "output_type": "stream",
     "text": [
      "<class 'pandas.core.frame.DataFrame'>\n",
      "RangeIndex: 218 entries, 0 to 217\n",
      "Data columns (total 3 columns):\n",
      " #   Column                               Non-Null Count  Dtype  \n",
      "---  ------                               --------------  -----  \n",
      " 0   vacc_id                              218 non-null    int64  \n",
      " 1   country_code                         218 non-null    object \n",
      " 2   cumulative_persons_fully_vaccinated  218 non-null    float64\n",
      "dtypes: float64(1), int64(1), object(1)\n",
      "memory usage: 5.2+ KB\n"
     ]
    }
   ],
   "source": [
    "vacc_table.info()"
   ]
  },
  {
   "cell_type": "markdown",
   "id": "857583bf",
   "metadata": {},
   "source": [
    "**GDP Pre-Processing**\n",
    "\n",
    "* Reduce data to pandemic years and onward (2019+)\n",
    "* Rename column 1 to country_name\n",
    "* Reshape dataframe\n",
    "* Add index column\n",
    "* Remove rows containing country_name that are not present in the regions table to fit constraints we added\n",
    "* Replace fields that contain 'no data' with None in the gdp column\n",
    "    * Having text in this column causes issues downstream, as we are declaring it as numerical while creating the database\n",
    "* Change country names to the convention that they are named in the regions table\n"
   ]
  },
  {
   "cell_type": "code",
   "execution_count": 33,
   "id": "ef3332c6",
   "metadata": {},
   "outputs": [],
   "source": [
    "# Grab desired years\n",
    "gdp = gdp.iloc[: , [0] + list(range(40, 50))]\n",
    "\n",
    "# update column 1 name to country_name (as that's what it is)\n",
    "gdp.rename(columns={'Real GDP growth (Annual percent change)': 'country_name'}, inplace=True)\n",
    "\n",
    "# reshape the dataframe, so each row contains the country, year, and gdp\n",
    "gdp_table = gdp.melt(id_vars=['country_name'], var_name='Year', value_name='gdp')\n",
    "\n",
    "#add index column\n",
    "gdp_table = gdp_table.reset_index().rename(columns={'index': 'gdp_id'})\n",
    "gdp_table['gdp_id'] = gdp_table['gdp_id']+1\n",
    "gdp_table.head()\n",
    "\n",
    "#match naming convention of the United States to the way it's stored in the regions table\n",
    "gdp_table['country_name'] = gdp_table['country_name'].replace('United States', 'United States of America')\n",
    "\n",
    "gdp_table = gdp_table[gdp_table['country_name'].isin(valid_country_names)]\n",
    "\n",
    "gdp_table['gdp'] = gdp_table['gdp'].replace('no data', None)\n",
    "\n"
   ]
  },
  {
   "cell_type": "code",
   "execution_count": 34,
   "id": "30871f4d",
   "metadata": {},
   "outputs": [
    {
     "data": {
      "text/html": [
       "<div>\n",
       "<style scoped>\n",
       "    .dataframe tbody tr th:only-of-type {\n",
       "        vertical-align: middle;\n",
       "    }\n",
       "\n",
       "    .dataframe tbody tr th {\n",
       "        vertical-align: top;\n",
       "    }\n",
       "\n",
       "    .dataframe thead th {\n",
       "        text-align: right;\n",
       "    }\n",
       "</style>\n",
       "<table border=\"1\" class=\"dataframe\">\n",
       "  <thead>\n",
       "    <tr style=\"text-align: right;\">\n",
       "      <th></th>\n",
       "      <th>gdp_id</th>\n",
       "      <th>country_name</th>\n",
       "      <th>Year</th>\n",
       "      <th>gdp</th>\n",
       "    </tr>\n",
       "  </thead>\n",
       "  <tbody>\n",
       "    <tr>\n",
       "      <th>2225</th>\n",
       "      <td>2226</td>\n",
       "      <td>Thailand</td>\n",
       "      <td>2028</td>\n",
       "      <td>3</td>\n",
       "    </tr>\n",
       "    <tr>\n",
       "      <th>2227</th>\n",
       "      <td>2228</td>\n",
       "      <td>Togo</td>\n",
       "      <td>2028</td>\n",
       "      <td>5.5</td>\n",
       "    </tr>\n",
       "    <tr>\n",
       "      <th>2228</th>\n",
       "      <td>2229</td>\n",
       "      <td>Tonga</td>\n",
       "      <td>2028</td>\n",
       "      <td>1.2</td>\n",
       "    </tr>\n",
       "    <tr>\n",
       "      <th>2229</th>\n",
       "      <td>2230</td>\n",
       "      <td>Trinidad and Tobago</td>\n",
       "      <td>2028</td>\n",
       "      <td>1.4</td>\n",
       "    </tr>\n",
       "    <tr>\n",
       "      <th>2230</th>\n",
       "      <td>2231</td>\n",
       "      <td>Tunisia</td>\n",
       "      <td>2028</td>\n",
       "      <td>2.6</td>\n",
       "    </tr>\n",
       "    <tr>\n",
       "      <th>2231</th>\n",
       "      <td>2232</td>\n",
       "      <td>Turkmenistan</td>\n",
       "      <td>2028</td>\n",
       "      <td>1.9</td>\n",
       "    </tr>\n",
       "    <tr>\n",
       "      <th>2232</th>\n",
       "      <td>2233</td>\n",
       "      <td>Tuvalu</td>\n",
       "      <td>2028</td>\n",
       "      <td>2</td>\n",
       "    </tr>\n",
       "    <tr>\n",
       "      <th>2234</th>\n",
       "      <td>2235</td>\n",
       "      <td>Uganda</td>\n",
       "      <td>2028</td>\n",
       "      <td>6.3</td>\n",
       "    </tr>\n",
       "    <tr>\n",
       "      <th>2235</th>\n",
       "      <td>2236</td>\n",
       "      <td>Ukraine</td>\n",
       "      <td>2028</td>\n",
       "      <td>4</td>\n",
       "    </tr>\n",
       "    <tr>\n",
       "      <th>2236</th>\n",
       "      <td>2237</td>\n",
       "      <td>United Arab Emirates</td>\n",
       "      <td>2028</td>\n",
       "      <td>4.5</td>\n",
       "    </tr>\n",
       "    <tr>\n",
       "      <th>2237</th>\n",
       "      <td>2238</td>\n",
       "      <td>United Kingdom</td>\n",
       "      <td>2028</td>\n",
       "      <td>1.5</td>\n",
       "    </tr>\n",
       "    <tr>\n",
       "      <th>2238</th>\n",
       "      <td>2239</td>\n",
       "      <td>United States of America</td>\n",
       "      <td>2028</td>\n",
       "      <td>2.1</td>\n",
       "    </tr>\n",
       "    <tr>\n",
       "      <th>2239</th>\n",
       "      <td>2240</td>\n",
       "      <td>Uruguay</td>\n",
       "      <td>2028</td>\n",
       "      <td>2.2</td>\n",
       "    </tr>\n",
       "    <tr>\n",
       "      <th>2240</th>\n",
       "      <td>2241</td>\n",
       "      <td>Uzbekistan</td>\n",
       "      <td>2028</td>\n",
       "      <td>5.5</td>\n",
       "    </tr>\n",
       "    <tr>\n",
       "      <th>2241</th>\n",
       "      <td>2242</td>\n",
       "      <td>Vanuatu</td>\n",
       "      <td>2028</td>\n",
       "      <td>2.5</td>\n",
       "    </tr>\n",
       "    <tr>\n",
       "      <th>2242</th>\n",
       "      <td>2243</td>\n",
       "      <td>Venezuela</td>\n",
       "      <td>2028</td>\n",
       "      <td>None</td>\n",
       "    </tr>\n",
       "    <tr>\n",
       "      <th>2243</th>\n",
       "      <td>2244</td>\n",
       "      <td>Vietnam</td>\n",
       "      <td>2028</td>\n",
       "      <td>6.8</td>\n",
       "    </tr>\n",
       "    <tr>\n",
       "      <th>2245</th>\n",
       "      <td>2246</td>\n",
       "      <td>Yemen</td>\n",
       "      <td>2028</td>\n",
       "      <td>5.5</td>\n",
       "    </tr>\n",
       "    <tr>\n",
       "      <th>2246</th>\n",
       "      <td>2247</td>\n",
       "      <td>Zambia</td>\n",
       "      <td>2028</td>\n",
       "      <td>5.1</td>\n",
       "    </tr>\n",
       "    <tr>\n",
       "      <th>2247</th>\n",
       "      <td>2248</td>\n",
       "      <td>Zimbabwe</td>\n",
       "      <td>2028</td>\n",
       "      <td>3</td>\n",
       "    </tr>\n",
       "  </tbody>\n",
       "</table>\n",
       "</div>"
      ],
      "text/plain": [
       "      gdp_id              country_name  Year   gdp\n",
       "2225    2226                  Thailand  2028     3\n",
       "2227    2228                      Togo  2028   5.5\n",
       "2228    2229                     Tonga  2028   1.2\n",
       "2229    2230       Trinidad and Tobago  2028   1.4\n",
       "2230    2231                   Tunisia  2028   2.6\n",
       "2231    2232              Turkmenistan  2028   1.9\n",
       "2232    2233                    Tuvalu  2028     2\n",
       "2234    2235                    Uganda  2028   6.3\n",
       "2235    2236                   Ukraine  2028     4\n",
       "2236    2237      United Arab Emirates  2028   4.5\n",
       "2237    2238            United Kingdom  2028   1.5\n",
       "2238    2239  United States of America  2028   2.1\n",
       "2239    2240                   Uruguay  2028   2.2\n",
       "2240    2241                Uzbekistan  2028   5.5\n",
       "2241    2242                   Vanuatu  2028   2.5\n",
       "2242    2243                 Venezuela  2028  None\n",
       "2243    2244                   Vietnam  2028   6.8\n",
       "2245    2246                     Yemen  2028   5.5\n",
       "2246    2247                    Zambia  2028   5.1\n",
       "2247    2248                  Zimbabwe  2028     3"
      ]
     },
     "execution_count": 34,
     "metadata": {},
     "output_type": "execute_result"
    }
   ],
   "source": [
    "gdp_table.tail(20)\n"
   ]
  },
  {
   "cell_type": "markdown",
   "id": "8145859d",
   "metadata": {},
   "source": [
    "**Assessing Country IDs in all tables**\n",
    "\n",
    "Examine the number of countries available in each dataset and the format of the country IDs."
   ]
  },
  {
   "cell_type": "code",
   "execution_count": 35,
   "id": "fa2119d9",
   "metadata": {},
   "outputs": [
    {
     "name": "stdout",
     "output_type": "stream",
     "text": [
      "+-----------+-----------+\n",
      "| dataframe | countries |\n",
      "+-----------+-----------+\n",
      "|  regions  |    246    |\n",
      "|   learn   |    39     |\n",
      "|   demos   |    185    |\n",
      "|    epi    |    225    |\n",
      "|  health   |    209    |\n",
      "|   vacc    |    218    |\n",
      "|    gdp    |    173    |\n",
      "+-----------+-----------+\n"
     ]
    }
   ],
   "source": [
    "regions_num_unique_countries = regions_table['country_code'].nunique()\n",
    "learn_num_unique_countries = learn_table['country_name'].nunique()\n",
    "demos_num_unique_countries = demos_table['country_code'].nunique()\n",
    "epi_num_unique_countries = epi_table['country_code'].nunique()\n",
    "health_num_unique_countries = health_table['country_code'].nunique()\n",
    "vacc_num_unique_countries = vacc_table['country_code'].nunique()\n",
    "gdp_num_unique_countries = gdp_table['country_name'].nunique()\n",
    "\n",
    "\n",
    "country_counts = [\n",
    "    ['regions', regions_num_unique_countries],\n",
    "    ['learn', learn_num_unique_countries],\n",
    "    ['demos', demos_num_unique_countries],\n",
    "    ['epi', epi_num_unique_countries],\n",
    "    ['health', health_num_unique_countries],\n",
    "    ['vacc', vacc_num_unique_countries],\n",
    "    ['gdp', gdp_num_unique_countries]\n",
    "]\n",
    "\n",
    "# Print the table\n",
    "print(tabulate(country_counts, headers=['dataframe', 'countries'], tablefmt='pretty'))\n"
   ]
  },
  {
   "cell_type": "markdown",
   "id": "a4bce521",
   "metadata": {},
   "source": [
    "**Filter all dataframes so they only contain countries present in all dataframes. First, we need to remove any rows from the regions table.**"
   ]
  },
  {
   "cell_type": "markdown",
   "id": "55db180b",
   "metadata": {},
   "source": [
    "**Now, making sure that each dataframe has the same number of countries**"
   ]
  },
  {
   "cell_type": "markdown",
   "id": "39c25635",
   "metadata": {},
   "source": [
    "## Set up Database/Import Data"
   ]
  },
  {
   "cell_type": "markdown",
   "id": "a2db7918",
   "metadata": {},
   "source": [
    "### Create Database (covid_db)"
   ]
  },
  {
   "cell_type": "markdown",
   "id": "bd0ae5c1",
   "metadata": {},
   "source": [
    "This chunk will generate a database called 'covid_db'. If it already exists, it will drop the database before creating. We added this functionality so we could mimic a user running this from scratch."
   ]
  },
  {
   "cell_type": "code",
   "execution_count": 36,
   "id": "a481a953",
   "metadata": {},
   "outputs": [],
   "source": [
    "# connect to MySQL server\n",
    "connection = mysql.connector.connect(\n",
    "    host='localhost',\n",
    "    user='root',\n",
    "    password=PASSWORD\n",
    ")\n",
    "\n",
    "# Create a cursor object\n",
    "cursor = connection.cursor()\n",
    "\n",
    "# Drop the database if it exists - this is so we can start fresh (at least while developing)\n",
    "cursor.execute(\"DROP DATABASE IF EXISTS covid_db\")\n",
    "\n",
    "# Create the 'covid_db' database\n",
    "cursor.execute(\"CREATE DATABASE covid_db\")\n",
    "\n",
    "# Switch to the 'covid_db' database\n",
    "cursor.execute(\"USE covid_db\")\n",
    "\n",
    "# Commit the changes\n",
    "connection.commit()\n",
    "\n",
    "# Close the cursor and connection\n",
    "cursor.close()\n",
    "connection.close()\n"
   ]
  },
  {
   "cell_type": "markdown",
   "id": "728fa283",
   "metadata": {},
   "source": [
    "### Create Database Tables (empty)\n",
    "\n",
    "7 database tables are created \n",
    "* countries\n",
    "* demographics\n",
    "* gdp\n",
    "* learn\n",
    "* vaccine\n",
    "* health\n",
    "* epidemiology\n",
    "\n",
    "The 'countries' table has 2 indexed fields: country_name and country_code. Each other table has a foreign key to either one of these fields."
   ]
  },
  {
   "cell_type": "code",
   "execution_count": 37,
   "id": "0d8d25c2",
   "metadata": {},
   "outputs": [
    {
     "name": "stdout",
     "output_type": "stream",
     "text": [
      "countries\n",
      "demographics\n",
      "epidemiology\n",
      "gdp\n",
      "health\n",
      "learn\n",
      "vaccine\n"
     ]
    }
   ],
   "source": [
    "\n",
    "#import pymysql\n",
    "\n",
    "# Connect to the MySQL server\n",
    "connection = mysql.connector.connect(\n",
    "    host='localhost',\n",
    "    user='root',\n",
    "    password=PASSWORD,\n",
    "    database='covid_db'\n",
    ")\n",
    "\n",
    "# Create a cursor object\n",
    "cursor = connection.cursor()\n",
    "\n",
    "# Create the 'countries' table\n",
    "create_countries_table_query = \"\"\"\n",
    "CREATE TABLE IF NOT EXISTS `countries` (\n",
    "  `country_id` INT NOT NULL AUTO_INCREMENT,\n",
    "  `country_code` VARCHAR(4) UNIQUE,\n",
    "  `country_name` VARCHAR(45) UNIQUE,\n",
    "  PRIMARY KEY (`country_id`),\n",
    "  INDEX `idx_country_code` (`country_code`),\n",
    "  INDEX `idx_country_name` (`country_name`)\n",
    ") ENGINE=InnoDB;\n",
    "\"\"\"\n",
    "cursor.execute(create_countries_table_query)\n",
    "\n",
    "# Create the 'demographics' table\n",
    "create_demographics_table_query = \"\"\"\n",
    "CREATE TABLE IF NOT EXISTS `demographics` (\n",
    "  `demographic_id` INT NOT NULL AUTO_INCREMENT,\n",
    "  `country_code` VARCHAR(4),\n",
    "  `population` INT,\n",
    "  `population_female` INT,\n",
    "  `population_age_00_09` INT,\n",
    "  `population_age_10_19` INT,\n",
    "  `population_density` INT,\n",
    "  `human_development_index` FLOAT,\n",
    "  PRIMARY KEY (`demographic_id`),\n",
    "  CONSTRAINT `fk_demo_country_code`\n",
    "    FOREIGN KEY (`country_code`) REFERENCES `countries`(`country_code`)\n",
    "    ON DELETE CASCADE\n",
    ") ENGINE=InnoDB;\n",
    "\"\"\"\n",
    "cursor.execute(create_demographics_table_query)\n",
    "\n",
    "# Create the 'gdp' table\n",
    "create_gdp_table_query = \"\"\"\n",
    "CREATE TABLE IF NOT EXISTS `gdp` (\n",
    "  `gdp_id` INT NOT NULL AUTO_INCREMENT,\n",
    "  `country_name` VARCHAR(45),\n",
    "  `Year` YEAR,\n",
    "  `gdp` FLOAT(5),\n",
    "  PRIMARY KEY (`gdp_id`),\n",
    "  CONSTRAINT `fk_gdp_country_name`\n",
    "    FOREIGN KEY (`country_name`) REFERENCES `countries`(`country_name`)\n",
    "    ON DELETE CASCADE\n",
    ") ENGINE=InnoDB;\n",
    "\"\"\"\n",
    "cursor.execute(create_gdp_table_query)\n",
    "\n",
    "#  Create the 'learn' table\n",
    "create_learn_table_query = \"\"\"\n",
    "CREATE TABLE IF NOT EXISTS `learn` (\n",
    "  `learn_id` INT NOT NULL AUTO_INCREMENT,\n",
    "  `country_name` VARCHAR(45),\n",
    "  `loss` FLOAT,\n",
    "  `weeks` FLOAT,\n",
    "  `hlo` FLOAT,\n",
    "  `internet` FLOAT,\n",
    "  `stringency` FLOAT,\n",
    "  `schooling` FLOAT,\n",
    "  PRIMARY KEY (`learn_id`),\n",
    "  CONSTRAINT `fk_learn_country_name`\n",
    "    FOREIGN KEY (`country_name`) REFERENCES `countries`(`country_name`)\n",
    "    ON DELETE CASCADE\n",
    ") ENGINE=InnoDB;\n",
    "\"\"\"\n",
    "cursor.execute(create_learn_table_query)\n",
    "\n",
    "# Create the 'vaccine' table\n",
    "create_vaccine_table_query = \"\"\"\n",
    "CREATE TABLE IF NOT EXISTS `vaccine` (\n",
    "  `vacc_id` INT NOT NULL AUTO_INCREMENT,\n",
    "  `country_code` VARCHAR(4),\n",
    "  `cumulative_persons_fully_vaccinated` INT,\n",
    "  PRIMARY KEY (`vacc_id`),\n",
    "  CONSTRAINT `fk_vaccine_country_code`\n",
    "    FOREIGN KEY (`country_code`) REFERENCES `countries`(`country_code`)\n",
    "    ON DELETE CASCADE\n",
    ") ENGINE=InnoDB;\n",
    "\"\"\"\n",
    "cursor.execute(create_vaccine_table_query)\n",
    "\n",
    "# Create the 'health' table\n",
    "create_health_table_query = \"\"\"\n",
    "CREATE TABLE IF NOT EXISTS `health` (\n",
    "  `health_id` INT NOT NULL AUTO_INCREMENT,\n",
    "  `country_code` VARCHAR(4),\n",
    "  `life_expectancy` FLOAT(10),\n",
    "  `diabetes_prevalence` FLOAT,\n",
    "  `infant_mortality_rate` FLOAT,\n",
    "  `adult_male_mortality_rate` FLOAT,\n",
    "  `adult_female_mortality_rate` FLOAT,\n",
    "  `nurses_per_1000` FLOAT,\n",
    "  PRIMARY KEY (`health_id`),\n",
    "  CONSTRAINT `fk_health_country_code`\n",
    "    FOREIGN KEY (`country_code`) REFERENCES `countries`(`country_code`)\n",
    "    ON DELETE CASCADE\n",
    ") ENGINE=InnoDB;\n",
    "\"\"\"\n",
    "cursor.execute(create_health_table_query)\n",
    "\n",
    "# Create the 'epidemiology' table\n",
    "create_epidemiology_table_query = \"\"\"\n",
    "CREATE TABLE IF NOT EXISTS `epidemiology` (\n",
    "  `epi_id` INT NOT NULL AUTO_INCREMENT,\n",
    "  `country_code` VARCHAR(4),\n",
    "  `cumulative_confirmed` FLOAT,\n",
    "  `cumulative_deceased` FLOAT,\n",
    "  PRIMARY KEY (`epi_id`),\n",
    "  CONSTRAINT `fk_epi_country_code`\n",
    "    FOREIGN KEY (`country_code`) REFERENCES `countries`(`country_code`)\n",
    "    ON DELETE CASCADE\n",
    ") ENGINE=InnoDB;\n",
    "\"\"\"\n",
    "cursor.execute(create_epidemiology_table_query)\n",
    "\n",
    "\n",
    "#show tables below\n",
    "cursor.execute(\"SHOW TABLES\")\n",
    "\n",
    "# Fetch all the rows\n",
    "tables = cursor.fetchall()\n",
    "\n",
    "# Print the list of tables\n",
    "for table in tables:\n",
    "    print(table[0])\n",
    "    \n",
    "# Commit the changes\n",
    "connection.commit()\n",
    "\n",
    "# Close the cursor and connection\n",
    "cursor.close()\n",
    "connection.close()\n",
    "\n",
    "\n"
   ]
  },
  {
   "cell_type": "markdown",
   "id": "151e49be",
   "metadata": {},
   "source": [
    "### Import data into tables\n",
    "\n",
    "**Bulk import-Countries table (from regions data)**"
   ]
  },
  {
   "cell_type": "code",
   "execution_count": 38,
   "id": "8d3602bc",
   "metadata": {},
   "outputs": [],
   "source": [
    "# Connect to the MySQL server\n",
    "connection = mysql.connector.connect(\n",
    "    host='localhost',\n",
    "    user='root',\n",
    "    password=PASSWORD,\n",
    "    database='covid_db'\n",
    ")\n",
    "\n",
    "# Create list of data inputs\n",
    "regions_list = regions_table.values.tolist()\n",
    "\n",
    "\n",
    "# Connect to datebase table and bulk insert data\n",
    "with connection:\n",
    "        sql_bulk = \"INSERT INTO countries (`country_id`, `country_code`, `country_name`) VALUES (%s, %s, %s)\"\n",
    "        cursor = connection.cursor()\n",
    "        cursor.executemany(sql_bulk, regions_list)\n",
    "        connection.commit()\n",
    "\n",
    "# Close the cursor and connection\n",
    "cursor.close()\n",
    "connection.close()"
   ]
  },
  {
   "cell_type": "markdown",
   "id": "1baba1c3",
   "metadata": {},
   "source": [
    "**Bulk import-Demo table**"
   ]
  },
  {
   "cell_type": "code",
   "execution_count": 39,
   "id": "64a1fad1",
   "metadata": {},
   "outputs": [],
   "source": [
    "# Connect to the MySQL server\n",
    "connection = mysql.connector.connect(\n",
    "    host='localhost',\n",
    "    user='root',\n",
    "    password=PASSWORD,\n",
    "    database='covid_db'\n",
    ")\n",
    "\n",
    "# Create list of data inputs\n",
    "demos_list = demos_table.values.tolist()\n",
    "\n",
    "# Connect to datebase table and bulk insert data\n",
    "with connection:\n",
    "        sql_bulk = \"\"\"INSERT INTO demographics (`demographic_id`, `country_code`, `population`, `population_female`, \n",
    "        `population_age_00_09`,`population_age_10_19`,`population_density`, `human_development_index`) \n",
    "        VALUES (%s, %s, %s, %s, %s, %s, %s, %s)\"\"\"\n",
    "        cursor = connection.cursor()\n",
    "        cursor.executemany(sql_bulk, demos_list)\n",
    "        connection.commit()\n",
    "\n",
    "\n",
    "# Close the cursor and connection\n",
    "cursor.close()\n",
    "connection.close()\n"
   ]
  },
  {
   "cell_type": "markdown",
   "id": "eb6d92be",
   "metadata": {},
   "source": [
    "**Bulk import- gdp table**"
   ]
  },
  {
   "cell_type": "markdown",
   "id": "de684503",
   "metadata": {},
   "source": [
    "Initially got errors, because the gdp table has country names that are not in the country_name table. below, checking which countries these are. Many of these seem like regions.. therefore, going to drop ones that don't match for now. However, we can QC later on if we have time?\n",
    "\n",
    "Another issue - some rows in the original gdp table are \"no data\", which is preventing it from being imported into the table since they're not a float. will convert those to null instead. "
   ]
  },
  {
   "cell_type": "code",
   "execution_count": 40,
   "id": "3e1d4b15",
   "metadata": {},
   "outputs": [],
   "source": [
    "# Connect to the MySQL server\n",
    "connection = mysql.connector.connect(\n",
    "    host='localhost',\n",
    "    user='root',\n",
    "    password=PASSWORD,\n",
    "    database='covid_db'\n",
    ")\n",
    "\n",
    "# Create list of data inputs\n",
    "gdp_list = gdp_table.values.tolist()\n",
    "\n",
    "# Connect to datebase table and bulk insert data\n",
    "with connection:\n",
    "        sql_bulk = \"INSERT INTO gdp (`gdp_id`, `country_name`, `Year`, `gdp`) VALUES (%s, %s, %s, %s)\"\n",
    "        cursor = connection.cursor()\n",
    "        cursor.executemany(sql_bulk, gdp_list)\n",
    "        connection.commit()\n",
    "\n",
    "# Close the cursor and connection\n",
    "cursor.close()\n",
    "connection.close()"
   ]
  },
  {
   "cell_type": "markdown",
   "id": "aead3762",
   "metadata": {},
   "source": [
    "**Bulk import- learn table**\n",
    "\n",
    "Had to do same as in gdp table - some countries in the learn table were not present in the countries table. For now, dropped them but we can QC this. Also, SQL import was mad because the original learn_table had more columns than we wanted to import into the SQL table. Specified the columns"
   ]
  },
  {
   "cell_type": "markdown",
   "id": "76f0cc83",
   "metadata": {},
   "source": [
    "**Bulk import - learn table**"
   ]
  },
  {
   "cell_type": "code",
   "execution_count": 41,
   "id": "f67d622c",
   "metadata": {},
   "outputs": [],
   "source": [
    "# Connect to the MySQL server\n",
    "connection = mysql.connector.connect(\n",
    "    host='localhost',\n",
    "    user='root',\n",
    "    password=PASSWORD,\n",
    "    database='covid_db'\n",
    ")\n",
    "\n",
    "# Create list of data inputs\n",
    "learn_list = learn_table.values.tolist()\n",
    "\n",
    "# Connect to datebase table and bulk insert data\n",
    "with connection:\n",
    "        sql_bulk = \"INSERT INTO learn (`learn_id`, `country_name`, `loss`, `weeks`, `hlo`, `internet`, `stringency`, `schooling`) VALUES (%s, %s, %s, %s, %s, %s, %s, %s)\"\n",
    "        cursor = connection.cursor()\n",
    "        cursor.executemany(sql_bulk, learn_list)\n",
    "        connection.commit()\n",
    "\n",
    "# Close the cursor and connection\n",
    "cursor.close()\n",
    "connection.close()"
   ]
  },
  {
   "cell_type": "markdown",
   "id": "4e50c822",
   "metadata": {},
   "source": [
    "**Bulk import- vaccine table**\n"
   ]
  },
  {
   "cell_type": "code",
   "execution_count": 42,
   "id": "d6f1c800",
   "metadata": {},
   "outputs": [],
   "source": [
    "# Connect to the MySQL server\n",
    "connection = mysql.connector.connect(\n",
    "    host='localhost',\n",
    "    user='root',\n",
    "    password=PASSWORD,\n",
    "    database='covid_db'\n",
    ")\n",
    "\n",
    "# Create list of data inputs\n",
    "vacc_list = vacc_table.values.tolist()\n",
    "\n",
    "# Connect to datebase table and bulk insert data\n",
    "with connection:\n",
    "        sql_bulk = \"INSERT INTO vaccine (`vacc_id`, `country_code`, `cumulative_persons_fully_vaccinated`) VALUES (%s, %s, %s)\"\n",
    "        cursor = connection.cursor()\n",
    "        cursor.executemany(sql_bulk, vacc_list)\n",
    "        connection.commit()\n",
    "\n",
    "# Close the cursor and connection\n",
    "cursor.close()\n",
    "connection.close()"
   ]
  },
  {
   "cell_type": "markdown",
   "id": "e767823a",
   "metadata": {},
   "source": [
    "**Bulk import- health table**"
   ]
  },
  {
   "cell_type": "code",
   "execution_count": 43,
   "id": "7d55c8b6",
   "metadata": {},
   "outputs": [],
   "source": [
    "# Connect to the MySQL server\n",
    "connection = mysql.connector.connect(\n",
    "    host='localhost',\n",
    "    user='root',\n",
    "    password=PASSWORD,\n",
    "    database='covid_db'\n",
    ")\n",
    "\n",
    "# Create list of data inputs\n",
    "health_list = health_table_clean.values.tolist()\n",
    "\n",
    "# Connect to datebase table and bulk insert data\n",
    "with connection:\n",
    "        sql_bulk = \"\"\"INSERT INTO health (`health_id`, `country_code`, `life_expectancy`, `diabetes_prevalence`, \n",
    "        `infant_mortality_rate`, `adult_male_mortality_rate`, `adult_female_mortality_rate`, `nurses_per_1000`) \n",
    "        VALUES (%s, %s, %s, %s, %s, %s, %s, %s)\"\"\"\n",
    "        cursor = connection.cursor()\n",
    "        cursor.executemany(sql_bulk, health_list)\n",
    "        connection.commit()\n",
    "\n",
    "# Close the cursor and connection\n",
    "cursor.close()\n",
    "connection.close()"
   ]
  },
  {
   "cell_type": "markdown",
   "id": "b1e0d858",
   "metadata": {},
   "source": [
    "**Bulk import- epidemiology table**"
   ]
  },
  {
   "cell_type": "code",
   "execution_count": 44,
   "id": "09b7d642",
   "metadata": {},
   "outputs": [],
   "source": [
    "# Connect to the MySQL server\n",
    "connection = mysql.connector.connect(\n",
    "    host='localhost',\n",
    "    user='root',\n",
    "    password=PASSWORD,\n",
    "    database='covid_db'\n",
    ")\n",
    "\n",
    "# Create list of data inputs\n",
    "epi_list = epi_table.values.tolist()\n",
    "\n",
    "# Connect to datebase table and bulk insert data\n",
    "with connection:\n",
    "        sql_bulk = \"INSERT INTO epidemiology (`epi_id`, `country_code`, `cumulative_confirmed`, `cumulative_deceased`) VALUES (%s, %s, %s, %s)\"\n",
    "        cursor = connection.cursor()\n",
    "        cursor.executemany(sql_bulk, epi_list)\n",
    "        connection.commit()\n",
    "\n",
    "# Close the cursor and connection\n",
    "cursor.close()\n",
    "connection.close()"
   ]
  },
  {
   "cell_type": "markdown",
   "id": "aec85da9",
   "metadata": {},
   "source": [
    "# Test Connection and Data Input by Calling Data From Tables"
   ]
  },
  {
   "cell_type": "code",
   "execution_count": 45,
   "id": "a424ac41",
   "metadata": {},
   "outputs": [
    {
     "name": "stderr",
     "output_type": "stream",
     "text": [
      "<ipython-input-45-fbe59fbcc2a8>:8: UserWarning: pandas only supports SQLAlchemy connectable (engine/connection) or database string URI or sqlite3 DBAPI2 connection. Other DBAPI2 objects are not tested. Please consider using SQLAlchemy.\n",
      "  pd.read_sql('SELECT * FROM vaccine', connection)\n"
     ]
    }
   ],
   "source": [
    "# Connect to the MySQL server\n",
    "connection = mysql.connector.connect(\n",
    "    host='localhost',\n",
    "    user='root',\n",
    "    password=PASSWORD,\n",
    "    database='covid_db'\n",
    ")\n",
    "pd.read_sql('SELECT * FROM vaccine', connection)\n",
    "\n",
    "# Close the connection\n",
    "connection.close()"
   ]
  },
  {
   "cell_type": "code",
   "execution_count": 46,
   "id": "69ee5c58",
   "metadata": {},
   "outputs": [
    {
     "name": "stderr",
     "output_type": "stream",
     "text": [
      "<ipython-input-46-a16495e470b4>:8: UserWarning: pandas only supports SQLAlchemy connectable (engine/connection) or database string URI or sqlite3 DBAPI2 connection. Other DBAPI2 objects are not tested. Please consider using SQLAlchemy.\n",
      "  pd.read_sql('SELECT * FROM demographics', connection)\n"
     ]
    }
   ],
   "source": [
    "# Connect to the MySQL server\n",
    "connection = mysql.connector.connect(\n",
    "    host='localhost',\n",
    "    user='root',\n",
    "    password=PASSWORD,\n",
    "    database='covid_db'\n",
    ")\n",
    "pd.read_sql('SELECT * FROM demographics', connection)\n",
    "\n",
    "# Close the connection\n",
    "connection.close()"
   ]
  },
  {
   "cell_type": "markdown",
   "id": "96ac2cd0",
   "metadata": {},
   "source": [
    "# SQL Data Transformations"
   ]
  },
  {
   "cell_type": "markdown",
   "id": "ce1516b6",
   "metadata": {},
   "source": [
    "**Only keep countries present in all tables**\n",
    "\n",
    "We want to only include countries in our database that have data in every table. We will delete records from the countries table if records are not present in any of the tables. Because we have a constraint set on the tables that the country_code or country_name needs to exist in the countries table, it will automatically delete corresponding records in other tables."
   ]
  },
  {
   "cell_type": "code",
   "execution_count": 47,
   "id": "0910ef07",
   "metadata": {},
   "outputs": [],
   "source": [
    "import pymysql\n",
    "\n",
    "# Connect to the MySQL server\n",
    "connection = pymysql.connect(\n",
    "    host='localhost',\n",
    "    user='root',\n",
    "    password=PASSWORD,\n",
    "    database='covid_db'\n",
    ")\n",
    "\n",
    "try:\n",
    "    with connection.cursor() as cursor:\n",
    "\n",
    "        # delete records from countries table that do not have corersponding records in other tables\n",
    "        delete_countries_query = \"\"\"\n",
    "        DELETE FROM countries\n",
    "        WHERE country_code NOT IN (SELECT country_code FROM demographics)\n",
    "           OR country_code NOT IN (SELECT country_code FROM epidemiology)\n",
    "           OR country_name NOT IN (SELECT country_name FROM gdp)\n",
    "           OR country_code NOT IN (SELECT country_code FROM health)\n",
    "           OR country_name NOT IN (SELECT country_name FROM learn)\n",
    "           OR country_code NOT IN (SELECT country_code FROM vaccine);\n",
    "        \"\"\"\n",
    "        cursor.execute(delete_countries_query)\n",
    "\n",
    "    # Commit the changes\n",
    "    connection.commit()\n",
    "\n",
    "finally:\n",
    "    # Close the connection\n",
    "    connection.close()\n"
   ]
  },
  {
   "cell_type": "markdown",
   "id": "e078d336",
   "metadata": {},
   "source": [
    "### Query and Data Visualization  #1\n",
    "\n",
    "Year 2025 GDP Forecast compared to Cummulative COVID Cases and Human Development Index"
   ]
  },
  {
   "cell_type": "markdown",
   "id": "2f5d1c02",
   "metadata": {},
   "source": [
    "**Database Query 1**"
   ]
  },
  {
   "cell_type": "code",
   "execution_count": 48,
   "id": "ece6ba25",
   "metadata": {},
   "outputs": [],
   "source": [
    "# Connect to Database server\n",
    "connection = mysql.connector.connect(\n",
    "    host='localhost',\n",
    "    user='root',\n",
    "    password=PASSWORD,\n",
    "    database='covid_db'\n",
    ")\n",
    "\n",
    "cursor = connection.cursor()\n",
    "\n",
    "sql_1 = \"\"\"SELECT \n",
    "                c.country_code, \n",
    "                g.gdp, \n",
    "                e.cumulative_confirmed, \n",
    "                d.human_development_index \n",
    "            FROM countries c \n",
    "                INNER JOIN gdp g ON c.country_name = g.country_name \n",
    "                INNER JOIN epidemiology e ON c.country_code = e.country_code \n",
    "                INNER JOIN demographics d ON c.country_code = d.country_code \n",
    "            WHERE g.Year = 2025 \n",
    "            ORDER BY c.country_code\"\"\"\n",
    "\n",
    "result_1 = cursor.execute(sql_1)\n",
    "result_1_df = pd.DataFrame(cursor.fetchall(), columns = ['Code', 'GDP', 'Cases', 'HDI'])\n",
    "\n",
    "# Close the cursor and connection\n",
    "cursor.close()\n",
    "connection.close()"
   ]
  },
  {
   "cell_type": "markdown",
   "id": "c04eb3c3",
   "metadata": {},
   "source": [
    "**Data Visualization 1**\n",
    "\n",
    "GDP 2025 Forecast for Countries by Human Development Index\n",
    "\n",
    "* Tables used - gdp, epidemiology, demogrpahics, countries"
   ]
  },
  {
   "cell_type": "code",
   "execution_count": 107,
   "id": "1422bcfb",
   "metadata": {},
   "outputs": [
    {
     "data": {
      "text/plain": [
       "(31, 4)"
      ]
     },
     "execution_count": 107,
     "metadata": {},
     "output_type": "execute_result"
    }
   ],
   "source": [
    "result_1_df.shape"
   ]
  },
  {
   "cell_type": "code",
   "execution_count": 108,
   "id": "10bb0da7",
   "metadata": {},
   "outputs": [
    {
     "data": {
      "text/html": [
       "<div>\n",
       "<style scoped>\n",
       "    .dataframe tbody tr th:only-of-type {\n",
       "        vertical-align: middle;\n",
       "    }\n",
       "\n",
       "    .dataframe tbody tr th {\n",
       "        vertical-align: top;\n",
       "    }\n",
       "\n",
       "    .dataframe thead th {\n",
       "        text-align: right;\n",
       "    }\n",
       "</style>\n",
       "<table border=\"1\" class=\"dataframe\">\n",
       "  <thead>\n",
       "    <tr style=\"text-align: right;\">\n",
       "      <th></th>\n",
       "      <th>Code</th>\n",
       "      <th>GDP</th>\n",
       "      <th>Cases</th>\n",
       "      <th>HDI</th>\n",
       "    </tr>\n",
       "  </thead>\n",
       "  <tbody>\n",
       "    <tr>\n",
       "      <th>0</th>\n",
       "      <td>AR</td>\n",
       "      <td>3.3</td>\n",
       "      <td>9697760.0</td>\n",
       "      <td>0.825</td>\n",
       "    </tr>\n",
       "    <tr>\n",
       "      <th>1</th>\n",
       "      <td>AU</td>\n",
       "      <td>2.0</td>\n",
       "      <td>10144500.0</td>\n",
       "      <td>0.939</td>\n",
       "    </tr>\n",
       "    <tr>\n",
       "      <th>2</th>\n",
       "      <td>BD</td>\n",
       "      <td>6.6</td>\n",
       "      <td>2016580.0</td>\n",
       "      <td>0.632</td>\n",
       "    </tr>\n",
       "    <tr>\n",
       "      <th>3</th>\n",
       "      <td>BR</td>\n",
       "      <td>1.9</td>\n",
       "      <td>34568800.0</td>\n",
       "      <td>0.754</td>\n",
       "    </tr>\n",
       "    <tr>\n",
       "      <th>4</th>\n",
       "      <td>BW</td>\n",
       "      <td>4.3</td>\n",
       "      <td>326107.0</td>\n",
       "      <td>0.717</td>\n",
       "    </tr>\n",
       "  </tbody>\n",
       "</table>\n",
       "</div>"
      ],
      "text/plain": [
       "  Code  GDP       Cases    HDI\n",
       "0   AR  3.3   9697760.0  0.825\n",
       "1   AU  2.0  10144500.0  0.939\n",
       "2   BD  6.6   2016580.0  0.632\n",
       "3   BR  1.9  34568800.0  0.754\n",
       "4   BW  4.3    326107.0  0.717"
      ]
     },
     "execution_count": 108,
     "metadata": {},
     "output_type": "execute_result"
    }
   ],
   "source": [
    "result_1_df.head()"
   ]
  },
  {
   "cell_type": "code",
   "execution_count": 109,
   "id": "d366e732",
   "metadata": {},
   "outputs": [
    {
     "data": {
      "application/vnd.plotly.v1+json": {
       "config": {
        "plotlyServerURL": "https://plot.ly"
       },
       "data": [
        {
         "alignmentgroup": "True",
         "hovertemplate": "Code=%{x}<br>GDP=%{y}<br>HDI=%{marker.color}<extra></extra>",
         "legendgroup": "",
         "marker": {
          "color": [
           0.825,
           0.939,
           0.632,
           0.754,
           0.717,
           0.926,
           0.93,
           0.832,
           0.747,
           0.888,
           0.942,
           0.929,
           0.876,
           0.463,
           0.883,
           0.592,
           0.865,
           0.828,
           0.694,
           0.64,
           0.919,
           0.548,
           0.582,
           0.477,
           0.756,
           0.931,
           0.957,
           0.574,
           0.516,
           0.92,
           0.699
          ],
          "coloraxis": "coloraxis",
          "pattern": {
           "shape": ""
          }
         },
         "name": "",
         "offsetgroup": "",
         "orientation": "v",
         "showlegend": false,
         "textposition": "auto",
         "type": "bar",
         "x": [
          "AR",
          "AU",
          "BD",
          "BR",
          "BW",
          "CA",
          "CH",
          "CL",
          "CO",
          "CZ",
          "DE",
          "DK",
          "ES",
          "ET",
          "FI",
          "GH",
          "GR",
          "HU",
          "ID",
          "IN",
          "JP",
          "KE",
          "KH",
          "MW",
          "MX",
          "NL",
          "NO",
          "NP",
          "UG",
          "US",
          "ZA"
         ],
         "xaxis": "x",
         "y": [
          3.3,
          2,
          6.6,
          1.9,
          4.3,
          2.4,
          1.2,
          2.3,
          2.9,
          2.9,
          2,
          1.2,
          2.1,
          6.5,
          1.3,
          4.6,
          1.4,
          3.3,
          5,
          6.3,
          0.6,
          5.3,
          6.4,
          3.8,
          1.5,
          1.5,
          1.2,
          5.2,
          7.5,
          1.8,
          1.6
         ],
         "yaxis": "y"
        }
       ],
       "layout": {
        "barmode": "group",
        "coloraxis": {
         "colorbar": {
          "title": {
           "text": "HDI"
          }
         },
         "colorscale": [
          [
           0,
           "#0d0887"
          ],
          [
           0.1111111111111111,
           "#46039f"
          ],
          [
           0.2222222222222222,
           "#7201a8"
          ],
          [
           0.3333333333333333,
           "#9c179e"
          ],
          [
           0.4444444444444444,
           "#bd3786"
          ],
          [
           0.5555555555555556,
           "#d8576b"
          ],
          [
           0.6666666666666666,
           "#ed7953"
          ],
          [
           0.7777777777777778,
           "#fb9f3a"
          ],
          [
           0.8888888888888888,
           "#fdca26"
          ],
          [
           1,
           "#f0f921"
          ]
         ]
        },
        "legend": {
         "tracegroupgap": 0
        },
        "template": {
         "data": {
          "bar": [
           {
            "error_x": {
             "color": "#2a3f5f"
            },
            "error_y": {
             "color": "#2a3f5f"
            },
            "marker": {
             "line": {
              "color": "#E5ECF6",
              "width": 0.5
             },
             "pattern": {
              "fillmode": "overlay",
              "size": 10,
              "solidity": 0.2
             }
            },
            "type": "bar"
           }
          ],
          "barpolar": [
           {
            "marker": {
             "line": {
              "color": "#E5ECF6",
              "width": 0.5
             },
             "pattern": {
              "fillmode": "overlay",
              "size": 10,
              "solidity": 0.2
             }
            },
            "type": "barpolar"
           }
          ],
          "carpet": [
           {
            "aaxis": {
             "endlinecolor": "#2a3f5f",
             "gridcolor": "white",
             "linecolor": "white",
             "minorgridcolor": "white",
             "startlinecolor": "#2a3f5f"
            },
            "baxis": {
             "endlinecolor": "#2a3f5f",
             "gridcolor": "white",
             "linecolor": "white",
             "minorgridcolor": "white",
             "startlinecolor": "#2a3f5f"
            },
            "type": "carpet"
           }
          ],
          "choropleth": [
           {
            "colorbar": {
             "outlinewidth": 0,
             "ticks": ""
            },
            "type": "choropleth"
           }
          ],
          "contour": [
           {
            "colorbar": {
             "outlinewidth": 0,
             "ticks": ""
            },
            "colorscale": [
             [
              0,
              "#0d0887"
             ],
             [
              0.1111111111111111,
              "#46039f"
             ],
             [
              0.2222222222222222,
              "#7201a8"
             ],
             [
              0.3333333333333333,
              "#9c179e"
             ],
             [
              0.4444444444444444,
              "#bd3786"
             ],
             [
              0.5555555555555556,
              "#d8576b"
             ],
             [
              0.6666666666666666,
              "#ed7953"
             ],
             [
              0.7777777777777778,
              "#fb9f3a"
             ],
             [
              0.8888888888888888,
              "#fdca26"
             ],
             [
              1,
              "#f0f921"
             ]
            ],
            "type": "contour"
           }
          ],
          "contourcarpet": [
           {
            "colorbar": {
             "outlinewidth": 0,
             "ticks": ""
            },
            "type": "contourcarpet"
           }
          ],
          "heatmap": [
           {
            "colorbar": {
             "outlinewidth": 0,
             "ticks": ""
            },
            "colorscale": [
             [
              0,
              "#0d0887"
             ],
             [
              0.1111111111111111,
              "#46039f"
             ],
             [
              0.2222222222222222,
              "#7201a8"
             ],
             [
              0.3333333333333333,
              "#9c179e"
             ],
             [
              0.4444444444444444,
              "#bd3786"
             ],
             [
              0.5555555555555556,
              "#d8576b"
             ],
             [
              0.6666666666666666,
              "#ed7953"
             ],
             [
              0.7777777777777778,
              "#fb9f3a"
             ],
             [
              0.8888888888888888,
              "#fdca26"
             ],
             [
              1,
              "#f0f921"
             ]
            ],
            "type": "heatmap"
           }
          ],
          "heatmapgl": [
           {
            "colorbar": {
             "outlinewidth": 0,
             "ticks": ""
            },
            "colorscale": [
             [
              0,
              "#0d0887"
             ],
             [
              0.1111111111111111,
              "#46039f"
             ],
             [
              0.2222222222222222,
              "#7201a8"
             ],
             [
              0.3333333333333333,
              "#9c179e"
             ],
             [
              0.4444444444444444,
              "#bd3786"
             ],
             [
              0.5555555555555556,
              "#d8576b"
             ],
             [
              0.6666666666666666,
              "#ed7953"
             ],
             [
              0.7777777777777778,
              "#fb9f3a"
             ],
             [
              0.8888888888888888,
              "#fdca26"
             ],
             [
              1,
              "#f0f921"
             ]
            ],
            "type": "heatmapgl"
           }
          ],
          "histogram": [
           {
            "marker": {
             "pattern": {
              "fillmode": "overlay",
              "size": 10,
              "solidity": 0.2
             }
            },
            "type": "histogram"
           }
          ],
          "histogram2d": [
           {
            "colorbar": {
             "outlinewidth": 0,
             "ticks": ""
            },
            "colorscale": [
             [
              0,
              "#0d0887"
             ],
             [
              0.1111111111111111,
              "#46039f"
             ],
             [
              0.2222222222222222,
              "#7201a8"
             ],
             [
              0.3333333333333333,
              "#9c179e"
             ],
             [
              0.4444444444444444,
              "#bd3786"
             ],
             [
              0.5555555555555556,
              "#d8576b"
             ],
             [
              0.6666666666666666,
              "#ed7953"
             ],
             [
              0.7777777777777778,
              "#fb9f3a"
             ],
             [
              0.8888888888888888,
              "#fdca26"
             ],
             [
              1,
              "#f0f921"
             ]
            ],
            "type": "histogram2d"
           }
          ],
          "histogram2dcontour": [
           {
            "colorbar": {
             "outlinewidth": 0,
             "ticks": ""
            },
            "colorscale": [
             [
              0,
              "#0d0887"
             ],
             [
              0.1111111111111111,
              "#46039f"
             ],
             [
              0.2222222222222222,
              "#7201a8"
             ],
             [
              0.3333333333333333,
              "#9c179e"
             ],
             [
              0.4444444444444444,
              "#bd3786"
             ],
             [
              0.5555555555555556,
              "#d8576b"
             ],
             [
              0.6666666666666666,
              "#ed7953"
             ],
             [
              0.7777777777777778,
              "#fb9f3a"
             ],
             [
              0.8888888888888888,
              "#fdca26"
             ],
             [
              1,
              "#f0f921"
             ]
            ],
            "type": "histogram2dcontour"
           }
          ],
          "mesh3d": [
           {
            "colorbar": {
             "outlinewidth": 0,
             "ticks": ""
            },
            "type": "mesh3d"
           }
          ],
          "parcoords": [
           {
            "line": {
             "colorbar": {
              "outlinewidth": 0,
              "ticks": ""
             }
            },
            "type": "parcoords"
           }
          ],
          "pie": [
           {
            "automargin": true,
            "type": "pie"
           }
          ],
          "scatter": [
           {
            "fillpattern": {
             "fillmode": "overlay",
             "size": 10,
             "solidity": 0.2
            },
            "type": "scatter"
           }
          ],
          "scatter3d": [
           {
            "line": {
             "colorbar": {
              "outlinewidth": 0,
              "ticks": ""
             }
            },
            "marker": {
             "colorbar": {
              "outlinewidth": 0,
              "ticks": ""
             }
            },
            "type": "scatter3d"
           }
          ],
          "scattercarpet": [
           {
            "marker": {
             "colorbar": {
              "outlinewidth": 0,
              "ticks": ""
             }
            },
            "type": "scattercarpet"
           }
          ],
          "scattergeo": [
           {
            "marker": {
             "colorbar": {
              "outlinewidth": 0,
              "ticks": ""
             }
            },
            "type": "scattergeo"
           }
          ],
          "scattergl": [
           {
            "marker": {
             "colorbar": {
              "outlinewidth": 0,
              "ticks": ""
             }
            },
            "type": "scattergl"
           }
          ],
          "scattermapbox": [
           {
            "marker": {
             "colorbar": {
              "outlinewidth": 0,
              "ticks": ""
             }
            },
            "type": "scattermapbox"
           }
          ],
          "scatterpolar": [
           {
            "marker": {
             "colorbar": {
              "outlinewidth": 0,
              "ticks": ""
             }
            },
            "type": "scatterpolar"
           }
          ],
          "scatterpolargl": [
           {
            "marker": {
             "colorbar": {
              "outlinewidth": 0,
              "ticks": ""
             }
            },
            "type": "scatterpolargl"
           }
          ],
          "scatterternary": [
           {
            "marker": {
             "colorbar": {
              "outlinewidth": 0,
              "ticks": ""
             }
            },
            "type": "scatterternary"
           }
          ],
          "surface": [
           {
            "colorbar": {
             "outlinewidth": 0,
             "ticks": ""
            },
            "colorscale": [
             [
              0,
              "#0d0887"
             ],
             [
              0.1111111111111111,
              "#46039f"
             ],
             [
              0.2222222222222222,
              "#7201a8"
             ],
             [
              0.3333333333333333,
              "#9c179e"
             ],
             [
              0.4444444444444444,
              "#bd3786"
             ],
             [
              0.5555555555555556,
              "#d8576b"
             ],
             [
              0.6666666666666666,
              "#ed7953"
             ],
             [
              0.7777777777777778,
              "#fb9f3a"
             ],
             [
              0.8888888888888888,
              "#fdca26"
             ],
             [
              1,
              "#f0f921"
             ]
            ],
            "type": "surface"
           }
          ],
          "table": [
           {
            "cells": {
             "fill": {
              "color": "#EBF0F8"
             },
             "line": {
              "color": "white"
             }
            },
            "header": {
             "fill": {
              "color": "#C8D4E3"
             },
             "line": {
              "color": "white"
             }
            },
            "type": "table"
           }
          ]
         },
         "layout": {
          "annotationdefaults": {
           "arrowcolor": "#2a3f5f",
           "arrowhead": 0,
           "arrowwidth": 1
          },
          "autotypenumbers": "strict",
          "coloraxis": {
           "colorbar": {
            "outlinewidth": 0,
            "ticks": ""
           }
          },
          "colorscale": {
           "diverging": [
            [
             0,
             "#8e0152"
            ],
            [
             0.1,
             "#c51b7d"
            ],
            [
             0.2,
             "#de77ae"
            ],
            [
             0.3,
             "#f1b6da"
            ],
            [
             0.4,
             "#fde0ef"
            ],
            [
             0.5,
             "#f7f7f7"
            ],
            [
             0.6,
             "#e6f5d0"
            ],
            [
             0.7,
             "#b8e186"
            ],
            [
             0.8,
             "#7fbc41"
            ],
            [
             0.9,
             "#4d9221"
            ],
            [
             1,
             "#276419"
            ]
           ],
           "sequential": [
            [
             0,
             "#0d0887"
            ],
            [
             0.1111111111111111,
             "#46039f"
            ],
            [
             0.2222222222222222,
             "#7201a8"
            ],
            [
             0.3333333333333333,
             "#9c179e"
            ],
            [
             0.4444444444444444,
             "#bd3786"
            ],
            [
             0.5555555555555556,
             "#d8576b"
            ],
            [
             0.6666666666666666,
             "#ed7953"
            ],
            [
             0.7777777777777778,
             "#fb9f3a"
            ],
            [
             0.8888888888888888,
             "#fdca26"
            ],
            [
             1,
             "#f0f921"
            ]
           ],
           "sequentialminus": [
            [
             0,
             "#0d0887"
            ],
            [
             0.1111111111111111,
             "#46039f"
            ],
            [
             0.2222222222222222,
             "#7201a8"
            ],
            [
             0.3333333333333333,
             "#9c179e"
            ],
            [
             0.4444444444444444,
             "#bd3786"
            ],
            [
             0.5555555555555556,
             "#d8576b"
            ],
            [
             0.6666666666666666,
             "#ed7953"
            ],
            [
             0.7777777777777778,
             "#fb9f3a"
            ],
            [
             0.8888888888888888,
             "#fdca26"
            ],
            [
             1,
             "#f0f921"
            ]
           ]
          },
          "colorway": [
           "#636efa",
           "#EF553B",
           "#00cc96",
           "#ab63fa",
           "#FFA15A",
           "#19d3f3",
           "#FF6692",
           "#B6E880",
           "#FF97FF",
           "#FECB52"
          ],
          "font": {
           "color": "#2a3f5f"
          },
          "geo": {
           "bgcolor": "white",
           "lakecolor": "white",
           "landcolor": "#E5ECF6",
           "showlakes": true,
           "showland": true,
           "subunitcolor": "white"
          },
          "hoverlabel": {
           "align": "left"
          },
          "hovermode": "closest",
          "mapbox": {
           "style": "light"
          },
          "paper_bgcolor": "white",
          "plot_bgcolor": "#E5ECF6",
          "polar": {
           "angularaxis": {
            "gridcolor": "white",
            "linecolor": "white",
            "ticks": ""
           },
           "bgcolor": "#E5ECF6",
           "radialaxis": {
            "gridcolor": "white",
            "linecolor": "white",
            "ticks": ""
           }
          },
          "scene": {
           "xaxis": {
            "backgroundcolor": "#E5ECF6",
            "gridcolor": "white",
            "gridwidth": 2,
            "linecolor": "white",
            "showbackground": true,
            "ticks": "",
            "zerolinecolor": "white"
           },
           "yaxis": {
            "backgroundcolor": "#E5ECF6",
            "gridcolor": "white",
            "gridwidth": 2,
            "linecolor": "white",
            "showbackground": true,
            "ticks": "",
            "zerolinecolor": "white"
           },
           "zaxis": {
            "backgroundcolor": "#E5ECF6",
            "gridcolor": "white",
            "gridwidth": 2,
            "linecolor": "white",
            "showbackground": true,
            "ticks": "",
            "zerolinecolor": "white"
           }
          },
          "shapedefaults": {
           "line": {
            "color": "#2a3f5f"
           }
          },
          "ternary": {
           "aaxis": {
            "gridcolor": "white",
            "linecolor": "white",
            "ticks": ""
           },
           "baxis": {
            "gridcolor": "white",
            "linecolor": "white",
            "ticks": ""
           },
           "bgcolor": "#E5ECF6",
           "caxis": {
            "gridcolor": "white",
            "linecolor": "white",
            "ticks": ""
           }
          },
          "title": {
           "x": 0.05
          },
          "xaxis": {
           "automargin": true,
           "gridcolor": "white",
           "linecolor": "white",
           "ticks": "",
           "title": {
            "standoff": 15
           },
           "zerolinecolor": "white",
           "zerolinewidth": 2
          },
          "yaxis": {
           "automargin": true,
           "gridcolor": "white",
           "linecolor": "white",
           "ticks": "",
           "title": {
            "standoff": 15
           },
           "zerolinecolor": "white",
           "zerolinewidth": 2
          }
         }
        },
        "title": {
         "text": "GDP 2025 Forecast for Countries by Human Development Index"
        },
        "xaxis": {
         "anchor": "y",
         "domain": [
          0,
          1
         ],
         "title": {
          "text": "Country Code"
         }
        },
        "yaxis": {
         "anchor": "x",
         "domain": [
          0,
          1
         ],
         "title": {
          "text": "GDP Forecast 2025 (% Increase)"
         }
        }
       }
      },
      "text/html": [
       "<div>                            <div id=\"798fae0b-548c-44c7-a359-4c3df90ca40f\" class=\"plotly-graph-div\" style=\"height:525px; width:100%;\"></div>            <script type=\"text/javascript\">                require([\"plotly\"], function(Plotly) {                    window.PLOTLYENV=window.PLOTLYENV || {};                                    if (document.getElementById(\"798fae0b-548c-44c7-a359-4c3df90ca40f\")) {                    Plotly.newPlot(                        \"798fae0b-548c-44c7-a359-4c3df90ca40f\",                        [{\"alignmentgroup\":\"True\",\"hovertemplate\":\"Code=%{x}<br>GDP=%{y}<br>HDI=%{marker.color}<extra></extra>\",\"legendgroup\":\"\",\"marker\":{\"color\":[0.825,0.939,0.632,0.754,0.717,0.926,0.93,0.832,0.747,0.888,0.942,0.929,0.876,0.463,0.883,0.592,0.865,0.828,0.694,0.64,0.919,0.548,0.582,0.477,0.756,0.931,0.957,0.574,0.516,0.92,0.699],\"coloraxis\":\"coloraxis\",\"pattern\":{\"shape\":\"\"}},\"name\":\"\",\"offsetgroup\":\"\",\"orientation\":\"v\",\"showlegend\":false,\"textposition\":\"auto\",\"x\":[\"AR\",\"AU\",\"BD\",\"BR\",\"BW\",\"CA\",\"CH\",\"CL\",\"CO\",\"CZ\",\"DE\",\"DK\",\"ES\",\"ET\",\"FI\",\"GH\",\"GR\",\"HU\",\"ID\",\"IN\",\"JP\",\"KE\",\"KH\",\"MW\",\"MX\",\"NL\",\"NO\",\"NP\",\"UG\",\"US\",\"ZA\"],\"xaxis\":\"x\",\"y\":[3.3,2.0,6.6,1.9,4.3,2.4,1.2,2.3,2.9,2.9,2.0,1.2,2.1,6.5,1.3,4.6,1.4,3.3,5.0,6.3,0.6,5.3,6.4,3.8,1.5,1.5,1.2,5.2,7.5,1.8,1.6],\"yaxis\":\"y\",\"type\":\"bar\"}],                        {\"template\":{\"data\":{\"histogram2dcontour\":[{\"type\":\"histogram2dcontour\",\"colorbar\":{\"outlinewidth\":0,\"ticks\":\"\"},\"colorscale\":[[0.0,\"#0d0887\"],[0.1111111111111111,\"#46039f\"],[0.2222222222222222,\"#7201a8\"],[0.3333333333333333,\"#9c179e\"],[0.4444444444444444,\"#bd3786\"],[0.5555555555555556,\"#d8576b\"],[0.6666666666666666,\"#ed7953\"],[0.7777777777777778,\"#fb9f3a\"],[0.8888888888888888,\"#fdca26\"],[1.0,\"#f0f921\"]]}],\"choropleth\":[{\"type\":\"choropleth\",\"colorbar\":{\"outlinewidth\":0,\"ticks\":\"\"}}],\"histogram2d\":[{\"type\":\"histogram2d\",\"colorbar\":{\"outlinewidth\":0,\"ticks\":\"\"},\"colorscale\":[[0.0,\"#0d0887\"],[0.1111111111111111,\"#46039f\"],[0.2222222222222222,\"#7201a8\"],[0.3333333333333333,\"#9c179e\"],[0.4444444444444444,\"#bd3786\"],[0.5555555555555556,\"#d8576b\"],[0.6666666666666666,\"#ed7953\"],[0.7777777777777778,\"#fb9f3a\"],[0.8888888888888888,\"#fdca26\"],[1.0,\"#f0f921\"]]}],\"heatmap\":[{\"type\":\"heatmap\",\"colorbar\":{\"outlinewidth\":0,\"ticks\":\"\"},\"colorscale\":[[0.0,\"#0d0887\"],[0.1111111111111111,\"#46039f\"],[0.2222222222222222,\"#7201a8\"],[0.3333333333333333,\"#9c179e\"],[0.4444444444444444,\"#bd3786\"],[0.5555555555555556,\"#d8576b\"],[0.6666666666666666,\"#ed7953\"],[0.7777777777777778,\"#fb9f3a\"],[0.8888888888888888,\"#fdca26\"],[1.0,\"#f0f921\"]]}],\"heatmapgl\":[{\"type\":\"heatmapgl\",\"colorbar\":{\"outlinewidth\":0,\"ticks\":\"\"},\"colorscale\":[[0.0,\"#0d0887\"],[0.1111111111111111,\"#46039f\"],[0.2222222222222222,\"#7201a8\"],[0.3333333333333333,\"#9c179e\"],[0.4444444444444444,\"#bd3786\"],[0.5555555555555556,\"#d8576b\"],[0.6666666666666666,\"#ed7953\"],[0.7777777777777778,\"#fb9f3a\"],[0.8888888888888888,\"#fdca26\"],[1.0,\"#f0f921\"]]}],\"contourcarpet\":[{\"type\":\"contourcarpet\",\"colorbar\":{\"outlinewidth\":0,\"ticks\":\"\"}}],\"contour\":[{\"type\":\"contour\",\"colorbar\":{\"outlinewidth\":0,\"ticks\":\"\"},\"colorscale\":[[0.0,\"#0d0887\"],[0.1111111111111111,\"#46039f\"],[0.2222222222222222,\"#7201a8\"],[0.3333333333333333,\"#9c179e\"],[0.4444444444444444,\"#bd3786\"],[0.5555555555555556,\"#d8576b\"],[0.6666666666666666,\"#ed7953\"],[0.7777777777777778,\"#fb9f3a\"],[0.8888888888888888,\"#fdca26\"],[1.0,\"#f0f921\"]]}],\"surface\":[{\"type\":\"surface\",\"colorbar\":{\"outlinewidth\":0,\"ticks\":\"\"},\"colorscale\":[[0.0,\"#0d0887\"],[0.1111111111111111,\"#46039f\"],[0.2222222222222222,\"#7201a8\"],[0.3333333333333333,\"#9c179e\"],[0.4444444444444444,\"#bd3786\"],[0.5555555555555556,\"#d8576b\"],[0.6666666666666666,\"#ed7953\"],[0.7777777777777778,\"#fb9f3a\"],[0.8888888888888888,\"#fdca26\"],[1.0,\"#f0f921\"]]}],\"mesh3d\":[{\"type\":\"mesh3d\",\"colorbar\":{\"outlinewidth\":0,\"ticks\":\"\"}}],\"scatter\":[{\"fillpattern\":{\"fillmode\":\"overlay\",\"size\":10,\"solidity\":0.2},\"type\":\"scatter\"}],\"parcoords\":[{\"type\":\"parcoords\",\"line\":{\"colorbar\":{\"outlinewidth\":0,\"ticks\":\"\"}}}],\"scatterpolargl\":[{\"type\":\"scatterpolargl\",\"marker\":{\"colorbar\":{\"outlinewidth\":0,\"ticks\":\"\"}}}],\"bar\":[{\"error_x\":{\"color\":\"#2a3f5f\"},\"error_y\":{\"color\":\"#2a3f5f\"},\"marker\":{\"line\":{\"color\":\"#E5ECF6\",\"width\":0.5},\"pattern\":{\"fillmode\":\"overlay\",\"size\":10,\"solidity\":0.2}},\"type\":\"bar\"}],\"scattergeo\":[{\"type\":\"scattergeo\",\"marker\":{\"colorbar\":{\"outlinewidth\":0,\"ticks\":\"\"}}}],\"scatterpolar\":[{\"type\":\"scatterpolar\",\"marker\":{\"colorbar\":{\"outlinewidth\":0,\"ticks\":\"\"}}}],\"histogram\":[{\"marker\":{\"pattern\":{\"fillmode\":\"overlay\",\"size\":10,\"solidity\":0.2}},\"type\":\"histogram\"}],\"scattergl\":[{\"type\":\"scattergl\",\"marker\":{\"colorbar\":{\"outlinewidth\":0,\"ticks\":\"\"}}}],\"scatter3d\":[{\"type\":\"scatter3d\",\"line\":{\"colorbar\":{\"outlinewidth\":0,\"ticks\":\"\"}},\"marker\":{\"colorbar\":{\"outlinewidth\":0,\"ticks\":\"\"}}}],\"scattermapbox\":[{\"type\":\"scattermapbox\",\"marker\":{\"colorbar\":{\"outlinewidth\":0,\"ticks\":\"\"}}}],\"scatterternary\":[{\"type\":\"scatterternary\",\"marker\":{\"colorbar\":{\"outlinewidth\":0,\"ticks\":\"\"}}}],\"scattercarpet\":[{\"type\":\"scattercarpet\",\"marker\":{\"colorbar\":{\"outlinewidth\":0,\"ticks\":\"\"}}}],\"carpet\":[{\"aaxis\":{\"endlinecolor\":\"#2a3f5f\",\"gridcolor\":\"white\",\"linecolor\":\"white\",\"minorgridcolor\":\"white\",\"startlinecolor\":\"#2a3f5f\"},\"baxis\":{\"endlinecolor\":\"#2a3f5f\",\"gridcolor\":\"white\",\"linecolor\":\"white\",\"minorgridcolor\":\"white\",\"startlinecolor\":\"#2a3f5f\"},\"type\":\"carpet\"}],\"table\":[{\"cells\":{\"fill\":{\"color\":\"#EBF0F8\"},\"line\":{\"color\":\"white\"}},\"header\":{\"fill\":{\"color\":\"#C8D4E3\"},\"line\":{\"color\":\"white\"}},\"type\":\"table\"}],\"barpolar\":[{\"marker\":{\"line\":{\"color\":\"#E5ECF6\",\"width\":0.5},\"pattern\":{\"fillmode\":\"overlay\",\"size\":10,\"solidity\":0.2}},\"type\":\"barpolar\"}],\"pie\":[{\"automargin\":true,\"type\":\"pie\"}]},\"layout\":{\"autotypenumbers\":\"strict\",\"colorway\":[\"#636efa\",\"#EF553B\",\"#00cc96\",\"#ab63fa\",\"#FFA15A\",\"#19d3f3\",\"#FF6692\",\"#B6E880\",\"#FF97FF\",\"#FECB52\"],\"font\":{\"color\":\"#2a3f5f\"},\"hovermode\":\"closest\",\"hoverlabel\":{\"align\":\"left\"},\"paper_bgcolor\":\"white\",\"plot_bgcolor\":\"#E5ECF6\",\"polar\":{\"bgcolor\":\"#E5ECF6\",\"angularaxis\":{\"gridcolor\":\"white\",\"linecolor\":\"white\",\"ticks\":\"\"},\"radialaxis\":{\"gridcolor\":\"white\",\"linecolor\":\"white\",\"ticks\":\"\"}},\"ternary\":{\"bgcolor\":\"#E5ECF6\",\"aaxis\":{\"gridcolor\":\"white\",\"linecolor\":\"white\",\"ticks\":\"\"},\"baxis\":{\"gridcolor\":\"white\",\"linecolor\":\"white\",\"ticks\":\"\"},\"caxis\":{\"gridcolor\":\"white\",\"linecolor\":\"white\",\"ticks\":\"\"}},\"coloraxis\":{\"colorbar\":{\"outlinewidth\":0,\"ticks\":\"\"}},\"colorscale\":{\"sequential\":[[0.0,\"#0d0887\"],[0.1111111111111111,\"#46039f\"],[0.2222222222222222,\"#7201a8\"],[0.3333333333333333,\"#9c179e\"],[0.4444444444444444,\"#bd3786\"],[0.5555555555555556,\"#d8576b\"],[0.6666666666666666,\"#ed7953\"],[0.7777777777777778,\"#fb9f3a\"],[0.8888888888888888,\"#fdca26\"],[1.0,\"#f0f921\"]],\"sequentialminus\":[[0.0,\"#0d0887\"],[0.1111111111111111,\"#46039f\"],[0.2222222222222222,\"#7201a8\"],[0.3333333333333333,\"#9c179e\"],[0.4444444444444444,\"#bd3786\"],[0.5555555555555556,\"#d8576b\"],[0.6666666666666666,\"#ed7953\"],[0.7777777777777778,\"#fb9f3a\"],[0.8888888888888888,\"#fdca26\"],[1.0,\"#f0f921\"]],\"diverging\":[[0,\"#8e0152\"],[0.1,\"#c51b7d\"],[0.2,\"#de77ae\"],[0.3,\"#f1b6da\"],[0.4,\"#fde0ef\"],[0.5,\"#f7f7f7\"],[0.6,\"#e6f5d0\"],[0.7,\"#b8e186\"],[0.8,\"#7fbc41\"],[0.9,\"#4d9221\"],[1,\"#276419\"]]},\"xaxis\":{\"gridcolor\":\"white\",\"linecolor\":\"white\",\"ticks\":\"\",\"title\":{\"standoff\":15},\"zerolinecolor\":\"white\",\"automargin\":true,\"zerolinewidth\":2},\"yaxis\":{\"gridcolor\":\"white\",\"linecolor\":\"white\",\"ticks\":\"\",\"title\":{\"standoff\":15},\"zerolinecolor\":\"white\",\"automargin\":true,\"zerolinewidth\":2},\"scene\":{\"xaxis\":{\"backgroundcolor\":\"#E5ECF6\",\"gridcolor\":\"white\",\"linecolor\":\"white\",\"showbackground\":true,\"ticks\":\"\",\"zerolinecolor\":\"white\",\"gridwidth\":2},\"yaxis\":{\"backgroundcolor\":\"#E5ECF6\",\"gridcolor\":\"white\",\"linecolor\":\"white\",\"showbackground\":true,\"ticks\":\"\",\"zerolinecolor\":\"white\",\"gridwidth\":2},\"zaxis\":{\"backgroundcolor\":\"#E5ECF6\",\"gridcolor\":\"white\",\"linecolor\":\"white\",\"showbackground\":true,\"ticks\":\"\",\"zerolinecolor\":\"white\",\"gridwidth\":2}},\"shapedefaults\":{\"line\":{\"color\":\"#2a3f5f\"}},\"annotationdefaults\":{\"arrowcolor\":\"#2a3f5f\",\"arrowhead\":0,\"arrowwidth\":1},\"geo\":{\"bgcolor\":\"white\",\"landcolor\":\"#E5ECF6\",\"subunitcolor\":\"white\",\"showland\":true,\"showlakes\":true,\"lakecolor\":\"white\"},\"title\":{\"x\":0.05},\"mapbox\":{\"style\":\"light\"}}},\"xaxis\":{\"anchor\":\"y\",\"domain\":[0.0,1.0],\"title\":{\"text\":\"Country Code\"}},\"yaxis\":{\"anchor\":\"x\",\"domain\":[0.0,1.0],\"title\":{\"text\":\"GDP Forecast 2025 (% Increase)\"}},\"coloraxis\":{\"colorbar\":{\"title\":{\"text\":\"HDI\"}},\"colorscale\":[[0.0,\"#0d0887\"],[0.1111111111111111,\"#46039f\"],[0.2222222222222222,\"#7201a8\"],[0.3333333333333333,\"#9c179e\"],[0.4444444444444444,\"#bd3786\"],[0.5555555555555556,\"#d8576b\"],[0.6666666666666666,\"#ed7953\"],[0.7777777777777778,\"#fb9f3a\"],[0.8888888888888888,\"#fdca26\"],[1.0,\"#f0f921\"]]},\"legend\":{\"tracegroupgap\":0},\"title\":{\"text\":\"GDP 2025 Forecast for Countries by Human Development Index\"},\"barmode\":\"group\"},                        {\"responsive\": true}                    ).then(function(){\n",
       "                            \n",
       "var gd = document.getElementById('798fae0b-548c-44c7-a359-4c3df90ca40f');\n",
       "var x = new MutationObserver(function (mutations, observer) {{\n",
       "        var display = window.getComputedStyle(gd).display;\n",
       "        if (!display || display === 'none') {{\n",
       "            console.log([gd, 'removed!']);\n",
       "            Plotly.purge(gd);\n",
       "            observer.disconnect();\n",
       "        }}\n",
       "}});\n",
       "\n",
       "// Listen for the removal of the full notebook cells\n",
       "var notebookContainer = gd.closest('#notebook-container');\n",
       "if (notebookContainer) {{\n",
       "    x.observe(notebookContainer, {childList: true});\n",
       "}}\n",
       "\n",
       "// Listen for the clearing of the current output cell\n",
       "var outputEl = gd.closest('.output');\n",
       "if (outputEl) {{\n",
       "    x.observe(outputEl, {childList: true});\n",
       "}}\n",
       "\n",
       "                        })                };                });            </script>        </div>"
      ]
     },
     "metadata": {},
     "output_type": "display_data"
    }
   ],
   "source": [
    "fig = px.bar(result_1_df, x=\"Code\", y=\"GDP\", color=\"HDI\", barmode=\"group\",\n",
    "             title = 'GDP 2025 Forecast for Countries by Human Development Index')\n",
    "fig.update_layout(xaxis_title = 'Country Code', yaxis_title = 'GDP Forecast 2025 (% Increase)')\n",
    "fig.show()"
   ]
  },
  {
   "cell_type": "markdown",
   "id": "503ab5c0",
   "metadata": {},
   "source": [
    "### Query and Data Visualization  #2\n",
    "\n",
    "Children and Education Affected by COVID School Closures\n",
    "\n",
    "* Tables used - countries, demographics, lean"
   ]
  },
  {
   "cell_type": "markdown",
   "id": "17a6a211",
   "metadata": {},
   "source": [
    "**Database Query #2**"
   ]
  },
  {
   "cell_type": "code",
   "execution_count": 52,
   "id": "84b97bb4",
   "metadata": {},
   "outputs": [],
   "source": [
    "# Connect to Database server\n",
    "connection = mysql.connector.connect(\n",
    "    host='localhost',\n",
    "    user='root',\n",
    "    password=PASSWORD,\n",
    "    database='covid_db'\n",
    ")\n",
    "\n",
    "cursor = connection.cursor()\n",
    "\n",
    "sql_2 = \"\"\"SELECT \n",
    "                c.country_code,\n",
    "                d.population,\n",
    "                d.population_age_00_09,\n",
    "                d.population_age_10_19,\n",
    "                l.loss, \n",
    "                l.weeks,\n",
    "                l.hlo\n",
    "            FROM countries c\n",
    "            INNER JOIN demographics d ON c.country_code = d.country_code\n",
    "            INNER JOIN learn l ON c.country_name = l.country_name \"\"\"\n",
    "result_2 = cursor.execute(sql_2)\n",
    "result_2_df = pd.DataFrame(cursor.fetchall(), columns = ['Code', 'Pop', 'Pop_00_09', 'Pop_10_19', 'Loss', 'Weeks', 'Quality'])\n",
    "\n",
    "# Close the cursor and connection\n",
    "cursor.close()\n",
    "connection.close()"
   ]
  },
  {
   "cell_type": "code",
   "execution_count": 53,
   "id": "67383ab5",
   "metadata": {},
   "outputs": [
    {
     "data": {
      "text/plain": [
       "(31, 7)"
      ]
     },
     "execution_count": 53,
     "metadata": {},
     "output_type": "execute_result"
    }
   ],
   "source": [
    "result_2_df.shape"
   ]
  },
  {
   "cell_type": "code",
   "execution_count": 54,
   "id": "166cadec",
   "metadata": {},
   "outputs": [
    {
     "data": {
      "text/html": [
       "<div>\n",
       "<style scoped>\n",
       "    .dataframe tbody tr th:only-of-type {\n",
       "        vertical-align: middle;\n",
       "    }\n",
       "\n",
       "    .dataframe tbody tr th {\n",
       "        vertical-align: top;\n",
       "    }\n",
       "\n",
       "    .dataframe thead th {\n",
       "        text-align: right;\n",
       "    }\n",
       "</style>\n",
       "<table border=\"1\" class=\"dataframe\">\n",
       "  <thead>\n",
       "    <tr style=\"text-align: right;\">\n",
       "      <th></th>\n",
       "      <th>Code</th>\n",
       "      <th>Pop</th>\n",
       "      <th>Pop_00_09</th>\n",
       "      <th>Pop_10_19</th>\n",
       "      <th>Loss</th>\n",
       "      <th>Weeks</th>\n",
       "      <th>Quality</th>\n",
       "    </tr>\n",
       "  </thead>\n",
       "  <tbody>\n",
       "    <tr>\n",
       "      <th>0</th>\n",
       "      <td>AR</td>\n",
       "      <td>44938712</td>\n",
       "      <td>6718871</td>\n",
       "      <td>7045513</td>\n",
       "      <td>0.44</td>\n",
       "      <td>39.0</td>\n",
       "      <td>457.418</td>\n",
       "    </tr>\n",
       "    <tr>\n",
       "      <th>1</th>\n",
       "      <td>AU</td>\n",
       "      <td>25499881</td>\n",
       "      <td>3308974</td>\n",
       "      <td>3130480</td>\n",
       "      <td>0.01</td>\n",
       "      <td>8.0</td>\n",
       "      <td>544.360</td>\n",
       "    </tr>\n",
       "    <tr>\n",
       "      <th>2</th>\n",
       "      <td>BD</td>\n",
       "      <td>164689383</td>\n",
       "      <td>28972610</td>\n",
       "      <td>30674422</td>\n",
       "      <td>0.28</td>\n",
       "      <td>63.0</td>\n",
       "      <td>340.088</td>\n",
       "    </tr>\n",
       "    <tr>\n",
       "      <th>3</th>\n",
       "      <td>BR</td>\n",
       "      <td>212559409</td>\n",
       "      <td>29076910</td>\n",
       "      <td>31160446</td>\n",
       "      <td>0.32</td>\n",
       "      <td>38.0</td>\n",
       "      <td>465.452</td>\n",
       "    </tr>\n",
       "    <tr>\n",
       "      <th>4</th>\n",
       "      <td>BW</td>\n",
       "      <td>2351625</td>\n",
       "      <td>539005</td>\n",
       "      <td>472033</td>\n",
       "      <td>0.29</td>\n",
       "      <td>11.0</td>\n",
       "      <td>417.656</td>\n",
       "    </tr>\n",
       "  </tbody>\n",
       "</table>\n",
       "</div>"
      ],
      "text/plain": [
       "  Code        Pop  Pop_00_09  Pop_10_19  Loss  Weeks  Quality\n",
       "0   AR   44938712    6718871    7045513  0.44   39.0  457.418\n",
       "1   AU   25499881    3308974    3130480  0.01    8.0  544.360\n",
       "2   BD  164689383   28972610   30674422  0.28   63.0  340.088\n",
       "3   BR  212559409   29076910   31160446  0.32   38.0  465.452\n",
       "4   BW    2351625     539005     472033  0.29   11.0  417.656"
      ]
     },
     "execution_count": 54,
     "metadata": {},
     "output_type": "execute_result"
    }
   ],
   "source": [
    "result_2_df.head()"
   ]
  },
  {
   "cell_type": "code",
   "execution_count": 55,
   "id": "8341fc83",
   "metadata": {},
   "outputs": [],
   "source": [
    "result_2_df['Prop_00_09'] = np.round(result_2_df['Pop_00_09']/result_2_df['Pop'], decimals = 2)\n",
    "result_2_df['Prop_10_19'] = np.round(result_2_df['Pop_10_19']/result_2_df['Pop'], decimals = 2)"
   ]
  },
  {
   "cell_type": "markdown",
   "id": "b4ff1f3c",
   "metadata": {},
   "source": [
    "**Data Visualization #2**"
   ]
  },
  {
   "cell_type": "code",
   "execution_count": 56,
   "id": "2fa10ec3",
   "metadata": {},
   "outputs": [
    {
     "data": {
      "application/vnd.plotly.v1+json": {
       "config": {
        "plotlyServerURL": "https://plot.ly"
       },
       "data": [
        {
         "hovertemplate": "Weeks=%{x}<br>Loss=%{y}<br>Prop_10_19=%{marker.size}<br>Code=%{text}<br>School Quality=%{marker.color}<extra></extra>",
         "legendgroup": "",
         "marker": {
          "color": [
           457.418,
           544.36,
           340.088,
           465.452,
           417.656,
           543.098,
           555.16,
           493.872,
           466.312,
           481.298,
           537.325,
           547.492,
           527.74,
           323.842,
           566.007,
           229.175,
           524,
           554.16,
           396.666,
           510.597,
           569.013,
           364.141,
           491.948,
           302.533,
           467.986,
           544.884,
           516.874,
           340.528,
           359.673,
           469.567,
           319.629
          ],
          "coloraxis": "coloraxis",
          "size": [
           0.16,
           0.12,
           0.19,
           0.15,
           0.2,
           0.11,
           0.1,
           0.14,
           0.16,
           0.1,
           0.09,
           0.12,
           0.1,
           0.23,
           0.11,
           0.21,
           0.1,
           0.1,
           0.17,
           0.18,
           0.09,
           0.24,
           0.19,
           0.25,
           0.2,
           0.12,
           0.12,
           0.21,
           0.25,
           0.13,
           0.18
          ],
          "sizemode": "area",
          "sizeref": 0.000625,
          "symbol": "circle"
         },
         "mode": "markers+text",
         "name": "",
         "orientation": "v",
         "showlegend": false,
         "text": [
          "AR",
          "AU",
          "BD",
          "BR",
          "BW",
          "CA",
          "CH",
          "CL",
          "CO",
          "CZ",
          "DE",
          "DK",
          "ES",
          "ET",
          "FI",
          "GH",
          "GR",
          "HU",
          "ID",
          "IN",
          "JP",
          "KE",
          "KH",
          "MW",
          "MX",
          "NL",
          "NO",
          "NP",
          "UG",
          "US",
          "ZA"
         ],
         "type": "scatter",
         "x": [
          39,
          8,
          63,
          38,
          11,
          26,
          8,
          14,
          23,
          9,
          10,
          8,
          10,
          21,
          8,
          10,
          12,
          13,
          20,
          93,
          11,
          28,
          40,
          30,
          48,
          8,
          7,
          40,
          39,
          8,
          15
         ],
         "xaxis": "x",
         "y": [
          0.44,
          0.01,
          0.28,
          0.32,
          0.29,
          0.17,
          0.2,
          0.25,
          0.24,
          0.08,
          0.18,
          0.03,
          0.05,
          0.11,
          0.22,
          0.25,
          0.22,
          0.16,
          0.11,
          0.52,
          0.02,
          0.36,
          0.45,
          0.47,
          0.37,
          0.17,
          0.24,
          0.8,
          0.14,
          0.22,
          0.22
         ],
         "yaxis": "y"
        }
       ],
       "layout": {
        "coloraxis": {
         "colorbar": {
          "title": {
           "text": "School Quality"
          }
         },
         "colorscale": [
          [
           0,
           "#0d0887"
          ],
          [
           0.1111111111111111,
           "#46039f"
          ],
          [
           0.2222222222222222,
           "#7201a8"
          ],
          [
           0.3333333333333333,
           "#9c179e"
          ],
          [
           0.4444444444444444,
           "#bd3786"
          ],
          [
           0.5555555555555556,
           "#d8576b"
          ],
          [
           0.6666666666666666,
           "#ed7953"
          ],
          [
           0.7777777777777778,
           "#fb9f3a"
          ],
          [
           0.8888888888888888,
           "#fdca26"
          ],
          [
           1,
           "#f0f921"
          ]
         ]
        },
        "height": 600,
        "legend": {
         "itemsizing": "constant",
         "tracegroupgap": 0
        },
        "template": {
         "data": {
          "bar": [
           {
            "error_x": {
             "color": "#2a3f5f"
            },
            "error_y": {
             "color": "#2a3f5f"
            },
            "marker": {
             "line": {
              "color": "#E5ECF6",
              "width": 0.5
             },
             "pattern": {
              "fillmode": "overlay",
              "size": 10,
              "solidity": 0.2
             }
            },
            "type": "bar"
           }
          ],
          "barpolar": [
           {
            "marker": {
             "line": {
              "color": "#E5ECF6",
              "width": 0.5
             },
             "pattern": {
              "fillmode": "overlay",
              "size": 10,
              "solidity": 0.2
             }
            },
            "type": "barpolar"
           }
          ],
          "carpet": [
           {
            "aaxis": {
             "endlinecolor": "#2a3f5f",
             "gridcolor": "white",
             "linecolor": "white",
             "minorgridcolor": "white",
             "startlinecolor": "#2a3f5f"
            },
            "baxis": {
             "endlinecolor": "#2a3f5f",
             "gridcolor": "white",
             "linecolor": "white",
             "minorgridcolor": "white",
             "startlinecolor": "#2a3f5f"
            },
            "type": "carpet"
           }
          ],
          "choropleth": [
           {
            "colorbar": {
             "outlinewidth": 0,
             "ticks": ""
            },
            "type": "choropleth"
           }
          ],
          "contour": [
           {
            "colorbar": {
             "outlinewidth": 0,
             "ticks": ""
            },
            "colorscale": [
             [
              0,
              "#0d0887"
             ],
             [
              0.1111111111111111,
              "#46039f"
             ],
             [
              0.2222222222222222,
              "#7201a8"
             ],
             [
              0.3333333333333333,
              "#9c179e"
             ],
             [
              0.4444444444444444,
              "#bd3786"
             ],
             [
              0.5555555555555556,
              "#d8576b"
             ],
             [
              0.6666666666666666,
              "#ed7953"
             ],
             [
              0.7777777777777778,
              "#fb9f3a"
             ],
             [
              0.8888888888888888,
              "#fdca26"
             ],
             [
              1,
              "#f0f921"
             ]
            ],
            "type": "contour"
           }
          ],
          "contourcarpet": [
           {
            "colorbar": {
             "outlinewidth": 0,
             "ticks": ""
            },
            "type": "contourcarpet"
           }
          ],
          "heatmap": [
           {
            "colorbar": {
             "outlinewidth": 0,
             "ticks": ""
            },
            "colorscale": [
             [
              0,
              "#0d0887"
             ],
             [
              0.1111111111111111,
              "#46039f"
             ],
             [
              0.2222222222222222,
              "#7201a8"
             ],
             [
              0.3333333333333333,
              "#9c179e"
             ],
             [
              0.4444444444444444,
              "#bd3786"
             ],
             [
              0.5555555555555556,
              "#d8576b"
             ],
             [
              0.6666666666666666,
              "#ed7953"
             ],
             [
              0.7777777777777778,
              "#fb9f3a"
             ],
             [
              0.8888888888888888,
              "#fdca26"
             ],
             [
              1,
              "#f0f921"
             ]
            ],
            "type": "heatmap"
           }
          ],
          "heatmapgl": [
           {
            "colorbar": {
             "outlinewidth": 0,
             "ticks": ""
            },
            "colorscale": [
             [
              0,
              "#0d0887"
             ],
             [
              0.1111111111111111,
              "#46039f"
             ],
             [
              0.2222222222222222,
              "#7201a8"
             ],
             [
              0.3333333333333333,
              "#9c179e"
             ],
             [
              0.4444444444444444,
              "#bd3786"
             ],
             [
              0.5555555555555556,
              "#d8576b"
             ],
             [
              0.6666666666666666,
              "#ed7953"
             ],
             [
              0.7777777777777778,
              "#fb9f3a"
             ],
             [
              0.8888888888888888,
              "#fdca26"
             ],
             [
              1,
              "#f0f921"
             ]
            ],
            "type": "heatmapgl"
           }
          ],
          "histogram": [
           {
            "marker": {
             "pattern": {
              "fillmode": "overlay",
              "size": 10,
              "solidity": 0.2
             }
            },
            "type": "histogram"
           }
          ],
          "histogram2d": [
           {
            "colorbar": {
             "outlinewidth": 0,
             "ticks": ""
            },
            "colorscale": [
             [
              0,
              "#0d0887"
             ],
             [
              0.1111111111111111,
              "#46039f"
             ],
             [
              0.2222222222222222,
              "#7201a8"
             ],
             [
              0.3333333333333333,
              "#9c179e"
             ],
             [
              0.4444444444444444,
              "#bd3786"
             ],
             [
              0.5555555555555556,
              "#d8576b"
             ],
             [
              0.6666666666666666,
              "#ed7953"
             ],
             [
              0.7777777777777778,
              "#fb9f3a"
             ],
             [
              0.8888888888888888,
              "#fdca26"
             ],
             [
              1,
              "#f0f921"
             ]
            ],
            "type": "histogram2d"
           }
          ],
          "histogram2dcontour": [
           {
            "colorbar": {
             "outlinewidth": 0,
             "ticks": ""
            },
            "colorscale": [
             [
              0,
              "#0d0887"
             ],
             [
              0.1111111111111111,
              "#46039f"
             ],
             [
              0.2222222222222222,
              "#7201a8"
             ],
             [
              0.3333333333333333,
              "#9c179e"
             ],
             [
              0.4444444444444444,
              "#bd3786"
             ],
             [
              0.5555555555555556,
              "#d8576b"
             ],
             [
              0.6666666666666666,
              "#ed7953"
             ],
             [
              0.7777777777777778,
              "#fb9f3a"
             ],
             [
              0.8888888888888888,
              "#fdca26"
             ],
             [
              1,
              "#f0f921"
             ]
            ],
            "type": "histogram2dcontour"
           }
          ],
          "mesh3d": [
           {
            "colorbar": {
             "outlinewidth": 0,
             "ticks": ""
            },
            "type": "mesh3d"
           }
          ],
          "parcoords": [
           {
            "line": {
             "colorbar": {
              "outlinewidth": 0,
              "ticks": ""
             }
            },
            "type": "parcoords"
           }
          ],
          "pie": [
           {
            "automargin": true,
            "type": "pie"
           }
          ],
          "scatter": [
           {
            "fillpattern": {
             "fillmode": "overlay",
             "size": 10,
             "solidity": 0.2
            },
            "type": "scatter"
           }
          ],
          "scatter3d": [
           {
            "line": {
             "colorbar": {
              "outlinewidth": 0,
              "ticks": ""
             }
            },
            "marker": {
             "colorbar": {
              "outlinewidth": 0,
              "ticks": ""
             }
            },
            "type": "scatter3d"
           }
          ],
          "scattercarpet": [
           {
            "marker": {
             "colorbar": {
              "outlinewidth": 0,
              "ticks": ""
             }
            },
            "type": "scattercarpet"
           }
          ],
          "scattergeo": [
           {
            "marker": {
             "colorbar": {
              "outlinewidth": 0,
              "ticks": ""
             }
            },
            "type": "scattergeo"
           }
          ],
          "scattergl": [
           {
            "marker": {
             "colorbar": {
              "outlinewidth": 0,
              "ticks": ""
             }
            },
            "type": "scattergl"
           }
          ],
          "scattermapbox": [
           {
            "marker": {
             "colorbar": {
              "outlinewidth": 0,
              "ticks": ""
             }
            },
            "type": "scattermapbox"
           }
          ],
          "scatterpolar": [
           {
            "marker": {
             "colorbar": {
              "outlinewidth": 0,
              "ticks": ""
             }
            },
            "type": "scatterpolar"
           }
          ],
          "scatterpolargl": [
           {
            "marker": {
             "colorbar": {
              "outlinewidth": 0,
              "ticks": ""
             }
            },
            "type": "scatterpolargl"
           }
          ],
          "scatterternary": [
           {
            "marker": {
             "colorbar": {
              "outlinewidth": 0,
              "ticks": ""
             }
            },
            "type": "scatterternary"
           }
          ],
          "surface": [
           {
            "colorbar": {
             "outlinewidth": 0,
             "ticks": ""
            },
            "colorscale": [
             [
              0,
              "#0d0887"
             ],
             [
              0.1111111111111111,
              "#46039f"
             ],
             [
              0.2222222222222222,
              "#7201a8"
             ],
             [
              0.3333333333333333,
              "#9c179e"
             ],
             [
              0.4444444444444444,
              "#bd3786"
             ],
             [
              0.5555555555555556,
              "#d8576b"
             ],
             [
              0.6666666666666666,
              "#ed7953"
             ],
             [
              0.7777777777777778,
              "#fb9f3a"
             ],
             [
              0.8888888888888888,
              "#fdca26"
             ],
             [
              1,
              "#f0f921"
             ]
            ],
            "type": "surface"
           }
          ],
          "table": [
           {
            "cells": {
             "fill": {
              "color": "#EBF0F8"
             },
             "line": {
              "color": "white"
             }
            },
            "header": {
             "fill": {
              "color": "#C8D4E3"
             },
             "line": {
              "color": "white"
             }
            },
            "type": "table"
           }
          ]
         },
         "layout": {
          "annotationdefaults": {
           "arrowcolor": "#2a3f5f",
           "arrowhead": 0,
           "arrowwidth": 1
          },
          "autotypenumbers": "strict",
          "coloraxis": {
           "colorbar": {
            "outlinewidth": 0,
            "ticks": ""
           }
          },
          "colorscale": {
           "diverging": [
            [
             0,
             "#8e0152"
            ],
            [
             0.1,
             "#c51b7d"
            ],
            [
             0.2,
             "#de77ae"
            ],
            [
             0.3,
             "#f1b6da"
            ],
            [
             0.4,
             "#fde0ef"
            ],
            [
             0.5,
             "#f7f7f7"
            ],
            [
             0.6,
             "#e6f5d0"
            ],
            [
             0.7,
             "#b8e186"
            ],
            [
             0.8,
             "#7fbc41"
            ],
            [
             0.9,
             "#4d9221"
            ],
            [
             1,
             "#276419"
            ]
           ],
           "sequential": [
            [
             0,
             "#0d0887"
            ],
            [
             0.1111111111111111,
             "#46039f"
            ],
            [
             0.2222222222222222,
             "#7201a8"
            ],
            [
             0.3333333333333333,
             "#9c179e"
            ],
            [
             0.4444444444444444,
             "#bd3786"
            ],
            [
             0.5555555555555556,
             "#d8576b"
            ],
            [
             0.6666666666666666,
             "#ed7953"
            ],
            [
             0.7777777777777778,
             "#fb9f3a"
            ],
            [
             0.8888888888888888,
             "#fdca26"
            ],
            [
             1,
             "#f0f921"
            ]
           ],
           "sequentialminus": [
            [
             0,
             "#0d0887"
            ],
            [
             0.1111111111111111,
             "#46039f"
            ],
            [
             0.2222222222222222,
             "#7201a8"
            ],
            [
             0.3333333333333333,
             "#9c179e"
            ],
            [
             0.4444444444444444,
             "#bd3786"
            ],
            [
             0.5555555555555556,
             "#d8576b"
            ],
            [
             0.6666666666666666,
             "#ed7953"
            ],
            [
             0.7777777777777778,
             "#fb9f3a"
            ],
            [
             0.8888888888888888,
             "#fdca26"
            ],
            [
             1,
             "#f0f921"
            ]
           ]
          },
          "colorway": [
           "#636efa",
           "#EF553B",
           "#00cc96",
           "#ab63fa",
           "#FFA15A",
           "#19d3f3",
           "#FF6692",
           "#B6E880",
           "#FF97FF",
           "#FECB52"
          ],
          "font": {
           "color": "#2a3f5f"
          },
          "geo": {
           "bgcolor": "white",
           "lakecolor": "white",
           "landcolor": "#E5ECF6",
           "showlakes": true,
           "showland": true,
           "subunitcolor": "white"
          },
          "hoverlabel": {
           "align": "left"
          },
          "hovermode": "closest",
          "mapbox": {
           "style": "light"
          },
          "paper_bgcolor": "white",
          "plot_bgcolor": "#E5ECF6",
          "polar": {
           "angularaxis": {
            "gridcolor": "white",
            "linecolor": "white",
            "ticks": ""
           },
           "bgcolor": "#E5ECF6",
           "radialaxis": {
            "gridcolor": "white",
            "linecolor": "white",
            "ticks": ""
           }
          },
          "scene": {
           "xaxis": {
            "backgroundcolor": "#E5ECF6",
            "gridcolor": "white",
            "gridwidth": 2,
            "linecolor": "white",
            "showbackground": true,
            "ticks": "",
            "zerolinecolor": "white"
           },
           "yaxis": {
            "backgroundcolor": "#E5ECF6",
            "gridcolor": "white",
            "gridwidth": 2,
            "linecolor": "white",
            "showbackground": true,
            "ticks": "",
            "zerolinecolor": "white"
           },
           "zaxis": {
            "backgroundcolor": "#E5ECF6",
            "gridcolor": "white",
            "gridwidth": 2,
            "linecolor": "white",
            "showbackground": true,
            "ticks": "",
            "zerolinecolor": "white"
           }
          },
          "shapedefaults": {
           "line": {
            "color": "#2a3f5f"
           }
          },
          "ternary": {
           "aaxis": {
            "gridcolor": "white",
            "linecolor": "white",
            "ticks": ""
           },
           "baxis": {
            "gridcolor": "white",
            "linecolor": "white",
            "ticks": ""
           },
           "bgcolor": "#E5ECF6",
           "caxis": {
            "gridcolor": "white",
            "linecolor": "white",
            "ticks": ""
           }
          },
          "title": {
           "x": 0.05
          },
          "xaxis": {
           "automargin": true,
           "gridcolor": "white",
           "linecolor": "white",
           "ticks": "",
           "title": {
            "standoff": 15
           },
           "zerolinecolor": "white",
           "zerolinewidth": 2
          },
          "yaxis": {
           "automargin": true,
           "gridcolor": "white",
           "linecolor": "white",
           "ticks": "",
           "title": {
            "standoff": 15
           },
           "zerolinecolor": "white",
           "zerolinewidth": 2
          }
         }
        },
        "title": {
         "text": "Correlation Between School Closure and Learning Loss: Sized by Proportion of Population Ages 10-19"
        },
        "width": 1200,
        "xaxis": {
         "anchor": "y",
         "domain": [
          0,
          1
         ],
         "nticks": 25,
         "title": {
          "text": "Weeks of School Closure During Pandemic"
         }
        },
        "yaxis": {
         "anchor": "x",
         "domain": [
          0,
          1
         ],
         "nticks": 10,
         "title": {
          "text": "Decline in Testing Scores (Standard Deviations)"
         }
        }
       }
      },
      "text/html": [
       "<div>                            <div id=\"5fa1edc5-6910-4f20-832f-698603d431c2\" class=\"plotly-graph-div\" style=\"height:600px; width:1200px;\"></div>            <script type=\"text/javascript\">                require([\"plotly\"], function(Plotly) {                    window.PLOTLYENV=window.PLOTLYENV || {};                                    if (document.getElementById(\"5fa1edc5-6910-4f20-832f-698603d431c2\")) {                    Plotly.newPlot(                        \"5fa1edc5-6910-4f20-832f-698603d431c2\",                        [{\"hovertemplate\":\"Weeks=%{x}<br>Loss=%{y}<br>Prop_10_19=%{marker.size}<br>Code=%{text}<br>School Quality=%{marker.color}<extra></extra>\",\"legendgroup\":\"\",\"marker\":{\"color\":[457.418,544.36,340.088,465.452,417.656,543.098,555.16,493.872,466.312,481.298,537.325,547.492,527.74,323.842,566.007,229.175,524.0,554.16,396.666,510.597,569.013,364.141,491.948,302.533,467.986,544.884,516.874,340.528,359.673,469.567,319.629],\"coloraxis\":\"coloraxis\",\"size\":[0.16,0.12,0.19,0.15,0.2,0.11,0.1,0.14,0.16,0.1,0.09,0.12,0.1,0.23,0.11,0.21,0.1,0.1,0.17,0.18,0.09,0.24,0.19,0.25,0.2,0.12,0.12,0.21,0.25,0.13,0.18],\"sizemode\":\"area\",\"sizeref\":0.000625,\"symbol\":\"circle\"},\"mode\":\"markers+text\",\"name\":\"\",\"orientation\":\"v\",\"showlegend\":false,\"text\":[\"AR\",\"AU\",\"BD\",\"BR\",\"BW\",\"CA\",\"CH\",\"CL\",\"CO\",\"CZ\",\"DE\",\"DK\",\"ES\",\"ET\",\"FI\",\"GH\",\"GR\",\"HU\",\"ID\",\"IN\",\"JP\",\"KE\",\"KH\",\"MW\",\"MX\",\"NL\",\"NO\",\"NP\",\"UG\",\"US\",\"ZA\"],\"x\":[39.0,8.0,63.0,38.0,11.0,26.0,8.0,14.0,23.0,9.0,10.0,8.0,10.0,21.0,8.0,10.0,12.0,13.0,20.0,93.0,11.0,28.0,40.0,30.0,48.0,8.0,7.0,40.0,39.0,8.0,15.0],\"xaxis\":\"x\",\"y\":[0.44,0.01,0.28,0.32,0.29,0.17,0.2,0.25,0.24,0.08,0.18,0.03,0.05,0.11,0.22,0.25,0.22,0.16,0.11,0.52,0.02,0.36,0.45,0.47,0.37,0.17,0.24,0.8,0.14,0.22,0.22],\"yaxis\":\"y\",\"type\":\"scatter\"}],                        {\"template\":{\"data\":{\"histogram2dcontour\":[{\"type\":\"histogram2dcontour\",\"colorbar\":{\"outlinewidth\":0,\"ticks\":\"\"},\"colorscale\":[[0.0,\"#0d0887\"],[0.1111111111111111,\"#46039f\"],[0.2222222222222222,\"#7201a8\"],[0.3333333333333333,\"#9c179e\"],[0.4444444444444444,\"#bd3786\"],[0.5555555555555556,\"#d8576b\"],[0.6666666666666666,\"#ed7953\"],[0.7777777777777778,\"#fb9f3a\"],[0.8888888888888888,\"#fdca26\"],[1.0,\"#f0f921\"]]}],\"choropleth\":[{\"type\":\"choropleth\",\"colorbar\":{\"outlinewidth\":0,\"ticks\":\"\"}}],\"histogram2d\":[{\"type\":\"histogram2d\",\"colorbar\":{\"outlinewidth\":0,\"ticks\":\"\"},\"colorscale\":[[0.0,\"#0d0887\"],[0.1111111111111111,\"#46039f\"],[0.2222222222222222,\"#7201a8\"],[0.3333333333333333,\"#9c179e\"],[0.4444444444444444,\"#bd3786\"],[0.5555555555555556,\"#d8576b\"],[0.6666666666666666,\"#ed7953\"],[0.7777777777777778,\"#fb9f3a\"],[0.8888888888888888,\"#fdca26\"],[1.0,\"#f0f921\"]]}],\"heatmap\":[{\"type\":\"heatmap\",\"colorbar\":{\"outlinewidth\":0,\"ticks\":\"\"},\"colorscale\":[[0.0,\"#0d0887\"],[0.1111111111111111,\"#46039f\"],[0.2222222222222222,\"#7201a8\"],[0.3333333333333333,\"#9c179e\"],[0.4444444444444444,\"#bd3786\"],[0.5555555555555556,\"#d8576b\"],[0.6666666666666666,\"#ed7953\"],[0.7777777777777778,\"#fb9f3a\"],[0.8888888888888888,\"#fdca26\"],[1.0,\"#f0f921\"]]}],\"heatmapgl\":[{\"type\":\"heatmapgl\",\"colorbar\":{\"outlinewidth\":0,\"ticks\":\"\"},\"colorscale\":[[0.0,\"#0d0887\"],[0.1111111111111111,\"#46039f\"],[0.2222222222222222,\"#7201a8\"],[0.3333333333333333,\"#9c179e\"],[0.4444444444444444,\"#bd3786\"],[0.5555555555555556,\"#d8576b\"],[0.6666666666666666,\"#ed7953\"],[0.7777777777777778,\"#fb9f3a\"],[0.8888888888888888,\"#fdca26\"],[1.0,\"#f0f921\"]]}],\"contourcarpet\":[{\"type\":\"contourcarpet\",\"colorbar\":{\"outlinewidth\":0,\"ticks\":\"\"}}],\"contour\":[{\"type\":\"contour\",\"colorbar\":{\"outlinewidth\":0,\"ticks\":\"\"},\"colorscale\":[[0.0,\"#0d0887\"],[0.1111111111111111,\"#46039f\"],[0.2222222222222222,\"#7201a8\"],[0.3333333333333333,\"#9c179e\"],[0.4444444444444444,\"#bd3786\"],[0.5555555555555556,\"#d8576b\"],[0.6666666666666666,\"#ed7953\"],[0.7777777777777778,\"#fb9f3a\"],[0.8888888888888888,\"#fdca26\"],[1.0,\"#f0f921\"]]}],\"surface\":[{\"type\":\"surface\",\"colorbar\":{\"outlinewidth\":0,\"ticks\":\"\"},\"colorscale\":[[0.0,\"#0d0887\"],[0.1111111111111111,\"#46039f\"],[0.2222222222222222,\"#7201a8\"],[0.3333333333333333,\"#9c179e\"],[0.4444444444444444,\"#bd3786\"],[0.5555555555555556,\"#d8576b\"],[0.6666666666666666,\"#ed7953\"],[0.7777777777777778,\"#fb9f3a\"],[0.8888888888888888,\"#fdca26\"],[1.0,\"#f0f921\"]]}],\"mesh3d\":[{\"type\":\"mesh3d\",\"colorbar\":{\"outlinewidth\":0,\"ticks\":\"\"}}],\"scatter\":[{\"fillpattern\":{\"fillmode\":\"overlay\",\"size\":10,\"solidity\":0.2},\"type\":\"scatter\"}],\"parcoords\":[{\"type\":\"parcoords\",\"line\":{\"colorbar\":{\"outlinewidth\":0,\"ticks\":\"\"}}}],\"scatterpolargl\":[{\"type\":\"scatterpolargl\",\"marker\":{\"colorbar\":{\"outlinewidth\":0,\"ticks\":\"\"}}}],\"bar\":[{\"error_x\":{\"color\":\"#2a3f5f\"},\"error_y\":{\"color\":\"#2a3f5f\"},\"marker\":{\"line\":{\"color\":\"#E5ECF6\",\"width\":0.5},\"pattern\":{\"fillmode\":\"overlay\",\"size\":10,\"solidity\":0.2}},\"type\":\"bar\"}],\"scattergeo\":[{\"type\":\"scattergeo\",\"marker\":{\"colorbar\":{\"outlinewidth\":0,\"ticks\":\"\"}}}],\"scatterpolar\":[{\"type\":\"scatterpolar\",\"marker\":{\"colorbar\":{\"outlinewidth\":0,\"ticks\":\"\"}}}],\"histogram\":[{\"marker\":{\"pattern\":{\"fillmode\":\"overlay\",\"size\":10,\"solidity\":0.2}},\"type\":\"histogram\"}],\"scattergl\":[{\"type\":\"scattergl\",\"marker\":{\"colorbar\":{\"outlinewidth\":0,\"ticks\":\"\"}}}],\"scatter3d\":[{\"type\":\"scatter3d\",\"line\":{\"colorbar\":{\"outlinewidth\":0,\"ticks\":\"\"}},\"marker\":{\"colorbar\":{\"outlinewidth\":0,\"ticks\":\"\"}}}],\"scattermapbox\":[{\"type\":\"scattermapbox\",\"marker\":{\"colorbar\":{\"outlinewidth\":0,\"ticks\":\"\"}}}],\"scatterternary\":[{\"type\":\"scatterternary\",\"marker\":{\"colorbar\":{\"outlinewidth\":0,\"ticks\":\"\"}}}],\"scattercarpet\":[{\"type\":\"scattercarpet\",\"marker\":{\"colorbar\":{\"outlinewidth\":0,\"ticks\":\"\"}}}],\"carpet\":[{\"aaxis\":{\"endlinecolor\":\"#2a3f5f\",\"gridcolor\":\"white\",\"linecolor\":\"white\",\"minorgridcolor\":\"white\",\"startlinecolor\":\"#2a3f5f\"},\"baxis\":{\"endlinecolor\":\"#2a3f5f\",\"gridcolor\":\"white\",\"linecolor\":\"white\",\"minorgridcolor\":\"white\",\"startlinecolor\":\"#2a3f5f\"},\"type\":\"carpet\"}],\"table\":[{\"cells\":{\"fill\":{\"color\":\"#EBF0F8\"},\"line\":{\"color\":\"white\"}},\"header\":{\"fill\":{\"color\":\"#C8D4E3\"},\"line\":{\"color\":\"white\"}},\"type\":\"table\"}],\"barpolar\":[{\"marker\":{\"line\":{\"color\":\"#E5ECF6\",\"width\":0.5},\"pattern\":{\"fillmode\":\"overlay\",\"size\":10,\"solidity\":0.2}},\"type\":\"barpolar\"}],\"pie\":[{\"automargin\":true,\"type\":\"pie\"}]},\"layout\":{\"autotypenumbers\":\"strict\",\"colorway\":[\"#636efa\",\"#EF553B\",\"#00cc96\",\"#ab63fa\",\"#FFA15A\",\"#19d3f3\",\"#FF6692\",\"#B6E880\",\"#FF97FF\",\"#FECB52\"],\"font\":{\"color\":\"#2a3f5f\"},\"hovermode\":\"closest\",\"hoverlabel\":{\"align\":\"left\"},\"paper_bgcolor\":\"white\",\"plot_bgcolor\":\"#E5ECF6\",\"polar\":{\"bgcolor\":\"#E5ECF6\",\"angularaxis\":{\"gridcolor\":\"white\",\"linecolor\":\"white\",\"ticks\":\"\"},\"radialaxis\":{\"gridcolor\":\"white\",\"linecolor\":\"white\",\"ticks\":\"\"}},\"ternary\":{\"bgcolor\":\"#E5ECF6\",\"aaxis\":{\"gridcolor\":\"white\",\"linecolor\":\"white\",\"ticks\":\"\"},\"baxis\":{\"gridcolor\":\"white\",\"linecolor\":\"white\",\"ticks\":\"\"},\"caxis\":{\"gridcolor\":\"white\",\"linecolor\":\"white\",\"ticks\":\"\"}},\"coloraxis\":{\"colorbar\":{\"outlinewidth\":0,\"ticks\":\"\"}},\"colorscale\":{\"sequential\":[[0.0,\"#0d0887\"],[0.1111111111111111,\"#46039f\"],[0.2222222222222222,\"#7201a8\"],[0.3333333333333333,\"#9c179e\"],[0.4444444444444444,\"#bd3786\"],[0.5555555555555556,\"#d8576b\"],[0.6666666666666666,\"#ed7953\"],[0.7777777777777778,\"#fb9f3a\"],[0.8888888888888888,\"#fdca26\"],[1.0,\"#f0f921\"]],\"sequentialminus\":[[0.0,\"#0d0887\"],[0.1111111111111111,\"#46039f\"],[0.2222222222222222,\"#7201a8\"],[0.3333333333333333,\"#9c179e\"],[0.4444444444444444,\"#bd3786\"],[0.5555555555555556,\"#d8576b\"],[0.6666666666666666,\"#ed7953\"],[0.7777777777777778,\"#fb9f3a\"],[0.8888888888888888,\"#fdca26\"],[1.0,\"#f0f921\"]],\"diverging\":[[0,\"#8e0152\"],[0.1,\"#c51b7d\"],[0.2,\"#de77ae\"],[0.3,\"#f1b6da\"],[0.4,\"#fde0ef\"],[0.5,\"#f7f7f7\"],[0.6,\"#e6f5d0\"],[0.7,\"#b8e186\"],[0.8,\"#7fbc41\"],[0.9,\"#4d9221\"],[1,\"#276419\"]]},\"xaxis\":{\"gridcolor\":\"white\",\"linecolor\":\"white\",\"ticks\":\"\",\"title\":{\"standoff\":15},\"zerolinecolor\":\"white\",\"automargin\":true,\"zerolinewidth\":2},\"yaxis\":{\"gridcolor\":\"white\",\"linecolor\":\"white\",\"ticks\":\"\",\"title\":{\"standoff\":15},\"zerolinecolor\":\"white\",\"automargin\":true,\"zerolinewidth\":2},\"scene\":{\"xaxis\":{\"backgroundcolor\":\"#E5ECF6\",\"gridcolor\":\"white\",\"linecolor\":\"white\",\"showbackground\":true,\"ticks\":\"\",\"zerolinecolor\":\"white\",\"gridwidth\":2},\"yaxis\":{\"backgroundcolor\":\"#E5ECF6\",\"gridcolor\":\"white\",\"linecolor\":\"white\",\"showbackground\":true,\"ticks\":\"\",\"zerolinecolor\":\"white\",\"gridwidth\":2},\"zaxis\":{\"backgroundcolor\":\"#E5ECF6\",\"gridcolor\":\"white\",\"linecolor\":\"white\",\"showbackground\":true,\"ticks\":\"\",\"zerolinecolor\":\"white\",\"gridwidth\":2}},\"shapedefaults\":{\"line\":{\"color\":\"#2a3f5f\"}},\"annotationdefaults\":{\"arrowcolor\":\"#2a3f5f\",\"arrowhead\":0,\"arrowwidth\":1},\"geo\":{\"bgcolor\":\"white\",\"landcolor\":\"#E5ECF6\",\"subunitcolor\":\"white\",\"showland\":true,\"showlakes\":true,\"lakecolor\":\"white\"},\"title\":{\"x\":0.05},\"mapbox\":{\"style\":\"light\"}}},\"xaxis\":{\"anchor\":\"y\",\"domain\":[0.0,1.0],\"title\":{\"text\":\"Weeks of School Closure During Pandemic\"},\"nticks\":25},\"yaxis\":{\"anchor\":\"x\",\"domain\":[0.0,1.0],\"title\":{\"text\":\"Decline in Testing Scores (Standard Deviations)\"},\"nticks\":10},\"coloraxis\":{\"colorbar\":{\"title\":{\"text\":\"School Quality\"}},\"colorscale\":[[0.0,\"#0d0887\"],[0.1111111111111111,\"#46039f\"],[0.2222222222222222,\"#7201a8\"],[0.3333333333333333,\"#9c179e\"],[0.4444444444444444,\"#bd3786\"],[0.5555555555555556,\"#d8576b\"],[0.6666666666666666,\"#ed7953\"],[0.7777777777777778,\"#fb9f3a\"],[0.8888888888888888,\"#fdca26\"],[1.0,\"#f0f921\"]]},\"legend\":{\"tracegroupgap\":0,\"itemsizing\":\"constant\"},\"title\":{\"text\":\"Correlation Between School Closure and Learning Loss: Sized by Proportion of Population Ages 10-19\"},\"height\":600,\"width\":1200},                        {\"responsive\": true}                    ).then(function(){\n",
       "                            \n",
       "var gd = document.getElementById('5fa1edc5-6910-4f20-832f-698603d431c2');\n",
       "var x = new MutationObserver(function (mutations, observer) {{\n",
       "        var display = window.getComputedStyle(gd).display;\n",
       "        if (!display || display === 'none') {{\n",
       "            console.log([gd, 'removed!']);\n",
       "            Plotly.purge(gd);\n",
       "            observer.disconnect();\n",
       "        }}\n",
       "}});\n",
       "\n",
       "// Listen for the removal of the full notebook cells\n",
       "var notebookContainer = gd.closest('#notebook-container');\n",
       "if (notebookContainer) {{\n",
       "    x.observe(notebookContainer, {childList: true});\n",
       "}}\n",
       "\n",
       "// Listen for the clearing of the current output cell\n",
       "var outputEl = gd.closest('.output');\n",
       "if (outputEl) {{\n",
       "    x.observe(outputEl, {childList: true});\n",
       "}}\n",
       "\n",
       "                        })                };                });            </script>        </div>"
      ]
     },
     "metadata": {},
     "output_type": "display_data"
    }
   ],
   "source": [
    "fig = px.scatter(result_2_df, x=\"Weeks\", y=\"Loss\", color=\"Quality\",\n",
    "                 size= 'Prop_10_19', text=\"Code\", width=1200, height=600,\n",
    "                 title = \"Correlation Between School Closure and Learning Loss: Sized by Proportion of Population Ages 10-19\",\n",
    "                  labels={\"Quality\": \"School Quality\"})\n",
    "fig.update_xaxes(nticks=25, title = 'Weeks of School Closure During Pandemic')\n",
    "fig.update_yaxes(nticks=10, title = 'Decline in Testing Scores (Standard Deviations)')       \n",
    "fig.show()\n",
    "#fig.write_image(\"education.png\")"
   ]
  },
  {
   "cell_type": "markdown",
   "id": "50238956",
   "metadata": {},
   "source": [
    "### Query and Data Visualization Example #3\n",
    "\n",
    "Correlation matrix of demographic and health data"
   ]
  },
  {
   "cell_type": "markdown",
   "id": "0f2543e0",
   "metadata": {},
   "source": [
    "**Database Query #3**"
   ]
  },
  {
   "cell_type": "code",
   "execution_count": 114,
   "id": "ecd87d38",
   "metadata": {},
   "outputs": [],
   "source": [
    "# Connect to Database server\n",
    "connection = mysql.connector.connect(\n",
    "    host='localhost',\n",
    "    user='root',\n",
    "    password=PASSWORD,\n",
    "    database='covid_db'\n",
    ")\n",
    "\n",
    "cursor = connection.cursor() \n",
    "\n",
    "sql_3 = \"\"\"SELECT \n",
    "        c.country_code,\n",
    "        d.population_density,\n",
    "        v.cumulative_persons_fully_vaccinated/d.population AS vaccinated_prop,\n",
    "        e.cumulative_deceased/d.population AS deceased_prop,\n",
    "        h.life_expectancy,\n",
    "        h.diabetes_prevalence,\n",
    "        h.infant_mortality_rate,\n",
    "        h.adult_male_mortality_rate + h.adult_female_mortality_rate AS mortality_rate,\n",
    "        h.nurses_per_1000\n",
    "FROM countries c\n",
    "INNER JOIN vaccine v ON v.country_code = c.country_code\n",
    "INNER JOIN epidemiology e ON e.country_code = c.country_code\n",
    "INNER JOIN demographics d ON d.country_code = c.country_code\n",
    "INNER JOIN health h ON h.country_code = c.country_code\"\"\"\n",
    "result_3 = cursor.execute(sql_3)\n",
    "result_3_df = pd.DataFrame(cursor.fetchall(), columns = ['Country_Code', 'Population Density', 'Population COVID Vaccinated', \n",
    "                                                         'Population COVID Deceased', \n",
    "                                                         'Life Expectancy', 'Diabetes Prevalenc', 'Infant Mortality Rate', \n",
    "                                                         'Adult Mortality Rate', 'Nurses Per 1000 Capita'])\n",
    "\n",
    "# Close the cursor and connection\n",
    "cursor.close()\n",
    "connection.close()\n",
    "\n",
    "result_3_df['Population COVID Vaccinated'] = result_3_df['Population COVID Vaccinated'].astype(float)\n"
   ]
  },
  {
   "cell_type": "markdown",
   "id": "5cab5d07",
   "metadata": {},
   "source": [
    "**Data Visualization #3**"
   ]
  },
  {
   "cell_type": "code",
   "execution_count": 116,
   "id": "adbd6e27",
   "metadata": {},
   "outputs": [
    {
     "name": "stderr",
     "output_type": "stream",
     "text": [
      "<ipython-input-116-c0e0519f8ba8>:1: FutureWarning:\n",
      "\n",
      "The default value of numeric_only in DataFrame.corr is deprecated. In a future version, it will default to False. Select only valid columns or specify the value of numeric_only to silence this warning.\n",
      "\n"
     ]
    },
    {
     "data": {
      "image/png": "[encoded data removed]",
      "text/plain": [
       "<Figure size 864x720 with 2 Axes>"
      ]
     },
     "metadata": {
      "needs_background": "light"
     },
     "output_type": "display_data"
    }
   ],
   "source": [
    "corr_matrix = result_3_df.corr()\n",
    "\n",
    "# Create a heatmap\n",
    "plt.figure(figsize=(12, 10))\n",
    "sns.heatmap(corr_matrix, annot=True, cmap='coolwarm', fmt=\".2f\", square=True)\n",
    "plt.title('Correlation Matrix - Demographic and Health Information')\n",
    "plt.show()"
   ]
  },
  {
   "cell_type": "code",
   "execution_count": null,
   "id": "2218c481",
   "metadata": {},
   "outputs": [],
   "source": []
  }
 ],
 "metadata": {
  "kernelspec": {
   "display_name": "Python 3",
   "language": "python",
   "name": "python3"
  },
  "language_info": {
   "codemirror_mode": {
    "name": "ipython",
    "version": 3
   },
   "file_extension": ".py",
   "mimetype": "text/x-python",
   "name": "python",
   "nbconvert_exporter": "python",
   "pygments_lexer": "ipython3",
   "version": "3.8.8"
  }
 },
 "nbformat": 4,
 "nbformat_minor": 5
}
