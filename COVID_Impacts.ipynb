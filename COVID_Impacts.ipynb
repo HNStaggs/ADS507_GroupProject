{
 "cells": [
  {
   "cell_type": "markdown",
   "id": "b176fa8d",
   "metadata": {},
   "source": [
    "Load Libraries and Function"
   ]
  },
  {
   "cell_type": "code",
   "execution_count": 57,
   "id": "6f038c51",
   "metadata": {},
   "outputs": [],
   "source": [
    "import pandas as pd\n",
    "import numpy as np \n",
    "import pymysql as mysql \n",
    "import warnings\n",
    "import matplotlib.pyplot as plt \n"
   ]
  },
  {
   "cell_type": "markdown",
   "id": "d476964b",
   "metadata": {},
   "source": [
    "Import Datasets"
   ]
  },
  {
   "cell_type": "code",
   "execution_count": 62,
   "id": "9009b44d",
   "metadata": {},
   "outputs": [
    {
     "ename": "IncompleteRead",
     "evalue": "IncompleteRead(1079852 bytes read, 464755 more expected)",
     "output_type": "error",
     "traceback": [
      "\u001b[1;31m---------------------------------------------------------------------------\u001b[0m",
      "\u001b[1;31mIncompleteRead\u001b[0m                            Traceback (most recent call last)",
      "\u001b[1;32m~\\AppData\\Local\\Temp\\ipykernel_36000\\653549166.py\u001b[0m in \u001b[0;36m<module>\u001b[1;34m\u001b[0m\n\u001b[0;32m      1\u001b[0m \u001b[0mlearn\u001b[0m \u001b[1;33m=\u001b[0m \u001b[0mpd\u001b[0m\u001b[1;33m.\u001b[0m\u001b[0mread_csv\u001b[0m\u001b[1;33m(\u001b[0m\u001b[1;34m\"learning_loss_covid_database.csv\"\u001b[0m\u001b[1;33m)\u001b[0m\u001b[1;33m\u001b[0m\u001b[1;33m\u001b[0m\u001b[0m\n\u001b[1;32m----> 2\u001b[1;33m \u001b[0mdemos\u001b[0m \u001b[1;33m=\u001b[0m \u001b[0mpd\u001b[0m\u001b[1;33m.\u001b[0m\u001b[0mread_csv\u001b[0m\u001b[1;33m(\u001b[0m\u001b[1;34m\"https://storage.googleapis.com/covid19-open-data/v3/demographics.csv\"\u001b[0m\u001b[1;33m)\u001b[0m\u001b[1;33m\u001b[0m\u001b[1;33m\u001b[0m\u001b[0m\n\u001b[0m\u001b[0;32m      3\u001b[0m \u001b[0mepi\u001b[0m \u001b[1;33m=\u001b[0m \u001b[0mpd\u001b[0m\u001b[1;33m.\u001b[0m\u001b[0mread_csv\u001b[0m\u001b[1;33m(\u001b[0m\u001b[1;34m\"https://storage.googleapis.com/covid19-open-data/v3/epidemiology.csv\"\u001b[0m\u001b[1;33m)\u001b[0m\u001b[1;33m\u001b[0m\u001b[1;33m\u001b[0m\u001b[0m\n\u001b[0;32m      4\u001b[0m \u001b[0mhealth\u001b[0m \u001b[1;33m=\u001b[0m \u001b[0mpd\u001b[0m\u001b[1;33m.\u001b[0m\u001b[0mread_csv\u001b[0m\u001b[1;33m(\u001b[0m\u001b[1;34m\"https://storage.googleapis.com/covid19-open-data/v3/health.csv\"\u001b[0m\u001b[1;33m)\u001b[0m\u001b[1;33m\u001b[0m\u001b[1;33m\u001b[0m\u001b[0m\n\u001b[0;32m      5\u001b[0m \u001b[0mvacc\u001b[0m \u001b[1;33m=\u001b[0m \u001b[0mpd\u001b[0m\u001b[1;33m.\u001b[0m\u001b[0mread_csv\u001b[0m\u001b[1;33m(\u001b[0m\u001b[1;34m\"https://storage.googleapis.com/covid19-open-data/v3/vaccinations.csv\"\u001b[0m\u001b[1;33m)\u001b[0m\u001b[1;33m\u001b[0m\u001b[1;33m\u001b[0m\u001b[0m\n",
      "\u001b[1;32mc:\\Users\\halee\\anaconda3\\lib\\site-packages\\pandas\\util\\_decorators.py\u001b[0m in \u001b[0;36mwrapper\u001b[1;34m(*args, **kwargs)\u001b[0m\n\u001b[0;32m    309\u001b[0m                     \u001b[0mstacklevel\u001b[0m\u001b[1;33m=\u001b[0m\u001b[0mstacklevel\u001b[0m\u001b[1;33m,\u001b[0m\u001b[1;33m\u001b[0m\u001b[1;33m\u001b[0m\u001b[0m\n\u001b[0;32m    310\u001b[0m                 )\n\u001b[1;32m--> 311\u001b[1;33m             \u001b[1;32mreturn\u001b[0m \u001b[0mfunc\u001b[0m\u001b[1;33m(\u001b[0m\u001b[1;33m*\u001b[0m\u001b[0margs\u001b[0m\u001b[1;33m,\u001b[0m \u001b[1;33m**\u001b[0m\u001b[0mkwargs\u001b[0m\u001b[1;33m)\u001b[0m\u001b[1;33m\u001b[0m\u001b[1;33m\u001b[0m\u001b[0m\n\u001b[0m\u001b[0;32m    312\u001b[0m \u001b[1;33m\u001b[0m\u001b[0m\n\u001b[0;32m    313\u001b[0m         \u001b[1;32mreturn\u001b[0m \u001b[0mwrapper\u001b[0m\u001b[1;33m\u001b[0m\u001b[1;33m\u001b[0m\u001b[0m\n",
      "\u001b[1;32mc:\\Users\\halee\\anaconda3\\lib\\site-packages\\pandas\\io\\parsers\\readers.py\u001b[0m in \u001b[0;36mread_csv\u001b[1;34m(filepath_or_buffer, sep, delimiter, header, names, index_col, usecols, squeeze, prefix, mangle_dupe_cols, dtype, engine, converters, true_values, false_values, skipinitialspace, skiprows, skipfooter, nrows, na_values, keep_default_na, na_filter, verbose, skip_blank_lines, parse_dates, infer_datetime_format, keep_date_col, date_parser, dayfirst, cache_dates, iterator, chunksize, compression, thousands, decimal, lineterminator, quotechar, quoting, doublequote, escapechar, comment, encoding, encoding_errors, dialect, error_bad_lines, warn_bad_lines, on_bad_lines, delim_whitespace, low_memory, memory_map, float_precision, storage_options)\u001b[0m\n\u001b[0;32m    676\u001b[0m     \u001b[0mkwds\u001b[0m\u001b[1;33m.\u001b[0m\u001b[0mupdate\u001b[0m\u001b[1;33m(\u001b[0m\u001b[0mkwds_defaults\u001b[0m\u001b[1;33m)\u001b[0m\u001b[1;33m\u001b[0m\u001b[1;33m\u001b[0m\u001b[0m\n\u001b[0;32m    677\u001b[0m \u001b[1;33m\u001b[0m\u001b[0m\n\u001b[1;32m--> 678\u001b[1;33m     \u001b[1;32mreturn\u001b[0m \u001b[0m_read\u001b[0m\u001b[1;33m(\u001b[0m\u001b[0mfilepath_or_buffer\u001b[0m\u001b[1;33m,\u001b[0m \u001b[0mkwds\u001b[0m\u001b[1;33m)\u001b[0m\u001b[1;33m\u001b[0m\u001b[1;33m\u001b[0m\u001b[0m\n\u001b[0m\u001b[0;32m    679\u001b[0m \u001b[1;33m\u001b[0m\u001b[0m\n\u001b[0;32m    680\u001b[0m \u001b[1;33m\u001b[0m\u001b[0m\n",
      "\u001b[1;32mc:\\Users\\halee\\anaconda3\\lib\\site-packages\\pandas\\io\\parsers\\readers.py\u001b[0m in \u001b[0;36m_read\u001b[1;34m(filepath_or_buffer, kwds)\u001b[0m\n\u001b[0;32m    573\u001b[0m \u001b[1;33m\u001b[0m\u001b[0m\n\u001b[0;32m    574\u001b[0m     \u001b[1;31m# Create the parser.\u001b[0m\u001b[1;33m\u001b[0m\u001b[1;33m\u001b[0m\u001b[0m\n\u001b[1;32m--> 575\u001b[1;33m     \u001b[0mparser\u001b[0m \u001b[1;33m=\u001b[0m \u001b[0mTextFileReader\u001b[0m\u001b[1;33m(\u001b[0m\u001b[0mfilepath_or_buffer\u001b[0m\u001b[1;33m,\u001b[0m \u001b[1;33m**\u001b[0m\u001b[0mkwds\u001b[0m\u001b[1;33m)\u001b[0m\u001b[1;33m\u001b[0m\u001b[1;33m\u001b[0m\u001b[0m\n\u001b[0m\u001b[0;32m    576\u001b[0m \u001b[1;33m\u001b[0m\u001b[0m\n\u001b[0;32m    577\u001b[0m     \u001b[1;32mif\u001b[0m \u001b[0mchunksize\u001b[0m \u001b[1;32mor\u001b[0m \u001b[0miterator\u001b[0m\u001b[1;33m:\u001b[0m\u001b[1;33m\u001b[0m\u001b[1;33m\u001b[0m\u001b[0m\n",
      "\u001b[1;32mc:\\Users\\halee\\anaconda3\\lib\\site-packages\\pandas\\io\\parsers\\readers.py\u001b[0m in \u001b[0;36m__init__\u001b[1;34m(self, f, engine, **kwds)\u001b[0m\n\u001b[0;32m    930\u001b[0m \u001b[1;33m\u001b[0m\u001b[0m\n\u001b[0;32m    931\u001b[0m         \u001b[0mself\u001b[0m\u001b[1;33m.\u001b[0m\u001b[0mhandles\u001b[0m\u001b[1;33m:\u001b[0m \u001b[0mIOHandles\u001b[0m \u001b[1;33m|\u001b[0m \u001b[1;32mNone\u001b[0m \u001b[1;33m=\u001b[0m \u001b[1;32mNone\u001b[0m\u001b[1;33m\u001b[0m\u001b[1;33m\u001b[0m\u001b[0m\n\u001b[1;32m--> 932\u001b[1;33m         \u001b[0mself\u001b[0m\u001b[1;33m.\u001b[0m\u001b[0m_engine\u001b[0m \u001b[1;33m=\u001b[0m \u001b[0mself\u001b[0m\u001b[1;33m.\u001b[0m\u001b[0m_make_engine\u001b[0m\u001b[1;33m(\u001b[0m\u001b[0mf\u001b[0m\u001b[1;33m,\u001b[0m \u001b[0mself\u001b[0m\u001b[1;33m.\u001b[0m\u001b[0mengine\u001b[0m\u001b[1;33m)\u001b[0m\u001b[1;33m\u001b[0m\u001b[1;33m\u001b[0m\u001b[0m\n\u001b[0m\u001b[0;32m    933\u001b[0m \u001b[1;33m\u001b[0m\u001b[0m\n\u001b[0;32m    934\u001b[0m     \u001b[1;32mdef\u001b[0m \u001b[0mclose\u001b[0m\u001b[1;33m(\u001b[0m\u001b[0mself\u001b[0m\u001b[1;33m)\u001b[0m\u001b[1;33m:\u001b[0m\u001b[1;33m\u001b[0m\u001b[1;33m\u001b[0m\u001b[0m\n",
      "\u001b[1;32mc:\\Users\\halee\\anaconda3\\lib\\site-packages\\pandas\\io\\parsers\\readers.py\u001b[0m in \u001b[0;36m_make_engine\u001b[1;34m(self, f, engine)\u001b[0m\n\u001b[0;32m   1214\u001b[0m             \u001b[1;31m# \"Union[str, PathLike[str], ReadCsvBuffer[bytes], ReadCsvBuffer[str]]\"\u001b[0m\u001b[1;33m\u001b[0m\u001b[1;33m\u001b[0m\u001b[0m\n\u001b[0;32m   1215\u001b[0m             \u001b[1;31m# , \"str\", \"bool\", \"Any\", \"Any\", \"Any\", \"Any\", \"Any\"\u001b[0m\u001b[1;33m\u001b[0m\u001b[1;33m\u001b[0m\u001b[0m\n\u001b[1;32m-> 1216\u001b[1;33m             self.handles = get_handle(  # type: ignore[call-overload]\n\u001b[0m\u001b[0;32m   1217\u001b[0m                 \u001b[0mf\u001b[0m\u001b[1;33m,\u001b[0m\u001b[1;33m\u001b[0m\u001b[1;33m\u001b[0m\u001b[0m\n\u001b[0;32m   1218\u001b[0m                 \u001b[0mmode\u001b[0m\u001b[1;33m,\u001b[0m\u001b[1;33m\u001b[0m\u001b[1;33m\u001b[0m\u001b[0m\n",
      "\u001b[1;32mc:\\Users\\halee\\anaconda3\\lib\\site-packages\\pandas\\io\\common.py\u001b[0m in \u001b[0;36mget_handle\u001b[1;34m(path_or_buf, mode, encoding, compression, memory_map, is_text, errors, storage_options)\u001b[0m\n\u001b[0;32m    665\u001b[0m \u001b[1;33m\u001b[0m\u001b[0m\n\u001b[0;32m    666\u001b[0m     \u001b[1;31m# open URLs\u001b[0m\u001b[1;33m\u001b[0m\u001b[1;33m\u001b[0m\u001b[0m\n\u001b[1;32m--> 667\u001b[1;33m     ioargs = _get_filepath_or_buffer(\n\u001b[0m\u001b[0;32m    668\u001b[0m         \u001b[0mpath_or_buf\u001b[0m\u001b[1;33m,\u001b[0m\u001b[1;33m\u001b[0m\u001b[1;33m\u001b[0m\u001b[0m\n\u001b[0;32m    669\u001b[0m         \u001b[0mencoding\u001b[0m\u001b[1;33m=\u001b[0m\u001b[0mencoding\u001b[0m\u001b[1;33m,\u001b[0m\u001b[1;33m\u001b[0m\u001b[1;33m\u001b[0m\u001b[0m\n",
      "\u001b[1;32mc:\\Users\\halee\\anaconda3\\lib\\site-packages\\pandas\\io\\common.py\u001b[0m in \u001b[0;36m_get_filepath_or_buffer\u001b[1;34m(filepath_or_buffer, encoding, compression, mode, storage_options)\u001b[0m\n\u001b[0;32m    339\u001b[0m                 \u001b[1;31m# Override compression based on Content-Encoding header\u001b[0m\u001b[1;33m\u001b[0m\u001b[1;33m\u001b[0m\u001b[0m\n\u001b[0;32m    340\u001b[0m                 \u001b[0mcompression\u001b[0m \u001b[1;33m=\u001b[0m \u001b[1;33m{\u001b[0m\u001b[1;34m\"method\"\u001b[0m\u001b[1;33m:\u001b[0m \u001b[1;34m\"gzip\"\u001b[0m\u001b[1;33m}\u001b[0m\u001b[1;33m\u001b[0m\u001b[1;33m\u001b[0m\u001b[0m\n\u001b[1;32m--> 341\u001b[1;33m             \u001b[0mreader\u001b[0m \u001b[1;33m=\u001b[0m \u001b[0mBytesIO\u001b[0m\u001b[1;33m(\u001b[0m\u001b[0mreq\u001b[0m\u001b[1;33m.\u001b[0m\u001b[0mread\u001b[0m\u001b[1;33m(\u001b[0m\u001b[1;33m)\u001b[0m\u001b[1;33m)\u001b[0m\u001b[1;33m\u001b[0m\u001b[1;33m\u001b[0m\u001b[0m\n\u001b[0m\u001b[0;32m    342\u001b[0m         return IOArgs(\n\u001b[0;32m    343\u001b[0m             \u001b[0mfilepath_or_buffer\u001b[0m\u001b[1;33m=\u001b[0m\u001b[0mreader\u001b[0m\u001b[1;33m,\u001b[0m\u001b[1;33m\u001b[0m\u001b[1;33m\u001b[0m\u001b[0m\n",
      "\u001b[1;32mc:\\Users\\halee\\anaconda3\\lib\\http\\client.py\u001b[0m in \u001b[0;36mread\u001b[1;34m(self, amt)\u001b[0m\n\u001b[0;32m    474\u001b[0m             \u001b[1;32melse\u001b[0m\u001b[1;33m:\u001b[0m\u001b[1;33m\u001b[0m\u001b[1;33m\u001b[0m\u001b[0m\n\u001b[0;32m    475\u001b[0m                 \u001b[1;32mtry\u001b[0m\u001b[1;33m:\u001b[0m\u001b[1;33m\u001b[0m\u001b[1;33m\u001b[0m\u001b[0m\n\u001b[1;32m--> 476\u001b[1;33m                     \u001b[0ms\u001b[0m \u001b[1;33m=\u001b[0m \u001b[0mself\u001b[0m\u001b[1;33m.\u001b[0m\u001b[0m_safe_read\u001b[0m\u001b[1;33m(\u001b[0m\u001b[0mself\u001b[0m\u001b[1;33m.\u001b[0m\u001b[0mlength\u001b[0m\u001b[1;33m)\u001b[0m\u001b[1;33m\u001b[0m\u001b[1;33m\u001b[0m\u001b[0m\n\u001b[0m\u001b[0;32m    477\u001b[0m                 \u001b[1;32mexcept\u001b[0m \u001b[0mIncompleteRead\u001b[0m\u001b[1;33m:\u001b[0m\u001b[1;33m\u001b[0m\u001b[1;33m\u001b[0m\u001b[0m\n\u001b[0;32m    478\u001b[0m                     \u001b[0mself\u001b[0m\u001b[1;33m.\u001b[0m\u001b[0m_close_conn\u001b[0m\u001b[1;33m(\u001b[0m\u001b[1;33m)\u001b[0m\u001b[1;33m\u001b[0m\u001b[1;33m\u001b[0m\u001b[0m\n",
      "\u001b[1;32mc:\\Users\\halee\\anaconda3\\lib\\http\\client.py\u001b[0m in \u001b[0;36m_safe_read\u001b[1;34m(self, amt)\u001b[0m\n\u001b[0;32m    626\u001b[0m             \u001b[0mchunk\u001b[0m \u001b[1;33m=\u001b[0m \u001b[0mself\u001b[0m\u001b[1;33m.\u001b[0m\u001b[0mfp\u001b[0m\u001b[1;33m.\u001b[0m\u001b[0mread\u001b[0m\u001b[1;33m(\u001b[0m\u001b[0mmin\u001b[0m\u001b[1;33m(\u001b[0m\u001b[0mamt\u001b[0m\u001b[1;33m,\u001b[0m \u001b[0mMAXAMOUNT\u001b[0m\u001b[1;33m)\u001b[0m\u001b[1;33m)\u001b[0m\u001b[1;33m\u001b[0m\u001b[1;33m\u001b[0m\u001b[0m\n\u001b[0;32m    627\u001b[0m             \u001b[1;32mif\u001b[0m \u001b[1;32mnot\u001b[0m \u001b[0mchunk\u001b[0m\u001b[1;33m:\u001b[0m\u001b[1;33m\u001b[0m\u001b[1;33m\u001b[0m\u001b[0m\n\u001b[1;32m--> 628\u001b[1;33m                 \u001b[1;32mraise\u001b[0m \u001b[0mIncompleteRead\u001b[0m\u001b[1;33m(\u001b[0m\u001b[1;34mb''\u001b[0m\u001b[1;33m.\u001b[0m\u001b[0mjoin\u001b[0m\u001b[1;33m(\u001b[0m\u001b[0ms\u001b[0m\u001b[1;33m)\u001b[0m\u001b[1;33m,\u001b[0m \u001b[0mamt\u001b[0m\u001b[1;33m)\u001b[0m\u001b[1;33m\u001b[0m\u001b[1;33m\u001b[0m\u001b[0m\n\u001b[0m\u001b[0;32m    629\u001b[0m             \u001b[0ms\u001b[0m\u001b[1;33m.\u001b[0m\u001b[0mappend\u001b[0m\u001b[1;33m(\u001b[0m\u001b[0mchunk\u001b[0m\u001b[1;33m)\u001b[0m\u001b[1;33m\u001b[0m\u001b[1;33m\u001b[0m\u001b[0m\n\u001b[0;32m    630\u001b[0m             \u001b[0mamt\u001b[0m \u001b[1;33m-=\u001b[0m \u001b[0mlen\u001b[0m\u001b[1;33m(\u001b[0m\u001b[0mchunk\u001b[0m\u001b[1;33m)\u001b[0m\u001b[1;33m\u001b[0m\u001b[1;33m\u001b[0m\u001b[0m\n",
      "\u001b[1;31mIncompleteRead\u001b[0m: IncompleteRead(1079852 bytes read, 464755 more expected)"
     ]
    }
   ],
   "source": [
    "learn = pd.read_csv(\"learning_loss_covid_database.csv\")\n",
    "demos = pd.read_csv(\"https://storage.googleapis.com/covid19-open-data/v3/demographics.csv\")\n",
    "epi = pd.read_csv(\"https://storage.googleapis.com/covid19-open-data/v3/epidemiology.csv\")\n",
    "health = pd.read_csv(\"https://storage.googleapis.com/covid19-open-data/v3/health.csv\")\n",
    "vacc = pd.read_csv(\"https://storage.googleapis.com/covid19-open-data/v3/vaccinations.csv\")\n",
    "gdp = pd.read_csv(\"GDPForecast.csv\")\n"
   ]
  },
  {
   "cell_type": "markdown",
   "id": "714cc4ad",
   "metadata": {},
   "source": [
    "Examine DataFrames Info: Shape, Datatypes, and Missing Values"
   ]
  },
  {
   "cell_type": "code",
   "execution_count": null,
   "id": "08c86d93",
   "metadata": {},
   "outputs": [],
   "source": [
    "Write Data to CSV Files"
   ]
  },
  {
   "cell_type": "code",
   "execution_count": null,
   "id": "3245418a",
   "metadata": {},
   "outputs": [],
   "source": []
  },
  {
   "cell_type": "code",
   "execution_count": 59,
   "id": "1bb3591c",
   "metadata": {},
   "outputs": [
    {
     "name": "stdout",
     "output_type": "stream",
     "text": [
      "<class 'pandas.core.frame.DataFrame'>\n",
      "RangeIndex: 41 entries, 0 to 40\n",
      "Data columns (total 24 columns):\n",
      " #   Column       Non-Null Count  Dtype  \n",
      "---  ------       --------------  -----  \n",
      " 0   country      41 non-null     object \n",
      " 1   loss         41 non-null     float64\n",
      " 2   weeks        41 non-null     int64  \n",
      " 3   deaths       41 non-null     float64\n",
      " 4   gdp          41 non-null     float64\n",
      " 5   private      41 non-null     float64\n",
      " 6   internet     41 non-null     int64  \n",
      " 7   hlo          41 non-null     float64\n",
      " 8   vac          41 non-null     float64\n",
      " 9   stringency   41 non-null     float64\n",
      " 10  union        41 non-null     float64\n",
      " 11  polity       41 non-null     int64  \n",
      " 12  loggdp       41 non-null     float64\n",
      " 13  logweeks     39 non-null     float64\n",
      " 14  weeks2       41 non-null     int64  \n",
      " 15  pop          41 non-null     int64  \n",
      " 16  schooling    41 non-null     float64\n",
      " 17  wbcode       41 non-null     object \n",
      " 18  region_code  41 non-null     object \n",
      " 19  hlo25        41 non-null     float64\n",
      " 20  oecd         41 non-null     int64  \n",
      " 21  covid        41 non-null     float64\n",
      " 22  high         41 non-null     int64  \n",
      " 23  covid25      41 non-null     float64\n",
      "dtypes: float64(14), int64(7), object(3)\n",
      "memory usage: 7.8+ KB\n",
      "<class 'pandas.core.frame.DataFrame'>\n",
      "RangeIndex: 21689 entries, 0 to 21688\n",
      "Data columns (total 19 columns):\n",
      " #   Column                       Non-Null Count  Dtype  \n",
      "---  ------                       --------------  -----  \n",
      " 0   location_key                 21688 non-null  object \n",
      " 1   population                   21659 non-null  float64\n",
      " 2   population_male              17607 non-null  float64\n",
      " 3   population_female            17607 non-null  float64\n",
      " 4   population_rural             213 non-null    float64\n",
      " 5   population_urban             213 non-null    float64\n",
      " 6   population_largest_city      152 non-null    float64\n",
      " 7   population_clustered         121 non-null    float64\n",
      " 8   population_density           1192 non-null   float64\n",
      " 9   human_development_index      5738 non-null   float64\n",
      " 10  population_age_00_09         17249 non-null  float64\n",
      " 11  population_age_10_19         17248 non-null  float64\n",
      " 12  population_age_20_29         17248 non-null  float64\n",
      " 13  population_age_30_39         17256 non-null  float64\n",
      " 14  population_age_40_49         17250 non-null  float64\n",
      " 15  population_age_50_59         17232 non-null  float64\n",
      " 16  population_age_60_69         17214 non-null  float64\n",
      " 17  population_age_70_79         17127 non-null  float64\n",
      " 18  population_age_80_and_older  16960 non-null  float64\n",
      "dtypes: float64(18), object(1)\n",
      "memory usage: 3.1+ MB\n",
      "<class 'pandas.core.frame.DataFrame'>\n",
      "Index: 20905 entries, AD to ZW\n",
      "Data columns (total 5 columns):\n",
      " #   Column                Non-Null Count  Dtype  \n",
      "---  ------                --------------  -----  \n",
      " 0   date                  20905 non-null  object \n",
      " 1   cumulative_confirmed  20523 non-null  float64\n",
      " 2   cumulative_deceased   18889 non-null  float64\n",
      " 3   cumulative_recovered  9621 non-null   float64\n",
      " 4   cumulative_tested     7420 non-null   float64\n",
      "dtypes: float64(4), object(1)\n",
      "memory usage: 979.9+ KB\n",
      "<class 'pandas.core.frame.DataFrame'>\n",
      "Int64Index: 209 entries, 0 to 3503\n",
      "Data columns (total 14 columns):\n",
      " #   Column                                Non-Null Count  Dtype  \n",
      "---  ------                                --------------  -----  \n",
      " 0   location_key                          209 non-null    object \n",
      " 1   life_expectancy                       204 non-null    float64\n",
      " 2   smoking_prevalence                    145 non-null    float64\n",
      " 3   diabetes_prevalence                   208 non-null    float64\n",
      " 4   infant_mortality_rate                 192 non-null    float64\n",
      " 5   adult_male_mortality_rate             188 non-null    float64\n",
      " 6   adult_female_mortality_rate           188 non-null    float64\n",
      " 7   pollution_mortality_rate              182 non-null    float64\n",
      " 8   comorbidity_mortality_rate            182 non-null    float64\n",
      " 9   hospital_beds_per_1000                25 non-null     float64\n",
      " 10  nurses_per_1000                       179 non-null    float64\n",
      " 11  physicians_per_1000                   163 non-null    float64\n",
      " 12  health_expenditure_usd                185 non-null    float64\n",
      " 13  out_of_pocket_health_expenditure_usd  185 non-null    float64\n",
      "dtypes: float64(13), object(1)\n",
      "memory usage: 24.5+ KB\n",
      "<class 'pandas.core.frame.DataFrame'>\n",
      "RangeIndex: 2545118 entries, 0 to 2545117\n",
      "Data columns (total 32 columns):\n",
      " #   Column                                         Dtype  \n",
      "---  ------                                         -----  \n",
      " 0   date                                           object \n",
      " 1   location_key                                   object \n",
      " 2   new_persons_vaccinated                         float64\n",
      " 3   cumulative_persons_vaccinated                  float64\n",
      " 4   new_persons_fully_vaccinated                   float64\n",
      " 5   cumulative_persons_fully_vaccinated            float64\n",
      " 6   new_vaccine_doses_administered                 float64\n",
      " 7   cumulative_vaccine_doses_administered          float64\n",
      " 8   new_persons_vaccinated_pfizer                  float64\n",
      " 9   cumulative_persons_vaccinated_pfizer           float64\n",
      " 10  new_persons_fully_vaccinated_pfizer            float64\n",
      " 11  cumulative_persons_fully_vaccinated_pfizer     float64\n",
      " 12  new_vaccine_doses_administered_pfizer          float64\n",
      " 13  cumulative_vaccine_doses_administered_pfizer   float64\n",
      " 14  new_persons_vaccinated_moderna                 float64\n",
      " 15  cumulative_persons_vaccinated_moderna          float64\n",
      " 16  new_persons_fully_vaccinated_moderna           float64\n",
      " 17  cumulative_persons_fully_vaccinated_moderna    float64\n",
      " 18  new_vaccine_doses_administered_moderna         float64\n",
      " 19  cumulative_vaccine_doses_administered_moderna  float64\n",
      " 20  new_persons_vaccinated_janssen                 float64\n",
      " 21  cumulative_persons_vaccinated_janssen          float64\n",
      " 22  new_persons_fully_vaccinated_janssen           float64\n",
      " 23  cumulative_persons_fully_vaccinated_janssen    float64\n",
      " 24  new_vaccine_doses_administered_janssen         float64\n",
      " 25  cumulative_vaccine_doses_administered_janssen  float64\n",
      " 26  new_persons_vaccinated_sinovac                 float64\n",
      " 27  total_persons_vaccinated_sinovac               float64\n",
      " 28  new_persons_fully_vaccinated_sinovac           float64\n",
      " 29  total_persons_fully_vaccinated_sinovac         float64\n",
      " 30  new_vaccine_doses_administered_sinovac         float64\n",
      " 31  total_vaccine_doses_administered_sinovac       float64\n",
      "dtypes: float64(30), object(2)\n",
      "memory usage: 621.4+ MB\n",
      "<class 'pandas.core.frame.DataFrame'>\n",
      "RangeIndex: 228 entries, 0 to 227\n",
      "Data columns (total 50 columns):\n",
      " #   Column                                   Non-Null Count  Dtype \n",
      "---  ------                                   --------------  ----- \n",
      " 0   Real GDP growth (Annual percent change)  228 non-null    object\n",
      " 1   1980                                     228 non-null    object\n",
      " 2   1981                                     228 non-null    object\n",
      " 3   1982                                     228 non-null    object\n",
      " 4   1983                                     228 non-null    object\n",
      " 5   1984                                     228 non-null    object\n",
      " 6   1985                                     228 non-null    object\n",
      " 7   1986                                     228 non-null    object\n",
      " 8   1987                                     228 non-null    object\n",
      " 9   1988                                     228 non-null    object\n",
      " 10  1989                                     228 non-null    object\n",
      " 11  1990                                     228 non-null    object\n",
      " 12  1991                                     228 non-null    object\n",
      " 13  1992                                     228 non-null    object\n",
      " 14  1993                                     228 non-null    object\n",
      " 15  1994                                     228 non-null    object\n",
      " 16  1995                                     228 non-null    object\n",
      " 17  1996                                     228 non-null    object\n",
      " 18  1997                                     228 non-null    object\n",
      " 19  1998                                     228 non-null    object\n",
      " 20  1999                                     228 non-null    object\n",
      " 21  2000                                     228 non-null    object\n",
      " 22  2001                                     228 non-null    object\n",
      " 23  2002                                     228 non-null    object\n",
      " 24  2003                                     228 non-null    object\n",
      " 25  2004                                     228 non-null    object\n",
      " 26  2005                                     228 non-null    object\n",
      " 27  2006                                     228 non-null    object\n",
      " 28  2007                                     228 non-null    object\n",
      " 29  2008                                     228 non-null    object\n",
      " 30  2009                                     228 non-null    object\n",
      " 31  2010                                     228 non-null    object\n",
      " 32  2011                                     228 non-null    object\n",
      " 33  2012                                     228 non-null    object\n",
      " 34  2013                                     228 non-null    object\n",
      " 35  2014                                     228 non-null    object\n",
      " 36  2015                                     228 non-null    object\n",
      " 37  2016                                     228 non-null    object\n",
      " 38  2017                                     228 non-null    object\n",
      " 39  2018                                     228 non-null    object\n",
      " 40  2019                                     228 non-null    object\n",
      " 41  2020                                     228 non-null    object\n",
      " 42  2021                                     228 non-null    object\n",
      " 43  2022                                     228 non-null    object\n",
      " 44  2023                                     228 non-null    object\n",
      " 45  2024                                     228 non-null    object\n",
      " 46  2025                                     228 non-null    object\n",
      " 47  2026                                     228 non-null    object\n",
      " 48  2027                                     228 non-null    object\n",
      " 49  2028                                     228 non-null    object\n",
      "dtypes: object(50)\n",
      "memory usage: 89.2+ KB\n"
     ]
    }
   ],
   "source": [
    "learn.info()\n",
    "demos.info() \n",
    "epi.info()\n",
    "health.info() \n",
    "vacc.info()\n",
    "gdp.info()"
   ]
  },
  {
   "cell_type": "markdown",
   "id": "87cca1d0",
   "metadata": {},
   "source": [
    "View Dataframes and Make Note of Redundant Variables within Datasets and Between Datasets"
   ]
  },
  {
   "cell_type": "code",
   "execution_count": null,
   "id": "05878f87",
   "metadata": {},
   "outputs": [],
   "source": [
    "# Redundant information: deaths, gdp, vac, loggdp, logweeks, weeks2, pop, hlo25, covid25\n",
    "learn.head()"
   ]
  },
  {
   "cell_type": "code",
   "execution_count": null,
   "id": "3383d6d7",
   "metadata": {},
   "outputs": [],
   "source": [
    "# Redundant information: Shows total country data, and then breaks down some countries by region or province. Need to reduce to whole country data only.\n",
    "demos.head()"
   ]
  },
  {
   "cell_type": "code",
   "execution_count": null,
   "id": "365a3064",
   "metadata": {},
   "outputs": [],
   "source": [
    "# Needs to be reduced down to largest cummulative total for each country\n",
    "epi.head()"
   ]
  },
  {
   "cell_type": "code",
   "execution_count": null,
   "id": "200fefeb",
   "metadata": {},
   "outputs": [],
   "source": [
    "# Need to reduce down to cummulative country totals only. Some have additional region information.\n",
    "health.head()"
   ]
  },
  {
   "cell_type": "code",
   "execution_count": null,
   "id": "cbd281bb",
   "metadata": {},
   "outputs": [],
   "source": [
    "# Times series data needs to be reduced to maximum cummulative numbers.\n",
    "vacc.head()"
   ]
  },
  {
   "cell_type": "code",
   "execution_count": 60,
   "id": "2632e731",
   "metadata": {},
   "outputs": [
    {
     "data": {
      "text/html": [
       "<div>\n",
       "<style scoped>\n",
       "    .dataframe tbody tr th:only-of-type {\n",
       "        vertical-align: middle;\n",
       "    }\n",
       "\n",
       "    .dataframe tbody tr th {\n",
       "        vertical-align: top;\n",
       "    }\n",
       "\n",
       "    .dataframe thead th {\n",
       "        text-align: right;\n",
       "    }\n",
       "</style>\n",
       "<table border=\"1\" class=\"dataframe\">\n",
       "  <thead>\n",
       "    <tr style=\"text-align: right;\">\n",
       "      <th></th>\n",
       "      <th>Real GDP growth (Annual percent change)</th>\n",
       "      <th>1980</th>\n",
       "      <th>1981</th>\n",
       "      <th>1982</th>\n",
       "      <th>1983</th>\n",
       "      <th>1984</th>\n",
       "      <th>1985</th>\n",
       "      <th>1986</th>\n",
       "      <th>1987</th>\n",
       "      <th>1988</th>\n",
       "      <th>...</th>\n",
       "      <th>2019</th>\n",
       "      <th>2020</th>\n",
       "      <th>2021</th>\n",
       "      <th>2022</th>\n",
       "      <th>2023</th>\n",
       "      <th>2024</th>\n",
       "      <th>2025</th>\n",
       "      <th>2026</th>\n",
       "      <th>2027</th>\n",
       "      <th>2028</th>\n",
       "    </tr>\n",
       "  </thead>\n",
       "  <tbody>\n",
       "    <tr>\n",
       "      <th>0</th>\n",
       "      <td>Afghanistan</td>\n",
       "      <td>no data</td>\n",
       "      <td>no data</td>\n",
       "      <td>no data</td>\n",
       "      <td>no data</td>\n",
       "      <td>no data</td>\n",
       "      <td>no data</td>\n",
       "      <td>no data</td>\n",
       "      <td>no data</td>\n",
       "      <td>no data</td>\n",
       "      <td>...</td>\n",
       "      <td>3.9</td>\n",
       "      <td>-2.4</td>\n",
       "      <td>-20.7</td>\n",
       "      <td>no data</td>\n",
       "      <td>no data</td>\n",
       "      <td>no data</td>\n",
       "      <td>no data</td>\n",
       "      <td>no data</td>\n",
       "      <td>no data</td>\n",
       "      <td>no data</td>\n",
       "    </tr>\n",
       "    <tr>\n",
       "      <th>1</th>\n",
       "      <td>Albania</td>\n",
       "      <td>2.7</td>\n",
       "      <td>5.7</td>\n",
       "      <td>2.9</td>\n",
       "      <td>1.1</td>\n",
       "      <td>2</td>\n",
       "      <td>-1.5</td>\n",
       "      <td>5.6</td>\n",
       "      <td>-0.8</td>\n",
       "      <td>-1.4</td>\n",
       "      <td>...</td>\n",
       "      <td>2.1</td>\n",
       "      <td>-3.3</td>\n",
       "      <td>8.9</td>\n",
       "      <td>4.8</td>\n",
       "      <td>3.6</td>\n",
       "      <td>3.3</td>\n",
       "      <td>3.4</td>\n",
       "      <td>3.5</td>\n",
       "      <td>3.5</td>\n",
       "      <td>3.5</td>\n",
       "    </tr>\n",
       "    <tr>\n",
       "      <th>2</th>\n",
       "      <td>Algeria</td>\n",
       "      <td>-5.4</td>\n",
       "      <td>3</td>\n",
       "      <td>6.4</td>\n",
       "      <td>5.4</td>\n",
       "      <td>5.6</td>\n",
       "      <td>5.6</td>\n",
       "      <td>-0.2</td>\n",
       "      <td>-0.7</td>\n",
       "      <td>-1.9</td>\n",
       "      <td>...</td>\n",
       "      <td>1</td>\n",
       "      <td>-5.1</td>\n",
       "      <td>3.4</td>\n",
       "      <td>3.2</td>\n",
       "      <td>3.8</td>\n",
       "      <td>3.1</td>\n",
       "      <td>2.5</td>\n",
       "      <td>1.9</td>\n",
       "      <td>1.7</td>\n",
       "      <td>1.7</td>\n",
       "    </tr>\n",
       "    <tr>\n",
       "      <th>3</th>\n",
       "      <td>Andorra</td>\n",
       "      <td>no data</td>\n",
       "      <td>no data</td>\n",
       "      <td>no data</td>\n",
       "      <td>no data</td>\n",
       "      <td>no data</td>\n",
       "      <td>no data</td>\n",
       "      <td>no data</td>\n",
       "      <td>no data</td>\n",
       "      <td>no data</td>\n",
       "      <td>...</td>\n",
       "      <td>2</td>\n",
       "      <td>-11.2</td>\n",
       "      <td>8.3</td>\n",
       "      <td>8.8</td>\n",
       "      <td>2.1</td>\n",
       "      <td>1.5</td>\n",
       "      <td>1.5</td>\n",
       "      <td>1.5</td>\n",
       "      <td>1.5</td>\n",
       "      <td>1.5</td>\n",
       "    </tr>\n",
       "    <tr>\n",
       "      <th>4</th>\n",
       "      <td>Angola</td>\n",
       "      <td>2.4</td>\n",
       "      <td>-4.4</td>\n",
       "      <td>0</td>\n",
       "      <td>4.2</td>\n",
       "      <td>6</td>\n",
       "      <td>3.5</td>\n",
       "      <td>2.9</td>\n",
       "      <td>4.1</td>\n",
       "      <td>6.1</td>\n",
       "      <td>...</td>\n",
       "      <td>-0.7</td>\n",
       "      <td>-5.6</td>\n",
       "      <td>1.2</td>\n",
       "      <td>3</td>\n",
       "      <td>1.3</td>\n",
       "      <td>3.3</td>\n",
       "      <td>3.4</td>\n",
       "      <td>3.5</td>\n",
       "      <td>3.5</td>\n",
       "      <td>3.6</td>\n",
       "    </tr>\n",
       "  </tbody>\n",
       "</table>\n",
       "<p>5 rows × 50 columns</p>\n",
       "</div>"
      ],
      "text/plain": [
       "  Real GDP growth (Annual percent change)     1980     1981     1982     1983  \\\n",
       "0                             Afghanistan  no data  no data  no data  no data   \n",
       "1                                 Albania      2.7      5.7      2.9      1.1   \n",
       "2                                 Algeria     -5.4        3      6.4      5.4   \n",
       "3                                 Andorra  no data  no data  no data  no data   \n",
       "4                                  Angola      2.4     -4.4        0      4.2   \n",
       "\n",
       "      1984     1985     1986     1987     1988  ...  2019   2020   2021  \\\n",
       "0  no data  no data  no data  no data  no data  ...   3.9   -2.4  -20.7   \n",
       "1        2     -1.5      5.6     -0.8     -1.4  ...   2.1   -3.3    8.9   \n",
       "2      5.6      5.6     -0.2     -0.7     -1.9  ...     1   -5.1    3.4   \n",
       "3  no data  no data  no data  no data  no data  ...     2  -11.2    8.3   \n",
       "4        6      3.5      2.9      4.1      6.1  ...  -0.7   -5.6    1.2   \n",
       "\n",
       "      2022     2023     2024     2025     2026     2027     2028  \n",
       "0  no data  no data  no data  no data  no data  no data  no data  \n",
       "1      4.8      3.6      3.3      3.4      3.5      3.5      3.5  \n",
       "2      3.2      3.8      3.1      2.5      1.9      1.7      1.7  \n",
       "3      8.8      2.1      1.5      1.5      1.5      1.5      1.5  \n",
       "4        3      1.3      3.3      3.4      3.5      3.5      3.6  \n",
       "\n",
       "[5 rows x 50 columns]"
      ]
     },
     "execution_count": 60,
     "metadata": {},
     "output_type": "execute_result"
    }
   ],
   "source": [
    "# Needs to be trimmed to years of pandemic and forecast only\n",
    "gdp.head()"
   ]
  },
  {
   "cell_type": "markdown",
   "id": "9805c026",
   "metadata": {},
   "source": [
    "Updating Dataframes to Reflect only Necessary Data"
   ]
  },
  {
   "cell_type": "markdown",
   "id": "f0951063",
   "metadata": {},
   "source": [
    "Learning data needs some columns dropped."
   ]
  },
  {
   "cell_type": "code",
   "execution_count": null,
   "id": "e826acdf",
   "metadata": {},
   "outputs": [],
   "source": [
    "learn = learn.drop(columns = ['deaths', 'gdp', 'vac', 'loggdp', 'logweeks', 'weeks2', 'pop', 'hlo25', 'covid25'])\n",
    "learn.head()"
   ]
  },
  {
   "cell_type": "markdown",
   "id": "33a31ba6",
   "metadata": {},
   "source": [
    "Demographics data needs to be reduced to full country stats only. Delete regional data."
   ]
  },
  {
   "cell_type": "code",
   "execution_count": null,
   "id": "4707acd0",
   "metadata": {},
   "outputs": [],
   "source": [
    "demos = demos[demos['location_key'].str.len() == 2]"
   ]
  },
  {
   "cell_type": "code",
   "execution_count": null,
   "id": "b715b28a",
   "metadata": {},
   "outputs": [],
   "source": [
    "demos.head()"
   ]
  },
  {
   "cell_type": "code",
   "execution_count": null,
   "id": "90bcb427",
   "metadata": {},
   "outputs": [],
   "source": [
    "demos['location_key'].value_counts()"
   ]
  },
  {
   "cell_type": "markdown",
   "id": "dd353d35",
   "metadata": {},
   "source": [
    "COVID Epidemiology data needs to be reduced to final pandemic numbers, i.e., the maximum cummulative totals."
   ]
  },
  {
   "cell_type": "code",
   "execution_count": null,
   "id": "da1df54b",
   "metadata": {},
   "outputs": [],
   "source": [
    "# Drop \"new\" columns and retain only cummulative columns\n",
    "epi = epi.drop(columns = ['new_confirmed', 'new_deceased', 'new_recovered', 'new_tested'])\n"
   ]
  },
  {
   "cell_type": "code",
   "execution_count": null,
   "id": "34100a54",
   "metadata": {},
   "outputs": [],
   "source": [
    "# Drop regional country information and retain only primary country codes\n",
    "epi = epi[epi['location_key'].str.len() == 2]"
   ]
  },
  {
   "cell_type": "code",
   "execution_count": null,
   "id": "207dc0d8",
   "metadata": {},
   "outputs": [],
   "source": [
    "# Find max value, or most recent date for each country\n",
    "epi = epi.groupby(by = 'location_key').max()\n",
    "epi.head()"
   ]
  },
  {
   "cell_type": "code",
   "execution_count": null,
   "id": "2fe53097",
   "metadata": {},
   "outputs": [],
   "source": [
    "epi.info()"
   ]
  },
  {
   "cell_type": "markdown",
   "id": "0b3d12be",
   "metadata": {},
   "source": [
    "Health data needs to be reduced to primary country ID code only. Remove regional country information."
   ]
  },
  {
   "cell_type": "code",
   "execution_count": null,
   "id": "53eb4a30",
   "metadata": {},
   "outputs": [],
   "source": [
    "health = health[health['location_key'].str.len() == 2]\n",
    "health.head()"
   ]
  },
  {
   "cell_type": "code",
   "execution_count": null,
   "id": "b6a87a46",
   "metadata": {},
   "outputs": [],
   "source": [
    "health.info()"
   ]
  },
  {
   "cell_type": "markdown",
   "id": "68b51e92",
   "metadata": {},
   "source": [
    "Vaccine information needs to be reduced to cummulative numbers for each primary country code."
   ]
  },
  {
   "cell_type": "code",
   "execution_count": null,
   "id": "d1e25da3",
   "metadata": {},
   "outputs": [],
   "source": [
    "vacc = vacc[vacc['location_key'].str.len() == 2]\n",
    "vacc.head()"
   ]
  },
  {
   "cell_type": "code",
   "execution_count": null,
   "id": "c0b06b39",
   "metadata": {},
   "outputs": [],
   "source": [
    "vacc = vacc.groupby(by = 'location_key').max()\n",
    "vacc.head()"
   ]
  },
  {
   "cell_type": "markdown",
   "id": "b8c92529",
   "metadata": {},
   "source": [
    "GDP Information Needs to be reduced to Pandemic Years and Future Forecasts Only: 2019 onward"
   ]
  },
  {
   "cell_type": "code",
   "execution_count": null,
   "id": "ef3332c6",
   "metadata": {},
   "outputs": [],
   "source": [
    "gdp = gdp.drop([0:40])\n",
    "gdp.head()"
   ]
  },
  {
   "cell_type": "markdown",
   "id": "8145859d",
   "metadata": {},
   "source": [
    "Assessing Country IDs:\n",
    "Examine the number of countries available in each dataset and the format of the country IDs. Some are abbreviated and some are spelled out. "
   ]
  },
  {
   "cell_type": "code",
   "execution_count": null,
   "id": "fa2119d9",
   "metadata": {},
   "outputs": [],
   "source": [
    "# String names for countries\n",
    "# 41 countries\n",
    "learn['country'].value_counts()\n"
   ]
  },
  {
   "cell_type": "code",
   "execution_count": null,
   "id": "9ac1852d",
   "metadata": {},
   "outputs": [],
   "source": [
    "# Abbreviations for countries\n",
    "demos['location_key'].value_counts()\n"
   ]
  },
  {
   "cell_type": "code",
   "execution_count": null,
   "id": "de043c4e",
   "metadata": {},
   "outputs": [],
   "source": [
    "# Abbreviations for countries\n",
    "epi['location_key'].value_counts()\n"
   ]
  },
  {
   "cell_type": "code",
   "execution_count": null,
   "id": "1ad06181",
   "metadata": {},
   "outputs": [],
   "source": [
    "# Abbreviations for countries\n",
    "health['location_key'].value_counts()\n"
   ]
  },
  {
   "cell_type": "code",
   "execution_count": null,
   "id": "62a34b30",
   "metadata": {},
   "outputs": [],
   "source": [
    "# Abbreviations for countries\n",
    "vacc['location_key'].value_counts()\n"
   ]
  },
  {
   "cell_type": "code",
   "execution_count": null,
   "id": "d83e62d9",
   "metadata": {},
   "outputs": [],
   "source": [
    "# Country names as strings\n",
    "gdp['Real GDP growth (Annual percent change)'].value_counts()"
   ]
  },
  {
   "cell_type": "markdown",
   "id": "94934d4d",
   "metadata": {},
   "source": [
    "GDP and learning loss need to be updated to abbreviations."
   ]
  },
  {
   "cell_type": "code",
   "execution_count": null,
   "id": "db3da83b",
   "metadata": {},
   "outputs": [],
   "source": []
  },
  {
   "cell_type": "markdown",
   "id": "e52a9e9f",
   "metadata": {},
   "source": [
    "A Primary Table needs to be made with all country names corresponding to country abbreviation IDs.\n"
   ]
  },
  {
   "cell_type": "code",
   "execution_count": null,
   "id": "bb8835f3",
   "metadata": {},
   "outputs": [],
   "source": []
  }
 ],
 "metadata": {
  "kernelspec": {
   "display_name": "Python 3 (ipykernel)",
   "language": "python",
   "name": "python3"
  },
  "language_info": {
   "codemirror_mode": {
    "name": "ipython",
    "version": 3
   },
   "file_extension": ".py",
   "mimetype": "text/x-python",
   "name": "python",
   "nbconvert_exporter": "python",
   "pygments_lexer": "ipython3",
   "version": "3.9.13"
  }
 },
 "nbformat": 4,
 "nbformat_minor": 5
}
